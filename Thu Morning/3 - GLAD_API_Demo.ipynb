{
 "cells": [
  {
   "cell_type": "markdown",
   "id": "a29ff5cd",
   "metadata": {},
   "source": [
    "Copied from https://bitbucket.org/okusche/glad_api_demo/src/brightcon2022/\n",
    "\n",
    "**Conference Notebook Kernel: `bw25`**",
    "\n",
    "# GLAD API Demo\n",
    "\n",
    "This demos how to query the GLAD index and load some data directly from online nodes into our notebook.\n",
    "\n",
    "Note:\n",
    "- This currently works only on nodes which do not require authentication.\n",
    "- This works only for data that in ILCD format **and** is available publicly **and** free of charge."
   ]
  },
  {
   "cell_type": "code",
   "execution_count": null,
   "id": "8f0d3335",
   "metadata": {},
   "outputs": [],
   "source": [
    "import json\n",
    "import requests\n",
    "import pandas as pd\n",
    "\n",
    "# GLAD API base URL\n",
    "base_url = 'https://www.globallcadataaccess.org/api/v1/'"
   ]
  },
  {
   "cell_type": "markdown",
   "id": "aedd9ec9",
   "metadata": {},
   "source": [
    "### We need an API key to access the API which we obtain from our user account there\n",
    "(this one actually works for your convenience)"
   ]
  },
  {
   "cell_type": "code",
   "execution_count": null,
   "id": "4417044c",
   "metadata": {},
   "outputs": [],
   "source": [
    "api_key = '42ef8e1ad9e092071ce7004c1ca87574'"
   ]
  },
  {
   "cell_type": "markdown",
   "id": "b7fcfee5",
   "metadata": {},
   "source": [
    "# first, we send some request to see whether everything works as it's supposed to"
   ]
  },
  {
   "cell_type": "code",
   "execution_count": null,
   "id": "72787170",
   "metadata": {},
   "outputs": [],
   "source": [
    "try:\n",
    "    url = base_url + 'search?query=maize'\n",
    "    req_headers = {\n",
    "        'api-key': api_key\n",
    "    }\n",
    "    response = requests.get(url, headers = req_headers)\n",
    "    result = response.json()\n",
    "    print(\"total results: \", result['resultInfo']['totalCount'], \"\\n\")\n",
    "    print(\"response body:\\n\", response.text[:2000] + \"<snip>\")\n",
    "except:\n",
    "    print(\"Invalid URL or some error occured while making the request to the specified URL\")"
   ]
  },
  {
   "cell_type": "markdown",
   "id": "eb5d6de2",
   "metadata": {},
   "source": [
    "### now let's filter for all the stuff that is\n",
    "\n",
    "- available online (`publiclyAccessible=true`)\n",
    "- available free of charge (`free=true`)\n",
    "- in ILCD format (`format=ILCD`)"
   ]
  },
  {
   "cell_type": "code",
   "execution_count": null,
   "id": "74aeda71",
   "metadata": {},
   "outputs": [],
   "source": [
    "try:\n",
    "    url = base_url + 'search?free=true&publiclyAccessible=true&format=ILCD'\n",
    "    req_headers = {\n",
    "        'api-key': api_key\n",
    "    }\n",
    "    response = requests.get(url, headers = req_headers)\n",
    "    result = response.json()\n",
    "    print(\"total results: \", result['resultInfo']['totalCount'])\n",
    "    print(\"first result's process name:\\n\", result['data'][0]['name'])\n",
    "except:\n",
    "    print(\"Invalid URL or some error occured while making the request to the specified URL\")"
   ]
  },
  {
   "cell_type": "markdown",
   "id": "28cafeff",
   "metadata": {},
   "source": [
    "### let's examine where the results come from"
   ]
  },
  {
   "cell_type": "code",
   "execution_count": null,
   "id": "ed46a67e",
   "metadata": {},
   "outputs": [],
   "source": [
    "aggregations = result['aggregations']\n",
    "\n",
    "\n",
    "def find_aggregation(data, aggregation_name):\n",
    "    return list(filter(lambda x: x['name'] == aggregation_name, data))\n",
    "\n",
    "\n",
    "def show_aggregation(aggregation_name):\n",
    "    agg = find_aggregation(aggregations, aggregation_name)\n",
    "    print(\"no. of results from \", aggregation_name)\n",
    "    print(\"-\" * (21 + len(aggregation_name)))      \n",
    "    for i in agg[0]['entries']:\n",
    "        print(i['key'], i['count'])\n",
    "    print(\"\")\n",
    "\n",
    "\n",
    "agg_dataproviders = find_aggregation(aggregations, 'dataprovider')\n",
    "print(\"data providers aggregation:\\n\", agg_dataproviders, \"\\n\")\n",
    "\n",
    "show_aggregation('dataprovider')\n",
    "show_aggregation('location')\n",
    "show_aggregation('supportedNomenclatures')"
   ]
  },
  {
   "cell_type": "markdown",
   "id": "f3a53dee",
   "metadata": {},
   "source": [
    "### let's do the same again with a simple query term"
   ]
  },
  {
   "cell_type": "code",
   "execution_count": null,
   "id": "bc5c5bb0",
   "metadata": {},
   "outputs": [],
   "source": [
    "try:\n",
    "    url = base_url + 'search?free=true&publiclyAccessible=true&format=ILCD&query=steel'\n",
    "    req_headers = {\n",
    "        'api-key': api_key\n",
    "    }\n",
    "    response = requests.get(url, headers = req_headers)\n",
    "    result = response.json()\n",
    "    print(\"total results: \", result['resultInfo']['totalCount'])\n",
    "    print(\"first result's process name:\\n\", result['data'][0]['name'])\n",
    "except:\n",
    "    print(\"Invalid URL or some error occured while making the request to the specified URL\")\n",
    "    \n",
    "aggregations = result['aggregations']\n",
    "\n",
    "agg_dataproviders = find_aggregation(aggregations, 'dataprovider')\n",
    "print(\"data providers aggregation:\\n\", agg_dataproviders, \"\\n\")\n",
    "\n",
    "show_aggregation('dataprovider')\n",
    "show_aggregation('location')\n",
    "show_aggregation('supportedNomenclatures')"
   ]
  },
  {
   "cell_type": "markdown",
   "id": "bc4b9be1",
   "metadata": {},
   "source": [
    "### now we convert the result set into a dataframe and reorder it nicely"
   ]
  },
  {
   "cell_type": "code",
   "execution_count": null,
   "id": "027c9615",
   "metadata": {},
   "outputs": [],
   "source": [
    "df = pd.DataFrame.from_dict(pd.json_normalize(result['data']), orient='columns')\n",
    "df = pd.DataFrame(df, columns=['name', 'location', 'category', 'dataprovider', 'dataSetUrl', 'supportedNomenclatures', 'reviewType', 'reviewers', 'description'])\n",
    "df"
   ]
  },
  {
   "cell_type": "markdown",
   "id": "689a6994",
   "metadata": {},
   "source": [
    "### retrieve the first process dataset in original XML format (the process dataset only)"
   ]
  },
  {
   "cell_type": "code",
   "execution_count": null,
   "id": "c122e763",
   "metadata": {},
   "outputs": [],
   "source": [
    "ds_url = df.at[0,'dataSetUrl']\n",
    "print(\"retrieving \" + ds_url)\n",
    "response = requests.get(ds_url)\n",
    "xml_dataset = response.text\n",
    "print(xml_dataset[:2000] + \"<snip>\")"
   ]
  },
  {
   "cell_type": "markdown",
   "id": "6b435e1b",
   "metadata": {},
   "source": [
    "### retrieve the process dataset in JSON representation"
   ]
  },
  {
   "cell_type": "code",
   "execution_count": null,
   "id": "ea573657",
   "metadata": {},
   "outputs": [],
   "source": [
    "ds_url_json = ds_url.replace('format=xml', 'format=json')\n",
    "print(\"retrieving \" + ds_url_json)\n",
    "response = requests.get(ds_url_json)\n",
    "json_dataset = response.text\n",
    "print(json_dataset[:2000] + \"<snip>\")"
   ]
  },
  {
   "cell_type": "markdown",
   "id": "cda1fba4",
   "metadata": {},
   "source": [
    "### retrieve the process dataset in JSON representation and extended view"
   ]
  },
  {
   "cell_type": "code",
   "execution_count": null,
   "id": "921e9cad",
   "metadata": {},
   "outputs": [],
   "source": [
    "ds_url_json_ext = ds_url_json + '&view=extended'\n",
    "print(\"retrieving \" + ds_url_json_ext)\n",
    "response = requests.get(ds_url_json_ext)\n",
    "json_dataset_ext = response.text\n",
    "print(json_dataset_ext)"
   ]
  },
  {
   "cell_type": "markdown",
   "id": "0d68ef91",
   "metadata": {},
   "source": [
    "### now we extract the exchanges into a separate data frame"
   ]
  },
  {
   "cell_type": "code",
   "execution_count": null,
   "id": "4aba235e",
   "metadata": {
    "scrolled": true
   },
   "outputs": [],
   "source": [
    "process = response.json()\n",
    "dfex = pd.DataFrame.from_dict(pd.json_normalize(process['exchanges'], record_path='exchange'), orient='columns')\n",
    "#dfex"
   ]
  },
  {
   "cell_type": "code",
   "execution_count": null,
   "id": "3c93a9b2",
   "metadata": {},
   "outputs": [],
   "source": [
    "# clean up\n",
    "dfex.drop(['referenceToFlowDataSet.type', 'referenceToFlowDataSet.uri'], axis=1, inplace=True)\n",
    "dfex.rename(columns = {'referenceToFlowDataSet.shortDescription':'flow name'}, inplace=True)\n",
    "dfex['flow name'] = dfex['flow name'].apply(lambda x: x[0])\n",
    "dfex['flow name'] = dfex['flow name'].apply(lambda x: x['value'])\n",
    "dfex"
   ]
  }
 ],
 "metadata": {
  "kernelspec": {
   "display_name": "Python 3 (ipykernel)",
   "language": "python",
   "name": "python3"
  },
  "language_info": {
   "codemirror_mode": {
    "name": "ipython",
    "version": 3
   },
   "file_extension": ".py",
   "mimetype": "text/x-python",
   "name": "python",
   "nbconvert_exporter": "python",
   "pygments_lexer": "ipython3",
   "version": "3.9.7"
  }
 },
 "nbformat": 4,
 "nbformat_minor": 5
}
