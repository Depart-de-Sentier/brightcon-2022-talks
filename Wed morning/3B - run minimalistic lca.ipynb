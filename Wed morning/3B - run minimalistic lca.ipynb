{
 "cells": [
  {
   "cell_type": "markdown",
   "metadata": {},
   "source": [
    "Adapted from https://github.com/astudillo20lca/hypercognitive\n",
    "\n",
    "**Conference Notebook Kernel: `bw25`**"
   ]
  },
  {
   "cell_type": "code",
   "execution_count": 1,
   "metadata": {},
   "outputs": [],
   "source": [
    "from pathlib import Path\n",
    "from fs.zipfs import ZipFS\n",
    "\n",
    "import numpy as np\n",
    "import pandas as pd\n",
    "\n",
    "import bw_processing\n",
    "import bw2calc as bwc"
   ]
  },
  {
   "cell_type": "markdown",
   "metadata": {},
   "source": [
    "locate the datapackages"
   ]
  },
  {
   "cell_type": "code",
   "execution_count": 2,
   "metadata": {},
   "outputs": [],
   "source": [
    "datapackges = {path.stem.split('.')[0]:path for path in Path.cwd().glob('*.zip')}"
   ]
  },
  {
   "cell_type": "code",
   "execution_count": 3,
   "metadata": {},
   "outputs": [
    {
     "data": {
      "text/plain": [
       "dict_keys(['ipccs', 'mini_biosphere', 'testdb'])"
      ]
     },
     "execution_count": 3,
     "metadata": {},
     "output_type": "execute_result"
    }
   ],
   "source": [
    "datapackges.keys()"
   ]
  },
  {
   "cell_type": "code",
   "execution_count": 4,
   "metadata": {},
   "outputs": [],
   "source": [
    "# data package with impact assessment method\n",
    "ipcc_dp = bw_processing.load_datapackage(ZipFS(datapackges['ipccs']),proxy=True)\n",
    "# data package with minimal biosphere database\n",
    "biosphere_dp = bw_processing.load_datapackage(ZipFS(datapackges['mini_biosphere']),proxy=True)\n",
    "# data package with foreground database\n",
    "test_dp = bw_processing.load_datapackage(ZipFS(datapackges['testdb']),proxy=True)"
   ]
  },
  {
   "cell_type": "code",
   "execution_count": 5,
   "metadata": {},
   "outputs": [],
   "source": [
    "metadata_foreground,_ = test_dp.get_resource('testdb_activity_metadata')"
   ]
  },
  {
   "cell_type": "code",
   "execution_count": 6,
   "metadata": {},
   "outputs": [
    {
     "data": {
      "text/html": [
       "<div>\n",
       "<style scoped>\n",
       "    .dataframe tbody tr th:only-of-type {\n",
       "        vertical-align: middle;\n",
       "    }\n",
       "\n",
       "    .dataframe tbody tr th {\n",
       "        vertical-align: top;\n",
       "    }\n",
       "\n",
       "    .dataframe thead th {\n",
       "        text-align: right;\n",
       "    }\n",
       "</style>\n",
       "<table border=\"1\" class=\"dataframe\">\n",
       "  <thead>\n",
       "    <tr style=\"text-align: right;\">\n",
       "      <th></th>\n",
       "      <th>Unnamed: 0</th>\n",
       "      <th>location</th>\n",
       "      <th>name</th>\n",
       "      <th>unit</th>\n",
       "      <th>reference product</th>\n",
       "      <th>id</th>\n",
       "    </tr>\n",
       "  </thead>\n",
       "  <tbody>\n",
       "    <tr>\n",
       "      <th>0</th>\n",
       "      <td>0</td>\n",
       "      <td>NaN</td>\n",
       "      <td>a</td>\n",
       "      <td>kilogram</td>\n",
       "      <td>NaN</td>\n",
       "      <td>70148</td>\n",
       "    </tr>\n",
       "  </tbody>\n",
       "</table>\n",
       "</div>"
      ],
      "text/plain": [
       "   Unnamed: 0  location name      unit  reference product     id\n",
       "0           0       NaN    a  kilogram                NaN  70148"
      ]
     },
     "execution_count": 6,
     "metadata": {},
     "output_type": "execute_result"
    }
   ],
   "source": [
    "metadata_foreground"
   ]
  },
  {
   "cell_type": "code",
   "execution_count": 7,
   "metadata": {},
   "outputs": [],
   "source": [
    "metadata_biosphere,_ = biosphere_dp.get_resource('mini_biosphere_activity_metadata')"
   ]
  },
  {
   "cell_type": "code",
   "execution_count": 8,
   "metadata": {},
   "outputs": [
    {
     "data": {
      "text/html": [
       "<div>\n",
       "<style scoped>\n",
       "    .dataframe tbody tr th:only-of-type {\n",
       "        vertical-align: middle;\n",
       "    }\n",
       "\n",
       "    .dataframe tbody tr th {\n",
       "        vertical-align: top;\n",
       "    }\n",
       "\n",
       "    .dataframe thead th {\n",
       "        text-align: right;\n",
       "    }\n",
       "</style>\n",
       "<table border=\"1\" class=\"dataframe\">\n",
       "  <thead>\n",
       "    <tr style=\"text-align: right;\">\n",
       "      <th></th>\n",
       "      <th>Unnamed: 0</th>\n",
       "      <th>location</th>\n",
       "      <th>name</th>\n",
       "      <th>unit</th>\n",
       "      <th>reference product</th>\n",
       "      <th>id</th>\n",
       "    </tr>\n",
       "  </thead>\n",
       "  <tbody>\n",
       "    <tr>\n",
       "      <th>0</th>\n",
       "      <td>0</td>\n",
       "      <td>GLO</td>\n",
       "      <td>Methane, fossil</td>\n",
       "      <td>kilogram</td>\n",
       "      <td>NaN</td>\n",
       "      <td>70147</td>\n",
       "    </tr>\n",
       "    <tr>\n",
       "      <th>1</th>\n",
       "      <td>1</td>\n",
       "      <td>GLO</td>\n",
       "      <td>Carbon dioxide, fossil</td>\n",
       "      <td>kilogram</td>\n",
       "      <td>NaN</td>\n",
       "      <td>70146</td>\n",
       "    </tr>\n",
       "  </tbody>\n",
       "</table>\n",
       "</div>"
      ],
      "text/plain": [
       "   Unnamed: 0 location                    name      unit  reference product  \\\n",
       "0           0      GLO         Methane, fossil  kilogram                NaN   \n",
       "1           1      GLO  Carbon dioxide, fossil  kilogram                NaN   \n",
       "\n",
       "      id  \n",
       "0  70147  \n",
       "1  70146  "
      ]
     },
     "execution_count": 8,
     "metadata": {},
     "output_type": "execute_result"
    }
   ],
   "source": [
    "metadata_biosphere"
   ]
  },
  {
   "cell_type": "code",
   "execution_count": 9,
   "metadata": {},
   "outputs": [
    {
     "data": {
      "text/plain": [
       "{'a': 70148, 'Methane, fossil': 70147, 'Carbon dioxide, fossil': 70146}"
      ]
     },
     "execution_count": 9,
     "metadata": {},
     "output_type": "execute_result"
    }
   ],
   "source": [
    "name_id_dict = { \n",
    "    **metadata_foreground.set_index('name')['id'].to_dict(),\n",
    "    **metadata_biosphere.set_index('name')['id'].to_dict()\n",
    "}\n",
    "name_id_dict"
   ]
  },
  {
   "cell_type": "code",
   "execution_count": 10,
   "metadata": {},
   "outputs": [],
   "source": [
    "lca = bwc.LCA(demand={name_id_dict['a']:1},data_objs=[ipcc_dp,biosphere_dp,test_dp])\n",
    "lca.lci()\n",
    "lca.lcia()"
   ]
  },
  {
   "cell_type": "code",
   "execution_count": 11,
   "metadata": {},
   "outputs": [
    {
     "data": {
      "text/plain": [
       "39.70000076293945"
      ]
     },
     "execution_count": 11,
     "metadata": {},
     "output_type": "execute_result"
    }
   ],
   "source": [
    "lca.score"
   ]
  },
  {
   "cell_type": "markdown",
   "metadata": {},
   "source": [
    "now imagine we get measurements for the CO2 and CH4 emissions of activity a, they could be formatted as something like this:"
   ]
  },
  {
   "cell_type": "code",
   "execution_count": 12,
   "metadata": {},
   "outputs": [],
   "source": [
    "emission_measurements = {\n",
    "('Carbon dioxide, fossil','a'):[20,30.5,10,0],\n",
    "('Methane, fossil','a'):[0,2,3,4]\n",
    "}"
   ]
  },
  {
   "cell_type": "code",
   "execution_count": 13,
   "metadata": {},
   "outputs": [
    {
     "data": {
      "text/html": [
       "<div>\n",
       "<style scoped>\n",
       "    .dataframe tbody tr th:only-of-type {\n",
       "        vertical-align: middle;\n",
       "    }\n",
       "\n",
       "    .dataframe tbody tr th {\n",
       "        vertical-align: top;\n",
       "    }\n",
       "\n",
       "    .dataframe thead tr th {\n",
       "        text-align: left;\n",
       "    }\n",
       "</style>\n",
       "<table border=\"1\" class=\"dataframe\">\n",
       "  <thead>\n",
       "    <tr>\n",
       "      <th></th>\n",
       "      <th>Carbon dioxide, fossil</th>\n",
       "      <th>Methane, fossil</th>\n",
       "    </tr>\n",
       "    <tr>\n",
       "      <th></th>\n",
       "      <th>a</th>\n",
       "      <th>a</th>\n",
       "    </tr>\n",
       "  </thead>\n",
       "  <tbody>\n",
       "    <tr>\n",
       "      <th>0</th>\n",
       "      <td>20.0</td>\n",
       "      <td>0</td>\n",
       "    </tr>\n",
       "    <tr>\n",
       "      <th>1</th>\n",
       "      <td>30.5</td>\n",
       "      <td>2</td>\n",
       "    </tr>\n",
       "    <tr>\n",
       "      <th>2</th>\n",
       "      <td>10.0</td>\n",
       "      <td>3</td>\n",
       "    </tr>\n",
       "    <tr>\n",
       "      <th>3</th>\n",
       "      <td>0.0</td>\n",
       "      <td>4</td>\n",
       "    </tr>\n",
       "  </tbody>\n",
       "</table>\n",
       "</div>"
      ],
      "text/plain": [
       "  Carbon dioxide, fossil Methane, fossil\n",
       "                       a               a\n",
       "0                   20.0               0\n",
       "1                   30.5               2\n",
       "2                   10.0               3\n",
       "3                    0.0               4"
      ]
     },
     "execution_count": 13,
     "metadata": {},
     "output_type": "execute_result"
    }
   ],
   "source": [
    "emission_measurements_df = pd.DataFrame(emission_measurements)\n",
    "emission_measurements_df"
   ]
  },
  {
   "cell_type": "code",
   "execution_count": 14,
   "metadata": {},
   "outputs": [
    {
     "data": {
      "text/plain": [
       "[(70146, 70148), (70147, 70148)]"
      ]
     },
     "execution_count": 14,
     "metadata": {},
     "output_type": "execute_result"
    }
   ],
   "source": [
    "indices = [(name_id_dict[substance],name_id_dict[activity]) for substance,activity in emission_measurements_df.columns]\n",
    "indices"
   ]
  },
  {
   "cell_type": "code",
   "execution_count": 15,
   "metadata": {},
   "outputs": [],
   "source": [
    "indices_array = np.array(indices, dtype = bw_processing.INDICES_DTYPE)"
   ]
  },
  {
   "cell_type": "code",
   "execution_count": 16,
   "metadata": {},
   "outputs": [],
   "source": [
    "emissions_iterator = (row for row in emission_measurements_df.values)"
   ]
  },
  {
   "cell_type": "markdown",
   "metadata": {},
   "source": [
    "lets update the  "
   ]
  },
  {
   "cell_type": "code",
   "execution_count": 17,
   "metadata": {},
   "outputs": [],
   "source": [
    "overwriter = bw_processing.create_datapackage()\n",
    "\n",
    "overwriter.add_dynamic_vector(\n",
    "    matrix=\"biosphere_matrix\",\n",
    "    interface=emissions_iterator,\n",
    "    indices_array=indices_array,\n",
    ")"
   ]
  },
  {
   "cell_type": "code",
   "execution_count": 18,
   "metadata": {},
   "outputs": [
    {
     "data": {
      "text/plain": [
       "20.0"
      ]
     },
     "execution_count": 18,
     "metadata": {},
     "output_type": "execute_result"
    }
   ],
   "source": [
    "lca = bwc.LCA(demand={name_id_dict['a']: 1}, data_objs=[ipcc_dp,biosphere_dp,test_dp,overwriter])\n",
    "lca.lci()\n",
    "lca.lcia()\n",
    "lca.score"
   ]
  },
  {
   "cell_type": "code",
   "execution_count": 19,
   "metadata": {},
   "outputs": [
    {
     "name": "stdout",
     "output_type": "stream",
     "text": [
      "updated score: 89.9000015258789\n",
      "updated score: 99.10000228881836\n",
      "updated score: 118.80000305175781\n",
      "sequence completed\n"
     ]
    }
   ],
   "source": [
    "for _ in range(len(emission_measurements_df)):\n",
    "    try:\n",
    "        next(lca)\n",
    "        print(f\"updated score: {lca.score}\")\n",
    "    except StopIteration:\n",
    "        print('sequence completed')\n",
    "        break"
   ]
  }
 ],
 "metadata": {
  "kernelspec": {
   "display_name": "Python 3 (ipykernel)",
   "language": "python",
   "name": "python3"
  },
  "language_info": {
   "codemirror_mode": {
    "name": "ipython",
    "version": 3
   },
   "file_extension": ".py",
   "mimetype": "text/x-python",
   "name": "python",
   "nbconvert_exporter": "python",
   "pygments_lexer": "ipython3",
   "version": "3.10.5"
  },
  "vscode": {
   "interpreter": {
    "hash": "b40cb66b17e2df57947cd0be31411fdcbc2ae98be058b92255e133ab5e347443"
   }
  }
 },
 "nbformat": 4,
 "nbformat_minor": 4
}
