{
 "cells": [
  {
   "cell_type": "markdown",
   "metadata": {},
   "source": [
    "Adapted from https://github.com/astudillo20lca/hypercognitive\n",
    "\n",
    "**Conference Notebook Kernel: `bw25`**"
   ]
  },
  {
   "cell_type": "code",
   "execution_count": 1,
   "metadata": {},
   "outputs": [],
   "source": [
    "from pathlib import Path\n",
    "from fs.zipfs import ZipFS\n",
    "\n",
    "import numpy as np\n",
    "import pandas as pd\n",
    "\n",
    "import bw_processing\n",
    "import bw2calc as bwc"
   ]
  },
  {
   "cell_type": "markdown",
   "metadata": {},
   "source": [
    "## Run our minimalistic\n",
    "\n",
    "Lets run our minimalistic LCA with the datapackages that we've just created. No need for projects, no need for `bw2data` at all"
   ]
  },
  {
   "cell_type": "markdown",
   "metadata": {},
   "source": [
    "## locate the datapackages"
   ]
  },
  {
   "cell_type": "markdown",
   "metadata": {},
   "source": [
    "a dictionary with the filename as key and the path as value"
   ]
  },
  {
   "cell_type": "code",
   "execution_count": 2,
   "metadata": {},
   "outputs": [],
   "source": [
    "datapackges = {path.stem.split('.')[0]:path for path in Path.cwd().glob('*.zip')}"
   ]
  },
  {
   "cell_type": "code",
   "execution_count": 3,
   "metadata": {},
   "outputs": [
    {
     "data": {
      "text/plain": [
       "dict_keys(['ipccs', 'testdb', 'mini_biosphere'])"
      ]
     },
     "execution_count": 3,
     "metadata": {},
     "output_type": "execute_result"
    }
   ],
   "source": [
    "datapackges.keys()"
   ]
  },
  {
   "cell_type": "code",
   "execution_count": 4,
   "metadata": {},
   "outputs": [],
   "source": [
    "# data package with impact assessment method\n",
    "ipcc_dp = bw_processing.load_datapackage(ZipFS(datapackges['ipccs']),proxy=True)\n",
    "# data package with minimal biosphere database\n",
    "biosphere_dp = bw_processing.load_datapackage(ZipFS(datapackges['mini_biosphere']),proxy=True)\n",
    "# data package with foreground database\n",
    "test_dp = bw_processing.load_datapackage(ZipFS(datapackges['testdb']),proxy=True)"
   ]
  },
  {
   "cell_type": "markdown",
   "metadata": {},
   "source": [
    "## get some medatadata \n",
    "\n",
    "we want to be able to recover some of the metadata, for example the name of the activities. This is part of our datapackage"
   ]
  },
  {
   "cell_type": "code",
   "execution_count": 5,
   "metadata": {},
   "outputs": [],
   "source": [
    "metadata_foreground,_ = test_dp.get_resource('testdb_activity_metadata')"
   ]
  },
  {
   "cell_type": "code",
   "execution_count": 6,
   "metadata": {},
   "outputs": [
    {
     "data": {
      "text/html": [
       "<div>\n",
       "<style scoped>\n",
       "    .dataframe tbody tr th:only-of-type {\n",
       "        vertical-align: middle;\n",
       "    }\n",
       "\n",
       "    .dataframe tbody tr th {\n",
       "        vertical-align: top;\n",
       "    }\n",
       "\n",
       "    .dataframe thead th {\n",
       "        text-align: right;\n",
       "    }\n",
       "</style>\n",
       "<table border=\"1\" class=\"dataframe\">\n",
       "  <thead>\n",
       "    <tr style=\"text-align: right;\">\n",
       "      <th></th>\n",
       "      <th>reference product</th>\n",
       "      <th>unit</th>\n",
       "      <th>name</th>\n",
       "      <th>location</th>\n",
       "      <th>id</th>\n",
       "    </tr>\n",
       "  </thead>\n",
       "  <tbody>\n",
       "    <tr>\n",
       "      <th>0</th>\n",
       "      <td>NaN</td>\n",
       "      <td>kilogram</td>\n",
       "      <td>my_machine</td>\n",
       "      <td>NaN</td>\n",
       "      <td>23995</td>\n",
       "    </tr>\n",
       "  </tbody>\n",
       "</table>\n",
       "</div>"
      ],
      "text/plain": [
       "   reference product      unit        name  location     id\n",
       "0                NaN  kilogram  my_machine       NaN  23995"
      ]
     },
     "execution_count": 6,
     "metadata": {},
     "output_type": "execute_result"
    }
   ],
   "source": [
    "metadata_foreground"
   ]
  },
  {
   "cell_type": "code",
   "execution_count": 7,
   "metadata": {},
   "outputs": [],
   "source": [
    "metadata_biosphere,_ = biosphere_dp.get_resource('mini_biosphere_activity_metadata')"
   ]
  },
  {
   "cell_type": "code",
   "execution_count": 8,
   "metadata": {},
   "outputs": [
    {
     "data": {
      "text/html": [
       "<div>\n",
       "<style scoped>\n",
       "    .dataframe tbody tr th:only-of-type {\n",
       "        vertical-align: middle;\n",
       "    }\n",
       "\n",
       "    .dataframe tbody tr th {\n",
       "        vertical-align: top;\n",
       "    }\n",
       "\n",
       "    .dataframe thead th {\n",
       "        text-align: right;\n",
       "    }\n",
       "</style>\n",
       "<table border=\"1\" class=\"dataframe\">\n",
       "  <thead>\n",
       "    <tr style=\"text-align: right;\">\n",
       "      <th></th>\n",
       "      <th>reference product</th>\n",
       "      <th>unit</th>\n",
       "      <th>name</th>\n",
       "      <th>location</th>\n",
       "      <th>id</th>\n",
       "    </tr>\n",
       "  </thead>\n",
       "  <tbody>\n",
       "    <tr>\n",
       "      <th>0</th>\n",
       "      <td>NaN</td>\n",
       "      <td>kilogram</td>\n",
       "      <td>Carbon dioxide, fossil</td>\n",
       "      <td>GLO</td>\n",
       "      <td>23993</td>\n",
       "    </tr>\n",
       "    <tr>\n",
       "      <th>1</th>\n",
       "      <td>NaN</td>\n",
       "      <td>kilogram</td>\n",
       "      <td>Methane, fossil</td>\n",
       "      <td>GLO</td>\n",
       "      <td>23994</td>\n",
       "    </tr>\n",
       "  </tbody>\n",
       "</table>\n",
       "</div>"
      ],
      "text/plain": [
       "   reference product      unit                    name location     id\n",
       "0                NaN  kilogram  Carbon dioxide, fossil      GLO  23993\n",
       "1                NaN  kilogram         Methane, fossil      GLO  23994"
      ]
     },
     "execution_count": 8,
     "metadata": {},
     "output_type": "execute_result"
    }
   ],
   "source": [
    "metadata_biosphere"
   ]
  },
  {
   "cell_type": "markdown",
   "metadata": {},
   "source": [
    "Dictionary with the ids of the different nodes in my databases"
   ]
  },
  {
   "cell_type": "code",
   "execution_count": 9,
   "metadata": {},
   "outputs": [
    {
     "data": {
      "text/plain": [
       "{'my_machine': 23995,\n",
       " 'Carbon dioxide, fossil': 23993,\n",
       " 'Methane, fossil': 23994}"
      ]
     },
     "execution_count": 9,
     "metadata": {},
     "output_type": "execute_result"
    }
   ],
   "source": [
    "name_id_dict = { \n",
    "    **metadata_foreground.set_index('name')['id'].to_dict(),\n",
    "    **metadata_biosphere.set_index('name')['id'].to_dict()\n",
    "}\n",
    "name_id_dict"
   ]
  },
  {
   "cell_type": "markdown",
   "metadata": {},
   "source": [
    "now let's run the same calculation as in the previous notebook to make sure we get the same results"
   ]
  },
  {
   "cell_type": "code",
   "execution_count": 10,
   "metadata": {},
   "outputs": [],
   "source": [
    "lca = bwc.LCA(demand={name_id_dict['my_machine']:1},data_objs=[ipcc_dp,biosphere_dp,test_dp])\n",
    "lca.lci()\n",
    "lca.lcia()"
   ]
  },
  {
   "cell_type": "code",
   "execution_count": 11,
   "metadata": {},
   "outputs": [
    {
     "data": {
      "text/plain": [
       "39.70000076293945"
      ]
     },
     "execution_count": 11,
     "metadata": {},
     "output_type": "execute_result"
    }
   ],
   "source": [
    "lca.score"
   ]
  },
  {
   "cell_type": "markdown",
   "metadata": {},
   "source": [
    ":)"
   ]
  },
  {
   "cell_type": "markdown",
   "metadata": {},
   "source": [
    "## Dynamic LCA with Brightway 2.5"
   ]
  },
  {
   "cell_type": "markdown",
   "metadata": {},
   "source": [
    "Now imagine we get measurements for the CO2 and CH4 emissions of activity _my_machine_. In the HyperCOG project these will come from `aquisition` nodes.\n",
    "\n",
    "they could be deserialized as json file that can be easily :"
   ]
  },
  {
   "cell_type": "code",
   "execution_count": 21,
   "metadata": {},
   "outputs": [],
   "source": [
    "emission_measurements = {\n",
    "('Carbon dioxide, fossil','my_machine'):[20,30.5,10,0],\n",
    "('Methane, fossil','my_machine'):[0,2,3,4]\n",
    "}"
   ]
  },
  {
   "cell_type": "code",
   "execution_count": 22,
   "metadata": {},
   "outputs": [
    {
     "data": {
      "text/html": [
       "<div>\n",
       "<style scoped>\n",
       "    .dataframe tbody tr th:only-of-type {\n",
       "        vertical-align: middle;\n",
       "    }\n",
       "\n",
       "    .dataframe tbody tr th {\n",
       "        vertical-align: top;\n",
       "    }\n",
       "\n",
       "    .dataframe thead tr th {\n",
       "        text-align: left;\n",
       "    }\n",
       "</style>\n",
       "<table border=\"1\" class=\"dataframe\">\n",
       "  <thead>\n",
       "    <tr>\n",
       "      <th></th>\n",
       "      <th>Carbon dioxide, fossil</th>\n",
       "      <th>Methane, fossil</th>\n",
       "    </tr>\n",
       "    <tr>\n",
       "      <th></th>\n",
       "      <th>my_machine</th>\n",
       "      <th>my_machine</th>\n",
       "    </tr>\n",
       "  </thead>\n",
       "  <tbody>\n",
       "    <tr>\n",
       "      <th>0</th>\n",
       "      <td>20.0</td>\n",
       "      <td>0</td>\n",
       "    </tr>\n",
       "    <tr>\n",
       "      <th>1</th>\n",
       "      <td>30.5</td>\n",
       "      <td>2</td>\n",
       "    </tr>\n",
       "    <tr>\n",
       "      <th>2</th>\n",
       "      <td>10.0</td>\n",
       "      <td>3</td>\n",
       "    </tr>\n",
       "    <tr>\n",
       "      <th>3</th>\n",
       "      <td>0.0</td>\n",
       "      <td>4</td>\n",
       "    </tr>\n",
       "  </tbody>\n",
       "</table>\n",
       "</div>"
      ],
      "text/plain": [
       "  Carbon dioxide, fossil Methane, fossil\n",
       "              my_machine      my_machine\n",
       "0                   20.0               0\n",
       "1                   30.5               2\n",
       "2                   10.0               3\n",
       "3                    0.0               4"
      ]
     },
     "execution_count": 22,
     "metadata": {},
     "output_type": "execute_result"
    }
   ],
   "source": [
    "emission_measurements_df = pd.DataFrame(emission_measurements)\n",
    "emission_measurements_df"
   ]
  },
  {
   "cell_type": "code",
   "execution_count": 23,
   "metadata": {},
   "outputs": [
    {
     "data": {
      "text/plain": [
       "array([[10.],\n",
       "       [ 1.]])"
      ]
     },
     "execution_count": 23,
     "metadata": {},
     "output_type": "execute_result"
    }
   ],
   "source": [
    "lca.biosphere_matrix.toarray()"
   ]
  },
  {
   "cell_type": "markdown",
   "metadata": {},
   "source": [
    "esentially what we want is a series of calculations where the values of the biosphere matrix are replaced by our new stream of data"
   ]
  },
  {
   "cell_type": "code",
   "execution_count": 24,
   "metadata": {},
   "outputs": [
    {
     "data": {
      "text/plain": [
       "[(23993, 23995), (23994, 23995)]"
      ]
     },
     "execution_count": 24,
     "metadata": {},
     "output_type": "execute_result"
    }
   ],
   "source": [
    "indices = [(name_id_dict[substance],name_id_dict[activity]) for substance,activity in emission_measurements_df.columns]\n",
    "indices"
   ]
  },
  {
   "cell_type": "code",
   "execution_count": 25,
   "metadata": {},
   "outputs": [],
   "source": [
    "indices_array = np.array(indices, dtype = bw_processing.INDICES_DTYPE)"
   ]
  },
  {
   "cell_type": "code",
   "execution_count": 31,
   "metadata": {},
   "outputs": [],
   "source": [
    "emissions_iterator = (row for row in emission_measurements_df.values)"
   ]
  },
  {
   "cell_type": "markdown",
   "metadata": {},
   "source": [
    "updating the LCA with a dynamic vector"
   ]
  },
  {
   "cell_type": "code",
   "execution_count": 32,
   "metadata": {},
   "outputs": [],
   "source": [
    "overwriter = bw_processing.create_datapackage()\n",
    "\n",
    "overwriter.add_dynamic_vector(\n",
    "    matrix=\"biosphere_matrix\",\n",
    "    interface=emissions_iterator,\n",
    "    indices_array=indices_array,\n",
    ")"
   ]
  },
  {
   "cell_type": "code",
   "execution_count": 33,
   "metadata": {},
   "outputs": [
    {
     "data": {
      "text/plain": [
       "20.0"
      ]
     },
     "execution_count": 33,
     "metadata": {},
     "output_type": "execute_result"
    }
   ],
   "source": [
    "lca = bwc.LCA(demand={name_id_dict['my_machine']: 1}, data_objs=[ipcc_dp,biosphere_dp,test_dp,overwriter])\n",
    "lca.lci()\n",
    "lca.lcia()\n",
    "lca.score"
   ]
  },
  {
   "cell_type": "code",
   "execution_count": 34,
   "metadata": {},
   "outputs": [
    {
     "name": "stdout",
     "output_type": "stream",
     "text": [
      "updated score: 89.90\n",
      "updated score: 99.10\n",
      "updated score: 118.80\n",
      "sequence completed\n"
     ]
    }
   ],
   "source": [
    "for _ in range(len(emission_measurements_df)):\n",
    "    try:\n",
    "        next(lca)\n",
    "        print(f\"updated score: {lca.score:.2f}\")\n",
    "    except StopIteration:\n",
    "        print('sequence completed')\n",
    "        break"
   ]
  }
 ],
 "metadata": {
  "kernelspec": {
   "display_name": "Python [conda env:bw25]",
   "language": "python",
   "name": "conda-env-bw25-py"
  },
  "language_info": {
   "codemirror_mode": {
    "name": "ipython",
    "version": 3
   },
   "file_extension": ".py",
   "mimetype": "text/x-python",
   "name": "python",
   "nbconvert_exporter": "python",
   "pygments_lexer": "ipython3",
   "version": "3.10.6"
  },
  "vscode": {
   "interpreter": {
    "hash": "b40cb66b17e2df57947cd0be31411fdcbc2ae98be058b92255e133ab5e347443"
   }
  }
 },
 "nbformat": 4,
 "nbformat_minor": 4
}
