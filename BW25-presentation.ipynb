{
 "cells": [
  {
   "cell_type": "markdown",
   "id": "9ea6403f-e6d5-4794-b9c8-4878df5448c9",
   "metadata": {
    "slideshow": {
     "slide_type": "slide"
    },
    "tags": []
   },
   "source": [
    "# What's new in Brightway 2.5\n",
    "\n",
    "## Backwards compatibility\n",
    "\n",
    "Compatilibility with Brightway 2 has been maintained whenever possible, but there are a few cases where compatiblity could not be kept.\n",
    "\n",
    "* In `bw2calc`, the `LCA` class now takes over responsibility for all types of LCA calculations, including Monte Carlo.\n",
    "* In `bw2data`, `Database.get()` and `Database().get()` are no longer supported. Use `get_node(database=\"something\", **other_filters)` instead."
   ]
  },
  {
   "cell_type": "code",
   "execution_count": 1,
   "id": "f4d3345f-c223-46c0-a42b-d289e136bc6d",
   "metadata": {
    "slideshow": {
     "slide_type": "skip"
    }
   },
   "outputs": [],
   "source": [
    "import bw2data as bd\n",
    "import bw2calc as bc\n",
    "import bw2io as bi"
   ]
  },
  {
   "cell_type": "code",
   "execution_count": 2,
   "id": "88978a84-a9d8-4baa-8a44-31405907e742",
   "metadata": {
    "slideshow": {
     "slide_type": "skip"
    }
   },
   "outputs": [],
   "source": [
    "# if \"2.5 examples in action\" in bd.projects:\n",
    "#     bd.projects.delete_project(\"2.5 examples in action\", True)\n",
    "bd.projects.set_current(\"2.5 examples in action\")"
   ]
  },
  {
   "cell_type": "code",
   "execution_count": 3,
   "id": "472d51a7-e677-4fca-bf03-33ae2b2f9413",
   "metadata": {
    "slideshow": {
     "slide_type": "skip"
    },
    "tags": []
   },
   "outputs": [
    {
     "name": "stderr",
     "output_type": "stream",
     "text": [
      "/Users/cmutel/miniconda3/envs/bw25dev/lib/python3.10/site-packages/openpyxl/worksheet/_reader.py:312: UserWarning: Unknown extension is not supported and will be removed\n",
      "  warn(msg)\n",
      "Writing activities to SQLite3 database:\n"
     ]
    },
    {
     "name": "stdout",
     "output_type": "stream",
     "text": [
      "Extracted 4 worksheets in 0.02 seconds\n",
      "Applying strategy: csv_restore_tuples\n",
      "Applying strategy: csv_restore_booleans\n",
      "Applying strategy: csv_numerize\n",
      "Applying strategy: csv_drop_unknown\n",
      "Applying strategy: csv_add_missing_exchanges_section\n",
      "Applying strategy: strip_biosphere_exc_locations\n",
      "Applying strategy: set_code_by_activity_hash\n",
      "Applying strategy: assign_only_product_as_production\n",
      "Applying strategy: drop_falsey_uncertainty_fields_but_keep_zeros\n",
      "Applying strategy: convert_uncertainty_types_to_integers\n",
      "Applying strategy: convert_activity_parameters_to_list\n",
      "Applied 11 strategies in 0.00 seconds\n",
      "Applying strategy: link_iterable_by_fields\n",
      "Not able to determine geocollections for all datasets. This database is not ready for regionalization.\n"
     ]
    },
    {
     "name": "stderr",
     "output_type": "stream",
     "text": [
      "0% [#########] 100% | ETA: 00:00:00\n",
      "Total time elapsed: 00:00:00\n"
     ]
    },
    {
     "name": "stdout",
     "output_type": "stream",
     "text": [
      "Title: Writing activities to SQLite3 database:\n",
      "  Started: 09/27/2022 23:00:40\n",
      "  Finished: 09/27/2022 23:00:40\n",
      "  Total time elapsed: 00:00:00\n",
      "  CPU %: 107.10\n",
      "  Memory %: 0.52\n",
      "Created database: Mobility example\n"
     ]
    }
   ],
   "source": [
    "bi.add_example_database()"
   ]
  },
  {
   "cell_type": "code",
   "execution_count": 4,
   "id": "ef681557",
   "metadata": {
    "slideshow": {
     "slide_type": "slide"
    }
   },
   "outputs": [
    {
     "name": "stderr",
     "output_type": "stream",
     "text": [
      "Writing activities to SQLite3 database:\n"
     ]
    },
    {
     "name": "stdout",
     "output_type": "stream",
     "text": [
      "Creating default biosphere\n",
      "\n",
      "Applying strategy: normalize_units\n",
      "Applying strategy: drop_unspecified_subcategories\n",
      "Applying strategy: ensure_categories_are_tuples\n",
      "Applied 3 strategies in 0.00 seconds\n"
     ]
    },
    {
     "name": "stderr",
     "output_type": "stream",
     "text": [
      "0% [##############################] 100% | ETA: 00:00:00\n",
      "Total time elapsed: 00:00:00\n"
     ]
    },
    {
     "name": "stdout",
     "output_type": "stream",
     "text": [
      "Title: Writing activities to SQLite3 database:\n",
      "  Started: 09/27/2022 23:00:47\n",
      "  Finished: 09/27/2022 23:00:47\n",
      "  Total time elapsed: 00:00:00\n",
      "  CPU %: 102.40\n",
      "  Memory %: 0.64\n",
      "Created database: biosphere3\n",
      "Creating default LCIA methods\n",
      "\n",
      "Applying strategy: normalize_units\n",
      "Applying strategy: set_biosphere_type\n",
      "Applying strategy: fix_ecoinvent_38_lcia_implementation\n",
      "Applying strategy: drop_unspecified_subcategories\n",
      "Applying strategy: link_iterable_by_fields\n",
      "Applied 5 strategies in 0.61 seconds\n",
      "Wrote 975 LCIA methods with 254388 characterization factors\n",
      "Creating core data migrations\n",
      "\n"
     ]
    }
   ],
   "source": [
    "bi.bw2setup()"
   ]
  },
  {
   "cell_type": "markdown",
   "id": "ad255199-ef0d-4ae9-a1ab-50863dd42aac",
   "metadata": {
    "slideshow": {
     "slide_type": "slide"
    },
    "tags": []
   },
   "source": [
    "# `bw2data`\n",
    "\n",
    "`Make steel` -> `Activity`\n",
    "\n",
    "`Drive motorcycle` -> `Activity`\n",
    "\n",
    "`Grow sugarbeet` -> `Activity`"
   ]
  },
  {
   "cell_type": "markdown",
   "id": "c30d5912",
   "metadata": {
    "slideshow": {
     "slide_type": "fragment"
    }
   },
   "source": [
    "`CO2` -> `Activity`????"
   ]
  },
  {
   "cell_type": "markdown",
   "id": "4824ddee",
   "metadata": {
    "slideshow": {
     "slide_type": "slide"
    }
   },
   "source": [
    "## Change in preferred nomenclature\n",
    "\n",
    "`Activity` -> `Node`\n",
    "\n",
    "`Exchange` -> `Edge`"
   ]
  },
  {
   "cell_type": "code",
   "execution_count": 7,
   "id": "98babf7f",
   "metadata": {
    "slideshow": {
     "slide_type": "skip"
    }
   },
   "outputs": [],
   "source": [
    "steel = bd.get_activity(('Mobility example', 'Steel'))"
   ]
  },
  {
   "cell_type": "code",
   "execution_count": 8,
   "id": "eb3ad570",
   "metadata": {
    "slideshow": {
     "slide_type": "fragment"
    }
   },
   "outputs": [
    {
     "data": {
      "text/plain": [
       "True"
      ]
     },
     "execution_count": 8,
     "metadata": {},
     "output_type": "execute_result"
    }
   ],
   "source": [
    "isinstance(steel, bd.Node)"
   ]
  },
  {
   "cell_type": "code",
   "execution_count": null,
   "id": "45e35ef9",
   "metadata": {},
   "outputs": [],
   "source": [
    "steel.edges(), steel.new_edge(), db.new_node()"
   ]
  },
  {
   "cell_type": "markdown",
   "id": "fa5ca4f0-1181-445e-9621-267be4eb4abe",
   "metadata": {
    "slideshow": {
     "slide_type": "slide"
    }
   },
   "source": [
    "## OMGWTFBBQ"
   ]
  },
  {
   "cell_type": "code",
   "execution_count": 9,
   "id": "ceb87cee-211f-473e-9f7d-64397e39b2e5",
   "metadata": {
    "slideshow": {
     "slide_type": "-"
    },
    "tags": []
   },
   "outputs": [
    {
     "data": {
      "text/plain": [
       "'Steel' (kilogram, GLO, None)"
      ]
     },
     "execution_count": 9,
     "metadata": {},
     "output_type": "execute_result"
    }
   ],
   "source": [
    "[act \n",
    " for act in bd.Database('Mobility example')\n",
    " if act['name'] == 'Steel'\n",
    "][0]"
   ]
  },
  {
   "cell_type": "code",
   "execution_count": 10,
   "id": "24a0de95-a0de-4796-b885-35deb937fac1",
   "metadata": {
    "slideshow": {
     "slide_type": "fragment"
    }
   },
   "outputs": [
    {
     "data": {
      "text/plain": [
       "'Steel' (kilogram, GLO, None)"
      ]
     },
     "execution_count": 10,
     "metadata": {},
     "output_type": "execute_result"
    }
   ],
   "source": [
    "bd.get_node(database='Mobility example', code='Steel')"
   ]
  },
  {
   "cell_type": "markdown",
   "id": "dff7ebc4-c138-4c80-987b-d3fec17a4590",
   "metadata": {
    "slideshow": {
     "slide_type": "slide"
    }
   },
   "source": [
    "## Any attribute"
   ]
  },
  {
   "cell_type": "code",
   "execution_count": 11,
   "id": "8410ec61-8488-4e2e-b00a-030074dc1fb1",
   "metadata": {
    "slideshow": {
     "slide_type": "-"
    }
   },
   "outputs": [],
   "source": [
    "steel = bd.get_node(name='Steel')\n",
    "steel['foo'] = 'bar'\n",
    "steel.save()"
   ]
  },
  {
   "cell_type": "code",
   "execution_count": 12,
   "id": "51fcd0ff",
   "metadata": {},
   "outputs": [
    {
     "name": "stderr",
     "output_type": "stream",
     "text": [
      "/Users/cmutel/Code/bw2/data/bw2data/utils.py:429: UserWarning: Given search criteria very broad; try to specify at least a database\n",
      "  warnings.warn(\n"
     ]
    },
    {
     "data": {
      "text/plain": [
       "'Steel' (kilogram, GLO, None)"
      ]
     },
     "execution_count": 12,
     "metadata": {},
     "output_type": "execute_result"
    }
   ],
   "source": [
    "bd.get_node(foo='bar')"
   ]
  },
  {
   "cell_type": "markdown",
   "id": "e80448bc-121b-4dec-8f70-7d40053040a1",
   "metadata": {
    "slideshow": {
     "slide_type": "slide"
    }
   },
   "source": [
    "## `get_node` returns only one node\n",
    "\n",
    "`bw2data.errors.UnknownObject` if no nodes can be found.\n",
    "\n",
    "`bw2data.errors.MultipleResults` if more than one node."
   ]
  },
  {
   "cell_type": "markdown",
   "id": "ad0c6485-35b9-4f24-b654-290870e6aafa",
   "metadata": {
    "slideshow": {
     "slide_type": "slide"
    }
   },
   "source": [
    "## `get_id` and the removal of `mapping`\n",
    "\n",
    "No more `mapping.pickle` file. `id` comes from the database and is preferred."
   ]
  },
  {
   "cell_type": "code",
   "execution_count": 13,
   "id": "1b9306b1-a867-4758-9ec6-232de01fec4f",
   "metadata": {
    "slideshow": {
     "slide_type": "fragment"
    }
   },
   "outputs": [
    {
     "data": {
      "text/plain": [
       "4"
      ]
     },
     "execution_count": 13,
     "metadata": {},
     "output_type": "execute_result"
    }
   ],
   "source": [
    "steel.id"
   ]
  },
  {
   "cell_type": "code",
   "execution_count": 14,
   "id": "ee28a38a-ed6f-4c6f-96f9-409e47003570",
   "metadata": {
    "slideshow": {
     "slide_type": "fragment"
    }
   },
   "outputs": [
    {
     "data": {
      "text/plain": [
       "4"
      ]
     },
     "execution_count": 14,
     "metadata": {},
     "output_type": "execute_result"
    }
   ],
   "source": [
    "bd.get_id(steel)"
   ]
  },
  {
   "cell_type": "markdown",
   "id": "32ece4c1-2ecc-489b-af88-0bf5c4a46c61",
   "metadata": {
    "slideshow": {
     "slide_type": "slide"
    }
   },
   "source": [
    "## Let's write SQL\n",
    "\n",
    "`Node` table has columns for `code`, `database`, `location`, `name`, `product`, `type`."
   ]
  },
  {
   "cell_type": "code",
   "execution_count": 15,
   "id": "9266328e-7fcf-4480-9971-d31f61dc4565",
   "metadata": {
    "slideshow": {
     "slide_type": "fragment"
    }
   },
   "outputs": [
    {
     "data": {
      "text/plain": [
       "1"
      ]
     },
     "execution_count": 15,
     "metadata": {},
     "output_type": "execute_result"
    }
   ],
   "source": [
    "from bw2data.backends import ActivityDataset as AD\n",
    "AD.update(name=\"Wow, this is some car!\").where(AD.name == 'Combustion car').execute()"
   ]
  },
  {
   "cell_type": "code",
   "execution_count": 16,
   "id": "579c63f7",
   "metadata": {
    "slideshow": {
     "slide_type": "-"
    }
   },
   "outputs": [
    {
     "data": {
      "text/plain": [
       "'Wow, this is some car!' (unit, GLO, ('Combustion car',))"
      ]
     },
     "execution_count": 16,
     "metadata": {},
     "output_type": "execute_result"
    }
   ],
   "source": [
    "bd.get_node(name=\"Wow, this is some car!\")"
   ]
  },
  {
   "cell_type": "markdown",
   "id": "0ee236ec-f2c5-4969-a24e-c4c8d9233f39",
   "metadata": {
    "slideshow": {
     "slide_type": "slide"
    }
   },
   "source": [
    "## `Activity` attribute lookups\n",
    "\n",
    "Make the world more magical. Boo:"
   ]
  },
  {
   "cell_type": "code",
   "execution_count": 17,
   "id": "e605042a-acf0-410f-a5f9-45cacb95f570",
   "metadata": {
    "slideshow": {
     "slide_type": "skip"
    }
   },
   "outputs": [],
   "source": [
    "steel = bd.get_node(name='Steel')\n",
    "steel['properties'] = {'carbon content': {'amount': 0.01}}\n",
    "steel['classifications'] = {'ISIC': {'code': '2410', 'system': 'ISIC Rev. 4'}}\n",
    "steel.save()"
   ]
  },
  {
   "cell_type": "code",
   "execution_count": 18,
   "id": "61735651-284c-492d-af60-9f077b32bac1",
   "metadata": {
    "slideshow": {
     "slide_type": "fragment"
    }
   },
   "outputs": [
    {
     "data": {
      "text/plain": [
       "[{'amount': 0.01}]"
      ]
     },
     "execution_count": 18,
     "metadata": {},
     "output_type": "execute_result"
    }
   ],
   "source": [
    "[value for key, value in steel['properties'].items() if key == 'carbon content']"
   ]
  },
  {
   "cell_type": "markdown",
   "id": "08b8eb2b-0ec3-48cd-a5fe-a3e535fe607c",
   "metadata": {
    "slideshow": {
     "slide_type": "fragment"
    }
   },
   "source": [
    "Yeah!"
   ]
  },
  {
   "cell_type": "code",
   "execution_count": 19,
   "id": "62204845-7ca9-48c0-bfa4-6fbee050f464",
   "metadata": {
    "slideshow": {
     "slide_type": "-"
    }
   },
   "outputs": [
    {
     "data": {
      "text/plain": [
       "{'amount': 0.01}"
      ]
     },
     "execution_count": 19,
     "metadata": {},
     "output_type": "execute_result"
    }
   ],
   "source": [
    "steel['carbon content']"
   ]
  },
  {
   "cell_type": "code",
   "execution_count": 20,
   "id": "f8449bf3-0e54-4909-b971-6f970288d597",
   "metadata": {
    "slideshow": {
     "slide_type": "-"
    }
   },
   "outputs": [
    {
     "data": {
      "text/plain": [
       "{'code': '2410', 'system': 'ISIC Rev. 4'}"
      ]
     },
     "execution_count": 20,
     "metadata": {},
     "output_type": "execute_result"
    }
   ],
   "source": [
    "steel['ISIC']"
   ]
  },
  {
   "cell_type": "markdown",
   "id": "56134377-d1d8-462d-acea-01d837e1c7be",
   "metadata": {
    "slideshow": {
     "slide_type": "slide"
    }
   },
   "source": [
    "## Reference products\n",
    "\n",
    "No!!"
   ]
  },
  {
   "cell_type": "code",
   "execution_count": 21,
   "id": "38b7320c-e995-4d9f-8b2b-65e2ecf05b47",
   "metadata": {
    "slideshow": {
     "slide_type": "-"
    }
   },
   "outputs": [
    {
     "data": {
      "text/plain": [
       "Exchange: 1 kilogram 'Steel' (kilogram, GLO, None) to 'Steel' (kilogram, GLO, None)>"
      ]
     },
     "execution_count": 21,
     "metadata": {},
     "output_type": "execute_result"
    }
   ],
   "source": [
    "[exc for exc in steel.exchanges() if exc['type'] == 'production'][0]"
   ]
  },
  {
   "cell_type": "markdown",
   "id": "bd61f2ab-449f-4750-ba92-daa74b13ce98",
   "metadata": {
    "slideshow": {
     "slide_type": "fragment"
    }
   },
   "source": [
    "Yes!!"
   ]
  },
  {
   "cell_type": "code",
   "execution_count": 22,
   "id": "5b8e48b7",
   "metadata": {
    "slideshow": {
     "slide_type": "-"
    }
   },
   "outputs": [
    {
     "data": {
      "text/plain": [
       "Exchange: 1 kilogram 'Steel' (kilogram, GLO, None) to 'Steel' (kilogram, GLO, None)>"
      ]
     },
     "execution_count": 22,
     "metadata": {},
     "output_type": "execute_result"
    }
   ],
   "source": [
    "steel.rp_exchange()"
   ]
  },
  {
   "cell_type": "markdown",
   "id": "942a5ab0",
   "metadata": {
    "slideshow": {
     "slide_type": "slide"
    }
   },
   "source": [
    "## Properties of reference products\n",
    "\n",
    "Double yes!!"
   ]
  },
  {
   "cell_type": "code",
   "execution_count": 23,
   "id": "41076a12-2e0c-411e-8546-ef42e304de3c",
   "metadata": {
    "slideshow": {
     "slide_type": "-"
    }
   },
   "outputs": [],
   "source": [
    "exc = steel.rp_exchange()\n",
    "exc['properties'] = {'iron content': 0.98}\n",
    "exc.save()"
   ]
  },
  {
   "cell_type": "code",
   "execution_count": 24,
   "id": "8813ff6f-73f0-4c4a-a1d0-2823d80d0a32",
   "metadata": {
    "slideshow": {
     "slide_type": "fragment"
    }
   },
   "outputs": [
    {
     "data": {
      "text/plain": [
       "0.98"
      ]
     },
     "execution_count": 24,
     "metadata": {},
     "output_type": "execute_result"
    }
   ],
   "source": [
    "steel['iron content']"
   ]
  },
  {
   "cell_type": "markdown",
   "id": "70b4a389-e560-48f9-a4e2-61d6a1e0791a",
   "metadata": {
    "slideshow": {
     "slide_type": "slide"
    }
   },
   "source": [
    "## Easier data cleanup\n",
    "\n",
    "If you are building inventories manually, it is easy to accidentally add an exchange too many times:"
   ]
  },
  {
   "cell_type": "code",
   "execution_count": 25,
   "id": "4c184629-8274-4a89-b52f-5a678d1e9235",
   "metadata": {
    "slideshow": {
     "slide_type": "-"
    }
   },
   "outputs": [],
   "source": [
    "steel, co2 = bd.get_node(name=\"Steel\"), bd.get_node(name=\"CO2\")\n",
    "\n",
    "for _ in range(5):\n",
    "    steel.new_edge(input=co2, amount=1.5, type=\"biosphere\").save()"
   ]
  },
  {
   "cell_type": "markdown",
   "id": "d6d84d4c-6379-43de-951e-8b89995c08cf",
   "metadata": {
    "slideshow": {
     "slide_type": "slide"
    }
   },
   "source": [
    "We can now easily clean up these duplicates:"
   ]
  },
  {
   "cell_type": "code",
   "execution_count": 26,
   "id": "afe09bf4-4c4d-4fa6-9321-9af6624ba24d",
   "metadata": {
    "slideshow": {
     "slide_type": "-"
    }
   },
   "outputs": [
    {
     "name": "stdout",
     "output_type": "stream",
     "text": [
      "Deleting exchange: Exchange: 1.5 kilogram 'CO2' (kilogram, None, None) to 'Steel' (kilogram, GLO, None)>\n",
      "Deleting exchange: Exchange: 1.5 kilogram 'CO2' (kilogram, None, None) to 'Steel' (kilogram, GLO, None)>\n",
      "Deleting exchange: Exchange: 1.5 kilogram 'CO2' (kilogram, None, None) to 'Steel' (kilogram, GLO, None)>\n",
      "Deleting exchange: Exchange: 1.5 kilogram 'CO2' (kilogram, None, None) to 'Steel' (kilogram, GLO, None)>\n",
      "Deleting exchange: Exchange: 1.5 kilogram 'CO2' (kilogram, None, None) to 'Steel' (kilogram, GLO, None)>\n"
     ]
    }
   ],
   "source": [
    "bd.Database('Mobility example').delete_duplicate_exchanges()"
   ]
  },
  {
   "cell_type": "code",
   "execution_count": 27,
   "id": "460b2e63-b652-42a0-99ee-e6096c0142ce",
   "metadata": {
    "slideshow": {
     "slide_type": "fragment"
    }
   },
   "outputs": [
    {
     "name": "stdout",
     "output_type": "stream",
     "text": [
      "Exchange: 1.5 kilogram 'CO2' (kilogram, None, None) to 'Steel' (kilogram, GLO, None)>\n"
     ]
    }
   ],
   "source": [
    "for exc in steel.biosphere():\n",
    "    print(exc)"
   ]
  },
  {
   "cell_type": "markdown",
   "id": "0c3304ea-c2ad-49af-b6f9-d58f082e6ef7",
   "metadata": {
    "slideshow": {
     "slide_type": "slide"
    }
   },
   "source": [
    "## Filepaths are instances of `pathlib.Path`\n",
    "\n",
    "`Path` objects are [pretty great](https://treyhunner.com/2018/12/why-you-should-be-using-pathlib/), you should [use them](https://docs.python.org/3/library/pathlib.html)."
   ]
  },
  {
   "cell_type": "code",
   "execution_count": 28,
   "id": "9528def7-5260-4ba7-9b36-6fd4b9d01551",
   "metadata": {
    "slideshow": {
     "slide_type": "-"
    }
   },
   "outputs": [
    {
     "data": {
      "text/plain": [
       "(pathlib.PosixPath, pathlib.PosixPath)"
      ]
     },
     "execution_count": 28,
     "metadata": {},
     "output_type": "execute_result"
    }
   ],
   "source": [
    "type(bd.projects.dir), type(bd.projects.logs_dir)"
   ]
  },
  {
   "cell_type": "code",
   "execution_count": 29,
   "id": "d1fea83c",
   "metadata": {
    "slideshow": {
     "slide_type": "skip"
    }
   },
   "outputs": [],
   "source": [
    "mobility = bd.Database('Mobility example')"
   ]
  },
  {
   "cell_type": "code",
   "execution_count": 30,
   "id": "19fee1c8",
   "metadata": {
    "slideshow": {
     "slide_type": "fragment"
    }
   },
   "outputs": [
    {
     "data": {
      "text/plain": [
       "PosixPath('/Users/cmutel/Library/Application Support/Brightway3/25-examples-in-action.93bc6058/processed/filename.zip')"
      ]
     },
     "execution_count": 30,
     "metadata": {},
     "output_type": "execute_result"
    }
   ],
   "source": [
    "mobility.dirpath_processed() / \"filename.zip\""
   ]
  },
  {
   "cell_type": "markdown",
   "id": "62231350-4511-4ccb-9222-b14e59a6351f",
   "metadata": {
    "slideshow": {
     "slide_type": "slide"
    }
   },
   "source": [
    "## Easier access to `Datapackages`\n",
    "\n",
    "This guy is dumb!"
   ]
  },
  {
   "cell_type": "code",
   "execution_count": 31,
   "id": "991ca2f0-913d-4ac1-a7f2-7f36646d0a89",
   "metadata": {
    "slideshow": {
     "slide_type": "-"
    }
   },
   "outputs": [
    {
     "data": {
      "text/plain": [
       "<bw_processing.datapackage.Datapackage at 0x17d323190>"
      ]
     },
     "execution_count": 31,
     "metadata": {},
     "output_type": "execute_result"
    }
   ],
   "source": [
    "from fs.zipfs import ZipFS\n",
    "import bw_processing as bwp\n",
    "\n",
    "bwp.load_datapackage(ZipFS(mobility.filepath_processed()))"
   ]
  },
  {
   "cell_type": "markdown",
   "id": "ab2c81e0",
   "metadata": {
    "slideshow": {
     "slide_type": "fragment"
    }
   },
   "source": [
    "That's better..."
   ]
  },
  {
   "cell_type": "code",
   "execution_count": 32,
   "id": "90c2cf8c",
   "metadata": {
    "slideshow": {
     "slide_type": "-"
    }
   },
   "outputs": [
    {
     "data": {
      "text/plain": [
       "<bw_processing.datapackage.Datapackage at 0x17d667a00>"
      ]
     },
     "execution_count": 32,
     "metadata": {},
     "output_type": "execute_result"
    }
   ],
   "source": [
    "mobility.datapackage()"
   ]
  },
  {
   "cell_type": "code",
   "execution_count": 33,
   "id": "6b2f9f70",
   "metadata": {
    "slideshow": {
     "slide_type": "skip"
    }
   },
   "outputs": [
    {
     "name": "stdout",
     "output_type": "stream",
     "text": [
      "Downloading IOT_2017_ixi.zip to /var/folders/rn/ht0vvs3s7mz2h9f_xjt9x4040000gn/T/tmprgmnikna/IOT_2017_ixi.zip\n"
     ]
    },
    {
     "name": "stderr",
     "output_type": "stream",
     "text": [
      "764936192it [02:29, 5126539.45it/s]                                 \n",
      "Writing activities to SQLite3 database:\n"
     ]
    },
    {
     "name": "stdout",
     "output_type": "stream",
     "text": [
      "Not able to determine geocollections for all datasets. This database is not ready for regionalization.\n"
     ]
    },
    {
     "name": "stderr",
     "output_type": "stream",
     "text": [
      "0% [##############################] 100% | ETA: 00:00:00\n",
      "Total time elapsed: 00:00:00\n"
     ]
    },
    {
     "name": "stdout",
     "output_type": "stream",
     "text": [
      "Title: Writing activities to SQLite3 database:\n",
      "  Started: 09/27/2022 22:57:16\n",
      "  Finished: 09/27/2022 22:57:16\n",
      "  Total time elapsed: 00:00:00\n",
      "  CPU %: 101.90\n",
      "  Memory %: 0.60\n"
     ]
    },
    {
     "name": "stderr",
     "output_type": "stream",
     "text": [
      "Writing activities to SQLite3 database:\n"
     ]
    },
    {
     "name": "stdout",
     "output_type": "stream",
     "text": [
      "Created new database for EXIOBASE-specific biosphere flows: EXIOBASE 3.8.1 2017 monetary biosphere\n"
     ]
    },
    {
     "name": "stderr",
     "output_type": "stream",
     "text": [
      "0% [##############################] 100% | ETA: 00:00:00\n",
      "Total time elapsed: 00:00:00\n"
     ]
    },
    {
     "name": "stdout",
     "output_type": "stream",
     "text": [
      "Title: Writing activities to SQLite3 database:\n",
      "  Started: 09/27/2022 22:57:17\n",
      "  Finished: 09/27/2022 22:57:17\n",
      "  Total time elapsed: 00:00:00\n",
      "  CPU %: 101.00\n",
      "  Memory %: 0.62\n",
      "Created database of EXIOBASE activity metadata\n",
      "Patched 0 LCIA methods with unit 'kg CO2-Eq'\n",
      "Patching LCIA methods with EXIOBASE flows\n"
     ]
    },
    {
     "ename": "NameError",
     "evalue": "name 'IOTableBackend' is not defined",
     "output_type": "error",
     "traceback": [
      "\u001b[0;31m---------------------------------------------------------------------------\u001b[0m",
      "\u001b[0;31mNameError\u001b[0m                                 Traceback (most recent call last)",
      "Input \u001b[0;32mIn [33]\u001b[0m, in \u001b[0;36m<cell line: 1>\u001b[0;34m()\u001b[0m\n\u001b[0;32m----> 1\u001b[0m \u001b[43mbi\u001b[49m\u001b[38;5;241;43m.\u001b[39;49m\u001b[43mexiobase_monetary\u001b[49m\u001b[43m(\u001b[49m\u001b[43m)\u001b[49m\n",
      "File \u001b[0;32m~/Code/bw2/io/bw2io/__init__.py:209\u001b[0m, in \u001b[0;36mexiobase_monetary\u001b[0;34m(version, year, products, name, ignore_small_balancing_corrections)\u001b[0m\n\u001b[1;32m    207\u001b[0m     ex \u001b[38;5;241m=\u001b[39m Exiobase3MonetaryImporter(filepath, name, ignore_small_balancing_corrections\u001b[38;5;241m=\u001b[39mignore_small_balancing_corrections)\n\u001b[1;32m    208\u001b[0m     ex\u001b[38;5;241m.\u001b[39mapply_strategies()\n\u001b[0;32m--> 209\u001b[0m     \u001b[43mex\u001b[49m\u001b[38;5;241;43m.\u001b[39;49m\u001b[43mwrite_database\u001b[49m\u001b[43m(\u001b[49m\u001b[43m)\u001b[49m\n\u001b[1;32m    211\u001b[0m \u001b[38;5;28mprint\u001b[39m(\u001b[38;5;124mf\u001b[39m\u001b[38;5;124m\"\u001b[39m\u001b[38;5;124mCreated database \u001b[39m\u001b[38;5;132;01m{\u001b[39;00mname\u001b[38;5;132;01m}\u001b[39;00m\u001b[38;5;124m. Cleaned up temporary downloads.\u001b[39m\u001b[38;5;124m\"\u001b[39m)\n",
      "File \u001b[0;32m~/Code/bw2/io/bw2io/importers/exiobase3_monetary.py:166\u001b[0m, in \u001b[0;36mExiobase3MonetaryImporter.write_database\u001b[0;34m(self, biosphere)\u001b[0m\n\u001b[1;32m    153\u001b[0m biosphere \u001b[38;5;241m=\u001b[39m (\n\u001b[1;32m    154\u001b[0m     {\n\u001b[1;32m    155\u001b[0m         \u001b[38;5;124m\"\u001b[39m\u001b[38;5;124mrow\u001b[39m\u001b[38;5;124m\"\u001b[39m: biosphere_mapping[x],\n\u001b[0;32m   (...)\u001b[0m\n\u001b[1;32m    161\u001b[0m     \u001b[38;5;28;01mfor\u001b[39;00m x, y, z \u001b[38;5;129;01min\u001b[39;00m \u001b[38;5;28mself\u001b[39m\u001b[38;5;241m.\u001b[39mbiosphere_iterator\n\u001b[1;32m    162\u001b[0m )\n\u001b[1;32m    164\u001b[0m dependents \u001b[38;5;241m=\u001b[39m [new_biosphere, main_biosphere]\n\u001b[0;32m--> 166\u001b[0m \u001b[43mIOTableBackend\u001b[49m(\u001b[38;5;28mself\u001b[39m\u001b[38;5;241m.\u001b[39mdb_name)\u001b[38;5;241m.\u001b[39mwrite_exchanges(\n\u001b[1;32m    167\u001b[0m     technosphere, biosphere, dependents\n\u001b[1;32m    168\u001b[0m )\n",
      "\u001b[0;31mNameError\u001b[0m: name 'IOTableBackend' is not defined"
     ]
    }
   ],
   "source": [
    "bi.exiobase_monetary()"
   ]
  },
  {
   "cell_type": "markdown",
   "id": "c83d2655-37b7-47b2-bfd7-39c4f97e19bf",
   "metadata": {
    "slideshow": {
     "slide_type": "slide"
    }
   },
   "source": [
    "## IOTable improvements\n",
    "\n",
    "This is being rewritten in the `file-remover-progressive` branch."
   ]
  },
  {
   "cell_type": "markdown",
   "id": "a08c169b-9e6c-42a9-a136-fdf2146d24b3",
   "metadata": {},
   "source": [
    "## Brightway ❤️ Pandas"
   ]
  },
  {
   "cell_type": "code",
   "execution_count": 30,
   "id": "b34a8f17-0e42-4ef6-8228-45ef6e13cf9c",
   "metadata": {},
   "outputs": [
    {
     "name": "stdout",
     "output_type": "stream",
     "text": [
      "Downloading US EEIO 1.1\n",
      "Unzipping file\n",
      "Importing data\n",
      "Applying strategy: json_ld_allocate_datasets\n",
      "Applying strategy: json_ld_get_normalized_exchange_locations\n",
      "Applying strategy: json_ld_convert_unit_to_reference_unit\n",
      "Applying strategy: json_ld_get_activities_list_from_rawdata\n",
      "Applying strategy: json_ld_add_products_as_activities\n",
      "Applying strategy: json_ld_get_normalized_exchange_units\n",
      "Applying strategy: json_ld_add_activity_unit\n",
      "Applying strategy: json_ld_rename_metadata_fields\n",
      "Applying strategy: json_ld_location_name\n",
      "Applying strategy: json_ld_remove_fields\n",
      "Applying strategy: json_ld_fix_process_type\n",
      "Applying strategy: json_ld_label_exchange_type\n",
      "Applying strategy: json_ld_prepare_exchange_fields_for_linking\n",
      "Applying strategy: add_database_name\n",
      "Applying strategy: link_iterable_by_fields\n",
      "Applying strategy: link_iterable_by_fields\n"
     ]
    },
    {
     "name": "stderr",
     "output_type": "stream",
     "text": [
      "Writing activities to SQLite3 database:\n"
     ]
    },
    {
     "name": "stdout",
     "output_type": "stream",
     "text": [
      "Applying strategy: normalize_units\n",
      "Applied 17 strategies in 0.57 seconds\n",
      "Moved 1873 biosphere flows to `self.data`\n",
      "2649 datasets\n",
      "162926 exchanges\n",
      "0 unlinked exchanges\n",
      "  \n",
      "Not able to determine geocollections for all datasets. This database is not ready for regionalization.\n"
     ]
    },
    {
     "name": "stderr",
     "output_type": "stream",
     "text": [
      "0% [##############################] 100% | ETA: 00:00:00\n",
      "Total time elapsed: 00:00:04\n"
     ]
    },
    {
     "name": "stdout",
     "output_type": "stream",
     "text": [
      "Title: Writing activities to SQLite3 database:\n",
      "  Started: 09/27/2022 21:22:59\n",
      "  Finished: 09/27/2022 21:23:03\n",
      "  Total time elapsed: 00:00:04\n",
      "  CPU %: 98.30\n",
      "  Memory %: 1.95\n",
      "Created database: US EEIO 1.1\n",
      "Applying strategy: json_ld_lcia_add_method_metadata\n",
      "Applying strategy: json_ld_lcia_convert_to_list\n",
      "Applying strategy: json_ld_lcia_set_method_metadata\n",
      "Applying strategy: json_ld_lcia_reformat_cfs_as_exchanges\n",
      "Applying strategy: normalize_units\n",
      "Applied 5 strategies in 0.00 seconds\n",
      "19 methods\n",
      "4511 cfs\n",
      "0 unlinked cfs\n",
      "Wrote 19 LCIA methods with 4511 characterization factors\n"
     ]
    }
   ],
   "source": [
    "bi.useeio11()"
   ]
  },
  {
   "cell_type": "markdown",
   "id": "77f4db6d-60d4-43de-88fe-f509fb82c6aa",
   "metadata": {},
   "source": [
    "Pick a product and an activity node at random."
   ]
  },
  {
   "cell_type": "code",
   "execution_count": 31,
   "id": "9f3b5c56-c8a3-476e-bb1d-a809ff82ac34",
   "metadata": {},
   "outputs": [
    {
     "data": {
      "text/plain": [
       "('Sugar, candy, and chocolate; at manufacturer' (, United States, ('31-33: Manufacturing', '3113: Sugar and Confectionery Product Manufacturing')),\n",
       " 'General merchandise stores' (USD, United States, None))"
      ]
     },
     "execution_count": 31,
     "metadata": {},
     "output_type": "execute_result"
    }
   ],
   "source": [
    "product = next(node for node in bd.Database(\"US EEIO 1.1\") if node['type'] == 'product')\n",
    "activity = next(node for node in bd.Database(\"US EEIO 1.1\") if node['type'] == 'process')\n",
    "product, activity"
   ]
  },
  {
   "cell_type": "markdown",
   "id": "420f7872-ddef-4d2a-a0a6-9547a9ff40d4",
   "metadata": {},
   "source": [
    "The first dataframe is all the nodes (processes or activities) in the given database:"
   ]
  },
  {
   "cell_type": "code",
   "execution_count": 32,
   "id": "294ac408-2f0d-4668-8399-2691b380f66b",
   "metadata": {},
   "outputs": [
    {
     "data": {
      "text/html": [
       "<div>\n",
       "<style scoped>\n",
       "    .dataframe tbody tr th:only-of-type {\n",
       "        vertical-align: middle;\n",
       "    }\n",
       "\n",
       "    .dataframe tbody tr th {\n",
       "        vertical-align: top;\n",
       "    }\n",
       "\n",
       "    .dataframe thead th {\n",
       "        text-align: right;\n",
       "    }\n",
       "</style>\n",
       "<table border=\"1\" class=\"dataframe\">\n",
       "  <thead>\n",
       "    <tr style=\"text-align: right;\">\n",
       "      <th></th>\n",
       "      <th>CAS number</th>\n",
       "      <th>categories</th>\n",
       "      <th>classifications</th>\n",
       "      <th>code</th>\n",
       "      <th>database</th>\n",
       "      <th>description</th>\n",
       "      <th>dqEntry</th>\n",
       "      <th>dqSystem</th>\n",
       "      <th>exchangeDqSystem</th>\n",
       "      <th>filename</th>\n",
       "      <th>id</th>\n",
       "      <th>location</th>\n",
       "      <th>modified</th>\n",
       "      <th>name</th>\n",
       "      <th>processDocumentation</th>\n",
       "      <th>type</th>\n",
       "      <th>unit</th>\n",
       "      <th>version</th>\n",
       "    </tr>\n",
       "  </thead>\n",
       "  <tbody>\n",
       "    <tr>\n",
       "      <th>497</th>\n",
       "      <td></td>\n",
       "      <td>(water, unspecified)</td>\n",
       "      <td>NaN</td>\n",
       "      <td>2ee4697d-b7f4-362b-86a4-94b644699500</td>\n",
       "      <td>US EEIO 1.1</td>\n",
       "      <td>NaN</td>\n",
       "      <td>NaN</td>\n",
       "      <td>NaN</td>\n",
       "      <td>NaN</td>\n",
       "      <td>NaN</td>\n",
       "      <td>1143</td>\n",
       "      <td>NaN</td>\n",
       "      <td>NaN</td>\n",
       "      <td>(2,4-DICHLOROPHENOXY)ACETIC ACID COMPD. WITH 2...</td>\n",
       "      <td>NaN</td>\n",
       "      <td>emission</td>\n",
       "      <td></td>\n",
       "      <td>NaN</td>\n",
       "    </tr>\n",
       "    <tr>\n",
       "      <th>623</th>\n",
       "      <td></td>\n",
       "      <td>(soil, groundwater)</td>\n",
       "      <td>NaN</td>\n",
       "      <td>5b98f875-8d1c-3549-a7df-28d7d90e7ccb</td>\n",
       "      <td>US EEIO 1.1</td>\n",
       "      <td>NaN</td>\n",
       "      <td>NaN</td>\n",
       "      <td>NaN</td>\n",
       "      <td>NaN</td>\n",
       "      <td>NaN</td>\n",
       "      <td>1436</td>\n",
       "      <td>NaN</td>\n",
       "      <td>NaN</td>\n",
       "      <td>(2,4-DICHLOROPHENOXY)ACETIC ACID COMPD. WITH 2...</td>\n",
       "      <td>NaN</td>\n",
       "      <td>emission</td>\n",
       "      <td></td>\n",
       "      <td>NaN</td>\n",
       "    </tr>\n",
       "    <tr>\n",
       "      <th>718</th>\n",
       "      <td></td>\n",
       "      <td>(air, low population density)</td>\n",
       "      <td>NaN</td>\n",
       "      <td>6ca23b5d-83dc-3b02-bf39-8eabf9d41151</td>\n",
       "      <td>US EEIO 1.1</td>\n",
       "      <td>NaN</td>\n",
       "      <td>NaN</td>\n",
       "      <td>NaN</td>\n",
       "      <td>NaN</td>\n",
       "      <td>NaN</td>\n",
       "      <td>1649</td>\n",
       "      <td>NaN</td>\n",
       "      <td>NaN</td>\n",
       "      <td>(2,4-DICHLOROPHENOXY)ACETIC ACID COMPD. WITH 2...</td>\n",
       "      <td>NaN</td>\n",
       "      <td>emission</td>\n",
       "      <td></td>\n",
       "      <td>NaN</td>\n",
       "    </tr>\n",
       "    <tr>\n",
       "      <th>107</th>\n",
       "      <td></td>\n",
       "      <td>(air, low population density)</td>\n",
       "      <td>NaN</td>\n",
       "      <td>3404c9d4-8d41-36cb-8a95-c8b428518cfa</td>\n",
       "      <td>US EEIO 1.1</td>\n",
       "      <td>NaN</td>\n",
       "      <td>NaN</td>\n",
       "      <td>NaN</td>\n",
       "      <td>NaN</td>\n",
       "      <td>NaN</td>\n",
       "      <td>1175</td>\n",
       "      <td>NaN</td>\n",
       "      <td>NaN</td>\n",
       "      <td>(4-CHLORO-2-METHYLPHENOXY)ACETIC ACID COMPD. W...</td>\n",
       "      <td>NaN</td>\n",
       "      <td>emission</td>\n",
       "      <td></td>\n",
       "      <td>NaN</td>\n",
       "    </tr>\n",
       "    <tr>\n",
       "      <th>841</th>\n",
       "      <td></td>\n",
       "      <td>(water, unspecified)</td>\n",
       "      <td>NaN</td>\n",
       "      <td>93086e32-c013-3e34-a074-4760c72fe775</td>\n",
       "      <td>US EEIO 1.1</td>\n",
       "      <td>NaN</td>\n",
       "      <td>NaN</td>\n",
       "      <td>NaN</td>\n",
       "      <td>NaN</td>\n",
       "      <td>NaN</td>\n",
       "      <td>1895</td>\n",
       "      <td>NaN</td>\n",
       "      <td>NaN</td>\n",
       "      <td>(4-CHLORO-2-METHYLPHENOXY)ACETIC ACID COMPD. W...</td>\n",
       "      <td>NaN</td>\n",
       "      <td>emission</td>\n",
       "      <td></td>\n",
       "      <td>NaN</td>\n",
       "    </tr>\n",
       "    <tr>\n",
       "      <th>...</th>\n",
       "      <td>...</td>\n",
       "      <td>...</td>\n",
       "      <td>...</td>\n",
       "      <td>...</td>\n",
       "      <td>...</td>\n",
       "      <td>...</td>\n",
       "      <td>...</td>\n",
       "      <td>...</td>\n",
       "      <td>...</td>\n",
       "      <td>...</td>\n",
       "      <td>...</td>\n",
       "      <td>...</td>\n",
       "      <td>...</td>\n",
       "      <td>...</td>\n",
       "      <td>...</td>\n",
       "      <td>...</td>\n",
       "      <td>...</td>\n",
       "      <td>...</td>\n",
       "    </tr>\n",
       "    <tr>\n",
       "      <th>2120</th>\n",
       "      <td></td>\n",
       "      <td>(air, unspecified)</td>\n",
       "      <td>NaN</td>\n",
       "      <td>d9a5b786-d06c-44af-a088-b070aa605d9b</td>\n",
       "      <td>US EEIO 1.1</td>\n",
       "      <td>NaN</td>\n",
       "      <td>NaN</td>\n",
       "      <td>NaN</td>\n",
       "      <td>NaN</td>\n",
       "      <td>NaN</td>\n",
       "      <td>2379</td>\n",
       "      <td>NaN</td>\n",
       "      <td>NaN</td>\n",
       "      <td>trifluralin</td>\n",
       "      <td>NaN</td>\n",
       "      <td>emission</td>\n",
       "      <td></td>\n",
       "      <td>NaN</td>\n",
       "    </tr>\n",
       "    <tr>\n",
       "      <th>572</th>\n",
       "      <td>7440622.0</td>\n",
       "      <td>(water, unspecified)</td>\n",
       "      <td>NaN</td>\n",
       "      <td>63e8256e-8549-11e0-9d78-0800200c9a66</td>\n",
       "      <td>US EEIO 1.1</td>\n",
       "      <td>NaN</td>\n",
       "      <td>NaN</td>\n",
       "      <td>NaN</td>\n",
       "      <td>NaN</td>\n",
       "      <td>NaN</td>\n",
       "      <td>1586</td>\n",
       "      <td>NaN</td>\n",
       "      <td>NaN</td>\n",
       "      <td>vanadium</td>\n",
       "      <td>NaN</td>\n",
       "      <td>emission</td>\n",
       "      <td></td>\n",
       "      <td>NaN</td>\n",
       "    </tr>\n",
       "    <tr>\n",
       "      <th>1374</th>\n",
       "      <td>7440622.0</td>\n",
       "      <td>(soil, industrial)</td>\n",
       "      <td>NaN</td>\n",
       "      <td>1a5850a0-0069-4b73-bb91-7a61e8d45ae5</td>\n",
       "      <td>US EEIO 1.1</td>\n",
       "      <td>NaN</td>\n",
       "      <td>NaN</td>\n",
       "      <td>NaN</td>\n",
       "      <td>NaN</td>\n",
       "      <td>NaN</td>\n",
       "      <td>980</td>\n",
       "      <td>NaN</td>\n",
       "      <td>NaN</td>\n",
       "      <td>vanadium</td>\n",
       "      <td>NaN</td>\n",
       "      <td>emission</td>\n",
       "      <td></td>\n",
       "      <td>NaN</td>\n",
       "    </tr>\n",
       "    <tr>\n",
       "      <th>2011</th>\n",
       "      <td>7440622.0</td>\n",
       "      <td>(air, unspecified)</td>\n",
       "      <td>NaN</td>\n",
       "      <td>591b0a62-8064-4697-86ed-47bfa1f8b5e6</td>\n",
       "      <td>US EEIO 1.1</td>\n",
       "      <td>NaN</td>\n",
       "      <td>NaN</td>\n",
       "      <td>NaN</td>\n",
       "      <td>NaN</td>\n",
       "      <td>NaN</td>\n",
       "      <td>1416</td>\n",
       "      <td>NaN</td>\n",
       "      <td>NaN</td>\n",
       "      <td>vanadium</td>\n",
       "      <td>NaN</td>\n",
       "      <td>emission</td>\n",
       "      <td></td>\n",
       "      <td>NaN</td>\n",
       "    </tr>\n",
       "    <tr>\n",
       "      <th>2433</th>\n",
       "      <td></td>\n",
       "      <td>(air, unspecified)</td>\n",
       "      <td>NaN</td>\n",
       "      <td>1d444a45-70c4-4718-8427-1c0fff91f88e</td>\n",
       "      <td>US EEIO 1.1</td>\n",
       "      <td>NaN</td>\n",
       "      <td>NaN</td>\n",
       "      <td>NaN</td>\n",
       "      <td>NaN</td>\n",
       "      <td>NaN</td>\n",
       "      <td>1009</td>\n",
       "      <td>NaN</td>\n",
       "      <td>NaN</td>\n",
       "      <td>vinyl acetate</td>\n",
       "      <td>NaN</td>\n",
       "      <td>emission</td>\n",
       "      <td></td>\n",
       "      <td>NaN</td>\n",
       "    </tr>\n",
       "  </tbody>\n",
       "</table>\n",
       "<p>2649 rows × 18 columns</p>\n",
       "</div>"
      ],
      "text/plain": [
       "     CAS number                     categories classifications  \\\n",
       "497                       (water, unspecified)             NaN   \n",
       "623                        (soil, groundwater)             NaN   \n",
       "718              (air, low population density)             NaN   \n",
       "107              (air, low population density)             NaN   \n",
       "841                       (water, unspecified)             NaN   \n",
       "...         ...                            ...             ...   \n",
       "2120                        (air, unspecified)             NaN   \n",
       "572   7440622.0           (water, unspecified)             NaN   \n",
       "1374  7440622.0             (soil, industrial)             NaN   \n",
       "2011  7440622.0             (air, unspecified)             NaN   \n",
       "2433                        (air, unspecified)             NaN   \n",
       "\n",
       "                                      code     database description dqEntry  \\\n",
       "497   2ee4697d-b7f4-362b-86a4-94b644699500  US EEIO 1.1         NaN     NaN   \n",
       "623   5b98f875-8d1c-3549-a7df-28d7d90e7ccb  US EEIO 1.1         NaN     NaN   \n",
       "718   6ca23b5d-83dc-3b02-bf39-8eabf9d41151  US EEIO 1.1         NaN     NaN   \n",
       "107   3404c9d4-8d41-36cb-8a95-c8b428518cfa  US EEIO 1.1         NaN     NaN   \n",
       "841   93086e32-c013-3e34-a074-4760c72fe775  US EEIO 1.1         NaN     NaN   \n",
       "...                                    ...          ...         ...     ...   \n",
       "2120  d9a5b786-d06c-44af-a088-b070aa605d9b  US EEIO 1.1         NaN     NaN   \n",
       "572   63e8256e-8549-11e0-9d78-0800200c9a66  US EEIO 1.1         NaN     NaN   \n",
       "1374  1a5850a0-0069-4b73-bb91-7a61e8d45ae5  US EEIO 1.1         NaN     NaN   \n",
       "2011  591b0a62-8064-4697-86ed-47bfa1f8b5e6  US EEIO 1.1         NaN     NaN   \n",
       "2433  1d444a45-70c4-4718-8427-1c0fff91f88e  US EEIO 1.1         NaN     NaN   \n",
       "\n",
       "     dqSystem exchangeDqSystem filename    id location modified  \\\n",
       "497       NaN              NaN      NaN  1143      NaN      NaN   \n",
       "623       NaN              NaN      NaN  1436      NaN      NaN   \n",
       "718       NaN              NaN      NaN  1649      NaN      NaN   \n",
       "107       NaN              NaN      NaN  1175      NaN      NaN   \n",
       "841       NaN              NaN      NaN  1895      NaN      NaN   \n",
       "...       ...              ...      ...   ...      ...      ...   \n",
       "2120      NaN              NaN      NaN  2379      NaN      NaN   \n",
       "572       NaN              NaN      NaN  1586      NaN      NaN   \n",
       "1374      NaN              NaN      NaN   980      NaN      NaN   \n",
       "2011      NaN              NaN      NaN  1416      NaN      NaN   \n",
       "2433      NaN              NaN      NaN  1009      NaN      NaN   \n",
       "\n",
       "                                                   name processDocumentation  \\\n",
       "497   (2,4-DICHLOROPHENOXY)ACETIC ACID COMPD. WITH 2...                  NaN   \n",
       "623   (2,4-DICHLOROPHENOXY)ACETIC ACID COMPD. WITH 2...                  NaN   \n",
       "718   (2,4-DICHLOROPHENOXY)ACETIC ACID COMPD. WITH 2...                  NaN   \n",
       "107   (4-CHLORO-2-METHYLPHENOXY)ACETIC ACID COMPD. W...                  NaN   \n",
       "841   (4-CHLORO-2-METHYLPHENOXY)ACETIC ACID COMPD. W...                  NaN   \n",
       "...                                                 ...                  ...   \n",
       "2120                                        trifluralin                  NaN   \n",
       "572                                            vanadium                  NaN   \n",
       "1374                                           vanadium                  NaN   \n",
       "2011                                           vanadium                  NaN   \n",
       "2433                                      vinyl acetate                  NaN   \n",
       "\n",
       "          type unit version  \n",
       "497   emission          NaN  \n",
       "623   emission          NaN  \n",
       "718   emission          NaN  \n",
       "107   emission          NaN  \n",
       "841   emission          NaN  \n",
       "...        ...  ...     ...  \n",
       "2120  emission          NaN  \n",
       "572   emission          NaN  \n",
       "1374  emission          NaN  \n",
       "2011  emission          NaN  \n",
       "2433  emission          NaN  \n",
       "\n",
       "[2649 rows x 18 columns]"
      ]
     },
     "execution_count": 32,
     "metadata": {},
     "output_type": "execute_result"
    }
   ],
   "source": [
    "df = bd.Database(\"US EEIO 1.1\").nodes_to_dataframe()\n",
    "df"
   ]
  },
  {
   "cell_type": "markdown",
   "id": "2bfcf0a2-41f8-4214-9dd3-0c5fbb0e5cd1",
   "metadata": {},
   "source": [
    "The columns come from the data attributes stored on the nodes. If one node has the attribute, it is added as a column. You can control which columns get returned, and how they are sorted, see the docstring.\n",
    "\n",
    "This is a normal dataframe, so you can filter it, add or remove columns, and sort as desired."
   ]
  },
  {
   "cell_type": "code",
   "execution_count": 33,
   "id": "e4555a7a-2010-485f-a721-838c096cc7ce",
   "metadata": {},
   "outputs": [
    {
     "data": {
      "text/plain": [
       "Index(['CAS number', 'categories', 'classifications', 'code', 'database',\n",
       "       'description', 'dqEntry', 'dqSystem', 'exchangeDqSystem', 'filename',\n",
       "       'id', 'location', 'modified', 'name', 'processDocumentation', 'type',\n",
       "       'unit', 'version'],\n",
       "      dtype='object')"
      ]
     },
     "execution_count": 33,
     "metadata": {},
     "output_type": "execute_result"
    }
   ],
   "source": [
    "df.columns"
   ]
  },
  {
   "cell_type": "markdown",
   "id": "c5afe851-c10a-4104-96f0-876900390fbd",
   "metadata": {},
   "source": [
    "We can also list all the edges (exchanges) as a dataframe. This is normally too much information, and can take a bit of time to produce, but can be useful."
   ]
  },
  {
   "cell_type": "code",
   "execution_count": 34,
   "id": "f48b0923-f138-4495-bbb7-481b73476ac8",
   "metadata": {},
   "outputs": [
    {
     "name": "stdout",
     "output_type": "stream",
     "text": [
      "Getting activity data\n"
     ]
    },
    {
     "name": "stderr",
     "output_type": "stream",
     "text": [
      "100%|███████████████████████| 2649/2649 [00:00<00:00, 312160.01it/s]\n"
     ]
    },
    {
     "name": "stdout",
     "output_type": "stream",
     "text": [
      "Adding exchange data to activities\n"
     ]
    },
    {
     "name": "stderr",
     "output_type": "stream",
     "text": [
      "100%|████████████████████| 162926/162926 [00:02<00:00, 66576.72it/s]\n"
     ]
    },
    {
     "name": "stdout",
     "output_type": "stream",
     "text": [
      "Filling out exchange data\n"
     ]
    },
    {
     "name": "stderr",
     "output_type": "stream",
     "text": [
      "100%|███████████████████████| 2649/2649 [00:00<00:00, 152688.87it/s]\n"
     ]
    },
    {
     "name": "stdout",
     "output_type": "stream",
     "text": [
      "Creating DataFrame\n",
      "Compressing DataFrame\n"
     ]
    },
    {
     "data": {
      "text/html": [
       "<div>\n",
       "<style scoped>\n",
       "    .dataframe tbody tr th:only-of-type {\n",
       "        vertical-align: middle;\n",
       "    }\n",
       "\n",
       "    .dataframe tbody tr th {\n",
       "        vertical-align: top;\n",
       "    }\n",
       "\n",
       "    .dataframe thead th {\n",
       "        text-align: right;\n",
       "    }\n",
       "</style>\n",
       "<table border=\"1\" class=\"dataframe\">\n",
       "  <thead>\n",
       "    <tr style=\"text-align: right;\">\n",
       "      <th></th>\n",
       "      <th>target_id</th>\n",
       "      <th>target_database</th>\n",
       "      <th>target_code</th>\n",
       "      <th>target_name</th>\n",
       "      <th>target_reference_product</th>\n",
       "      <th>target_location</th>\n",
       "      <th>target_unit</th>\n",
       "      <th>target_type</th>\n",
       "      <th>source_id</th>\n",
       "      <th>source_database</th>\n",
       "      <th>source_code</th>\n",
       "      <th>source_name</th>\n",
       "      <th>source_product</th>\n",
       "      <th>source_location</th>\n",
       "      <th>source_unit</th>\n",
       "      <th>source_categories</th>\n",
       "      <th>edge_amount</th>\n",
       "      <th>edge_type</th>\n",
       "    </tr>\n",
       "  </thead>\n",
       "  <tbody>\n",
       "    <tr>\n",
       "      <th>0</th>\n",
       "      <td>10</td>\n",
       "      <td>US EEIO 1.1</td>\n",
       "      <td>01624075-b520-3826-bd73-2068f7aa24e7</td>\n",
       "      <td>Frozen food; at manufacturer</td>\n",
       "      <td>NaN</td>\n",
       "      <td>United States</td>\n",
       "      <td>USD</td>\n",
       "      <td>process</td>\n",
       "      <td>468</td>\n",
       "      <td>US EEIO 1.1</td>\n",
       "      <td>26bed504-3f97-3a2b-aa83-ffbe94f3b371</td>\n",
       "      <td>Frozen food; at manufacturer</td>\n",
       "      <td>NaN</td>\n",
       "      <td>United States</td>\n",
       "      <td></td>\n",
       "      <td>NaN</td>\n",
       "      <td>1.000000e+00</td>\n",
       "      <td>production</td>\n",
       "    </tr>\n",
       "    <tr>\n",
       "      <th>1</th>\n",
       "      <td>10</td>\n",
       "      <td>US EEIO 1.1</td>\n",
       "      <td>01624075-b520-3826-bd73-2068f7aa24e7</td>\n",
       "      <td>Frozen food; at manufacturer</td>\n",
       "      <td>NaN</td>\n",
       "      <td>United States</td>\n",
       "      <td>USD</td>\n",
       "      <td>process</td>\n",
       "      <td>446</td>\n",
       "      <td>US EEIO 1.1</td>\n",
       "      <td>1bafcbbb-dbe0-338d-b9c1-8c355426cbef</td>\n",
       "      <td>State and local government enterprises</td>\n",
       "      <td>NaN</td>\n",
       "      <td>United States</td>\n",
       "      <td></td>\n",
       "      <td>NaN</td>\n",
       "      <td>1.338032e-03</td>\n",
       "      <td>technosphere</td>\n",
       "    </tr>\n",
       "    <tr>\n",
       "      <th>2</th>\n",
       "      <td>10</td>\n",
       "      <td>US EEIO 1.1</td>\n",
       "      <td>01624075-b520-3826-bd73-2068f7aa24e7</td>\n",
       "      <td>Frozen food; at manufacturer</td>\n",
       "      <td>NaN</td>\n",
       "      <td>United States</td>\n",
       "      <td>USD</td>\n",
       "      <td>process</td>\n",
       "      <td>1029</td>\n",
       "      <td>US EEIO 1.1</td>\n",
       "      <td>20185046-64bb-4c09-a8e7-e8a9e144ca98</td>\n",
       "      <td>Dinitrogen monoxide</td>\n",
       "      <td>NaN</td>\n",
       "      <td>NaN</td>\n",
       "      <td></td>\n",
       "      <td>NaN</td>\n",
       "      <td>1.114413e-07</td>\n",
       "      <td>biosphere</td>\n",
       "    </tr>\n",
       "    <tr>\n",
       "      <th>3</th>\n",
       "      <td>10</td>\n",
       "      <td>US EEIO 1.1</td>\n",
       "      <td>01624075-b520-3826-bd73-2068f7aa24e7</td>\n",
       "      <td>Frozen food; at manufacturer</td>\n",
       "      <td>NaN</td>\n",
       "      <td>United States</td>\n",
       "      <td>USD</td>\n",
       "      <td>process</td>\n",
       "      <td>1737</td>\n",
       "      <td>US EEIO 1.1</td>\n",
       "      <td>7ae398b3-8532-11e0-9d78-0800200c9a66</td>\n",
       "      <td>ethylene glycol</td>\n",
       "      <td>NaN</td>\n",
       "      <td>NaN</td>\n",
       "      <td></td>\n",
       "      <td>NaN</td>\n",
       "      <td>1.223946e-07</td>\n",
       "      <td>biosphere</td>\n",
       "    </tr>\n",
       "    <tr>\n",
       "      <th>4</th>\n",
       "      <td>10</td>\n",
       "      <td>US EEIO 1.1</td>\n",
       "      <td>01624075-b520-3826-bd73-2068f7aa24e7</td>\n",
       "      <td>Frozen food; at manufacturer</td>\n",
       "      <td>NaN</td>\n",
       "      <td>United States</td>\n",
       "      <td>USD</td>\n",
       "      <td>process</td>\n",
       "      <td>417</td>\n",
       "      <td>US EEIO 1.1</td>\n",
       "      <td>0bb0108f-c486-32b3-b059-e0c6c8380571</td>\n",
       "      <td>Tobacco, cotton, sugarcane, peanuts, sugar bee...</td>\n",
       "      <td>NaN</td>\n",
       "      <td>United States</td>\n",
       "      <td></td>\n",
       "      <td>NaN</td>\n",
       "      <td>9.990870e-06</td>\n",
       "      <td>technosphere</td>\n",
       "    </tr>\n",
       "    <tr>\n",
       "      <th>...</th>\n",
       "      <td>...</td>\n",
       "      <td>...</td>\n",
       "      <td>...</td>\n",
       "      <td>...</td>\n",
       "      <td>...</td>\n",
       "      <td>...</td>\n",
       "      <td>...</td>\n",
       "      <td>...</td>\n",
       "      <td>...</td>\n",
       "      <td>...</td>\n",
       "      <td>...</td>\n",
       "      <td>...</td>\n",
       "      <td>...</td>\n",
       "      <td>...</td>\n",
       "      <td>...</td>\n",
       "      <td>...</td>\n",
       "      <td>...</td>\n",
       "      <td>...</td>\n",
       "    </tr>\n",
       "    <tr>\n",
       "      <th>162921</th>\n",
       "      <td>397</td>\n",
       "      <td>US EEIO 1.1</td>\n",
       "      <td>fe5971a7-2610-32ca-8193-a94873de130c</td>\n",
       "      <td>Automatic controls for HVAC and refrigeration ...</td>\n",
       "      <td>NaN</td>\n",
       "      <td>United States</td>\n",
       "      <td>USD</td>\n",
       "      <td>process</td>\n",
       "      <td>1435</td>\n",
       "      <td>US EEIO 1.1</td>\n",
       "      <td>5b2a19b9-1243-44ae-b76c-c0d92159d5d6</td>\n",
       "      <td>2-METHOXYETHANOL</td>\n",
       "      <td>NaN</td>\n",
       "      <td>NaN</td>\n",
       "      <td></td>\n",
       "      <td>NaN</td>\n",
       "      <td>8.602175e-12</td>\n",
       "      <td>biosphere</td>\n",
       "    </tr>\n",
       "    <tr>\n",
       "      <th>162922</th>\n",
       "      <td>397</td>\n",
       "      <td>US EEIO 1.1</td>\n",
       "      <td>fe5971a7-2610-32ca-8193-a94873de130c</td>\n",
       "      <td>Automatic controls for HVAC and refrigeration ...</td>\n",
       "      <td>NaN</td>\n",
       "      <td>United States</td>\n",
       "      <td>USD</td>\n",
       "      <td>process</td>\n",
       "      <td>2631</td>\n",
       "      <td>US EEIO 1.1</td>\n",
       "      <td>fd7aa71c-508c-480d-81a6-8052aad92646</td>\n",
       "      <td>sulfur dioxide</td>\n",
       "      <td>NaN</td>\n",
       "      <td>NaN</td>\n",
       "      <td></td>\n",
       "      <td>NaN</td>\n",
       "      <td>2.635425e-08</td>\n",
       "      <td>biosphere</td>\n",
       "    </tr>\n",
       "    <tr>\n",
       "      <th>162923</th>\n",
       "      <td>397</td>\n",
       "      <td>US EEIO 1.1</td>\n",
       "      <td>fe5971a7-2610-32ca-8193-a94873de130c</td>\n",
       "      <td>Automatic controls for HVAC and refrigeration ...</td>\n",
       "      <td>NaN</td>\n",
       "      <td>United States</td>\n",
       "      <td>USD</td>\n",
       "      <td>process</td>\n",
       "      <td>1471</td>\n",
       "      <td>US EEIO 1.1</td>\n",
       "      <td>5fd672a0-cb68-39e6-88dc-db1a9281c57b</td>\n",
       "      <td>2,4,5,2',5'-PENTACHLOROBIPHENYL</td>\n",
       "      <td>NaN</td>\n",
       "      <td>NaN</td>\n",
       "      <td></td>\n",
       "      <td>NaN</td>\n",
       "      <td>9.791193e-19</td>\n",
       "      <td>biosphere</td>\n",
       "    </tr>\n",
       "    <tr>\n",
       "      <th>162924</th>\n",
       "      <td>397</td>\n",
       "      <td>US EEIO 1.1</td>\n",
       "      <td>fe5971a7-2610-32ca-8193-a94873de130c</td>\n",
       "      <td>Automatic controls for HVAC and refrigeration ...</td>\n",
       "      <td>NaN</td>\n",
       "      <td>United States</td>\n",
       "      <td>USD</td>\n",
       "      <td>process</td>\n",
       "      <td>598</td>\n",
       "      <td>US EEIO 1.1</td>\n",
       "      <td>7e5c6ee1-a47e-3afd-9278-dcb5e1ee50b5</td>\n",
       "      <td>Screws, nuts, and bolts; at manufacturer</td>\n",
       "      <td>NaN</td>\n",
       "      <td>United States</td>\n",
       "      <td></td>\n",
       "      <td>NaN</td>\n",
       "      <td>1.810643e-02</td>\n",
       "      <td>technosphere</td>\n",
       "    </tr>\n",
       "    <tr>\n",
       "      <th>162925</th>\n",
       "      <td>397</td>\n",
       "      <td>US EEIO 1.1</td>\n",
       "      <td>fe5971a7-2610-32ca-8193-a94873de130c</td>\n",
       "      <td>Automatic controls for HVAC and refrigeration ...</td>\n",
       "      <td>NaN</td>\n",
       "      <td>United States</td>\n",
       "      <td>USD</td>\n",
       "      <td>process</td>\n",
       "      <td>1792</td>\n",
       "      <td>US EEIO 1.1</td>\n",
       "      <td>81e17d9a-3e0b-414e-9b2e-eca7e5b3bd4a</td>\n",
       "      <td>Chromium VI</td>\n",
       "      <td>NaN</td>\n",
       "      <td>NaN</td>\n",
       "      <td></td>\n",
       "      <td>NaN</td>\n",
       "      <td>2.746254e-09</td>\n",
       "      <td>biosphere</td>\n",
       "    </tr>\n",
       "  </tbody>\n",
       "</table>\n",
       "<p>162926 rows × 18 columns</p>\n",
       "</div>"
      ],
      "text/plain": [
       "        target_id target_database                           target_code  \\\n",
       "0              10     US EEIO 1.1  01624075-b520-3826-bd73-2068f7aa24e7   \n",
       "1              10     US EEIO 1.1  01624075-b520-3826-bd73-2068f7aa24e7   \n",
       "2              10     US EEIO 1.1  01624075-b520-3826-bd73-2068f7aa24e7   \n",
       "3              10     US EEIO 1.1  01624075-b520-3826-bd73-2068f7aa24e7   \n",
       "4              10     US EEIO 1.1  01624075-b520-3826-bd73-2068f7aa24e7   \n",
       "...           ...             ...                                   ...   \n",
       "162921        397     US EEIO 1.1  fe5971a7-2610-32ca-8193-a94873de130c   \n",
       "162922        397     US EEIO 1.1  fe5971a7-2610-32ca-8193-a94873de130c   \n",
       "162923        397     US EEIO 1.1  fe5971a7-2610-32ca-8193-a94873de130c   \n",
       "162924        397     US EEIO 1.1  fe5971a7-2610-32ca-8193-a94873de130c   \n",
       "162925        397     US EEIO 1.1  fe5971a7-2610-32ca-8193-a94873de130c   \n",
       "\n",
       "                                              target_name  \\\n",
       "0                            Frozen food; at manufacturer   \n",
       "1                            Frozen food; at manufacturer   \n",
       "2                            Frozen food; at manufacturer   \n",
       "3                            Frozen food; at manufacturer   \n",
       "4                            Frozen food; at manufacturer   \n",
       "...                                                   ...   \n",
       "162921  Automatic controls for HVAC and refrigeration ...   \n",
       "162922  Automatic controls for HVAC and refrigeration ...   \n",
       "162923  Automatic controls for HVAC and refrigeration ...   \n",
       "162924  Automatic controls for HVAC and refrigeration ...   \n",
       "162925  Automatic controls for HVAC and refrigeration ...   \n",
       "\n",
       "       target_reference_product target_location target_unit target_type  \\\n",
       "0                           NaN   United States         USD     process   \n",
       "1                           NaN   United States         USD     process   \n",
       "2                           NaN   United States         USD     process   \n",
       "3                           NaN   United States         USD     process   \n",
       "4                           NaN   United States         USD     process   \n",
       "...                         ...             ...         ...         ...   \n",
       "162921                      NaN   United States         USD     process   \n",
       "162922                      NaN   United States         USD     process   \n",
       "162923                      NaN   United States         USD     process   \n",
       "162924                      NaN   United States         USD     process   \n",
       "162925                      NaN   United States         USD     process   \n",
       "\n",
       "        source_id source_database                           source_code  \\\n",
       "0             468     US EEIO 1.1  26bed504-3f97-3a2b-aa83-ffbe94f3b371   \n",
       "1             446     US EEIO 1.1  1bafcbbb-dbe0-338d-b9c1-8c355426cbef   \n",
       "2            1029     US EEIO 1.1  20185046-64bb-4c09-a8e7-e8a9e144ca98   \n",
       "3            1737     US EEIO 1.1  7ae398b3-8532-11e0-9d78-0800200c9a66   \n",
       "4             417     US EEIO 1.1  0bb0108f-c486-32b3-b059-e0c6c8380571   \n",
       "...           ...             ...                                   ...   \n",
       "162921       1435     US EEIO 1.1  5b2a19b9-1243-44ae-b76c-c0d92159d5d6   \n",
       "162922       2631     US EEIO 1.1  fd7aa71c-508c-480d-81a6-8052aad92646   \n",
       "162923       1471     US EEIO 1.1  5fd672a0-cb68-39e6-88dc-db1a9281c57b   \n",
       "162924        598     US EEIO 1.1  7e5c6ee1-a47e-3afd-9278-dcb5e1ee50b5   \n",
       "162925       1792     US EEIO 1.1  81e17d9a-3e0b-414e-9b2e-eca7e5b3bd4a   \n",
       "\n",
       "                                              source_name source_product  \\\n",
       "0                            Frozen food; at manufacturer            NaN   \n",
       "1                  State and local government enterprises            NaN   \n",
       "2                                     Dinitrogen monoxide            NaN   \n",
       "3                                         ethylene glycol            NaN   \n",
       "4       Tobacco, cotton, sugarcane, peanuts, sugar bee...            NaN   \n",
       "...                                                   ...            ...   \n",
       "162921                                   2-METHOXYETHANOL            NaN   \n",
       "162922                                     sulfur dioxide            NaN   \n",
       "162923                    2,4,5,2',5'-PENTACHLOROBIPHENYL            NaN   \n",
       "162924           Screws, nuts, and bolts; at manufacturer            NaN   \n",
       "162925                                        Chromium VI            NaN   \n",
       "\n",
       "       source_location source_unit source_categories   edge_amount  \\\n",
       "0        United States                           NaN  1.000000e+00   \n",
       "1        United States                           NaN  1.338032e-03   \n",
       "2                  NaN                           NaN  1.114413e-07   \n",
       "3                  NaN                           NaN  1.223946e-07   \n",
       "4        United States                           NaN  9.990870e-06   \n",
       "...                ...         ...               ...           ...   \n",
       "162921             NaN                           NaN  8.602175e-12   \n",
       "162922             NaN                           NaN  2.635425e-08   \n",
       "162923             NaN                           NaN  9.791193e-19   \n",
       "162924   United States                           NaN  1.810643e-02   \n",
       "162925             NaN                           NaN  2.746254e-09   \n",
       "\n",
       "           edge_type  \n",
       "0         production  \n",
       "1       technosphere  \n",
       "2          biosphere  \n",
       "3          biosphere  \n",
       "4       technosphere  \n",
       "...              ...  \n",
       "162921     biosphere  \n",
       "162922     biosphere  \n",
       "162923     biosphere  \n",
       "162924  technosphere  \n",
       "162925     biosphere  \n",
       "\n",
       "[162926 rows x 18 columns]"
      ]
     },
     "execution_count": 34,
     "metadata": {},
     "output_type": "execute_result"
    }
   ],
   "source": [
    "df = bd.Database(\"US EEIO 1.1\").edges_to_dataframe()\n",
    "df"
   ]
  },
  {
   "cell_type": "markdown",
   "id": "63018007-afe3-40b4-86d2-75dff64fde20",
   "metadata": {},
   "source": [
    "Now we have standard column labels. as these are directed edges, they have a source and a target. Most of the columns should be self-explanatory. Note that we differentiate between `'target_reference_product'` and `'source_product'`, and only provide the `categories` on the `source`."
   ]
  },
  {
   "cell_type": "code",
   "execution_count": 35,
   "id": "5c81bae6-a731-45c3-be51-bcfba5edf001",
   "metadata": {},
   "outputs": [
    {
     "data": {
      "text/plain": [
       "Index(['target_id', 'target_database', 'target_code', 'target_name',\n",
       "       'target_reference_product', 'target_location', 'target_unit',\n",
       "       'target_type', 'source_id', 'source_database', 'source_code',\n",
       "       'source_name', 'source_product', 'source_location', 'source_unit',\n",
       "       'source_categories', 'edge_amount', 'edge_type'],\n",
       "      dtype='object')"
      ]
     },
     "execution_count": 35,
     "metadata": {},
     "output_type": "execute_result"
    }
   ],
   "source": [
    "df.columns"
   ]
  },
  {
   "cell_type": "markdown",
   "id": "87077e45-716d-46de-ab0b-4907843e2902",
   "metadata": {},
   "source": [
    "If you want to add or remove columns, you can pass in an iterable of formatting functions. These functions must satisfy the following rules:\n",
    "\n",
    "* The take the keyword arguments `node`, `edge`, and `row`.\n",
    "* They modify the dictionary `row` in place. Any return value is ignored.\n",
    "* `node` and `edge` are dictionaries following the [wurst internal format](https://wurst.readthedocs.io/#internal-data-format). `node` is the target, and `edge` is both attributes of the edge and of the source.\n",
    "\n",
    "Here is a simple example:"
   ]
  },
  {
   "cell_type": "code",
   "execution_count": 36,
   "id": "e789bcd1-c784-4cad-98f3-dada6e01b44b",
   "metadata": {},
   "outputs": [],
   "source": [
    "def remove_target_database(node, edge, row):\n",
    "    del row['target_database']\n",
    "    \n",
    "def food_sector(node, edge, row):\n",
    "    row['is_food'] = 'food' in edge['name'].lower()"
   ]
  },
  {
   "cell_type": "code",
   "execution_count": 37,
   "id": "c21f9a18-d2d1-4094-aa20-8dcfc7890bb0",
   "metadata": {},
   "outputs": [
    {
     "name": "stdout",
     "output_type": "stream",
     "text": [
      "Getting activity data\n"
     ]
    },
    {
     "name": "stderr",
     "output_type": "stream",
     "text": [
      "100%|███████████████████████| 2649/2649 [00:00<00:00, 325159.83it/s]\n"
     ]
    },
    {
     "name": "stdout",
     "output_type": "stream",
     "text": [
      "Adding exchange data to activities\n"
     ]
    },
    {
     "name": "stderr",
     "output_type": "stream",
     "text": [
      "100%|████████████████████| 162926/162926 [00:02<00:00, 63514.89it/s]\n"
     ]
    },
    {
     "name": "stdout",
     "output_type": "stream",
     "text": [
      "Filling out exchange data\n"
     ]
    },
    {
     "name": "stderr",
     "output_type": "stream",
     "text": [
      "100%|███████████████████████| 2649/2649 [00:00<00:00, 173898.32it/s]\n"
     ]
    },
    {
     "name": "stdout",
     "output_type": "stream",
     "text": [
      "Creating DataFrame\n",
      "Compressing DataFrame\n"
     ]
    },
    {
     "data": {
      "text/html": [
       "<div>\n",
       "<style scoped>\n",
       "    .dataframe tbody tr th:only-of-type {\n",
       "        vertical-align: middle;\n",
       "    }\n",
       "\n",
       "    .dataframe tbody tr th {\n",
       "        vertical-align: top;\n",
       "    }\n",
       "\n",
       "    .dataframe thead th {\n",
       "        text-align: right;\n",
       "    }\n",
       "</style>\n",
       "<table border=\"1\" class=\"dataframe\">\n",
       "  <thead>\n",
       "    <tr style=\"text-align: right;\">\n",
       "      <th></th>\n",
       "      <th>target_id</th>\n",
       "      <th>target_code</th>\n",
       "      <th>target_name</th>\n",
       "      <th>target_reference_product</th>\n",
       "      <th>target_location</th>\n",
       "      <th>target_unit</th>\n",
       "      <th>target_type</th>\n",
       "      <th>source_id</th>\n",
       "      <th>source_database</th>\n",
       "      <th>source_code</th>\n",
       "      <th>source_name</th>\n",
       "      <th>source_product</th>\n",
       "      <th>source_location</th>\n",
       "      <th>source_unit</th>\n",
       "      <th>source_categories</th>\n",
       "      <th>edge_amount</th>\n",
       "      <th>edge_type</th>\n",
       "      <th>is_food</th>\n",
       "    </tr>\n",
       "  </thead>\n",
       "  <tbody>\n",
       "    <tr>\n",
       "      <th>0</th>\n",
       "      <td>10</td>\n",
       "      <td>01624075-b520-3826-bd73-2068f7aa24e7</td>\n",
       "      <td>Frozen food; at manufacturer</td>\n",
       "      <td>NaN</td>\n",
       "      <td>United States</td>\n",
       "      <td>USD</td>\n",
       "      <td>process</td>\n",
       "      <td>468</td>\n",
       "      <td>US EEIO 1.1</td>\n",
       "      <td>26bed504-3f97-3a2b-aa83-ffbe94f3b371</td>\n",
       "      <td>Frozen food; at manufacturer</td>\n",
       "      <td>NaN</td>\n",
       "      <td>United States</td>\n",
       "      <td></td>\n",
       "      <td>NaN</td>\n",
       "      <td>1.000000e+00</td>\n",
       "      <td>production</td>\n",
       "      <td>True</td>\n",
       "    </tr>\n",
       "    <tr>\n",
       "      <th>1</th>\n",
       "      <td>10</td>\n",
       "      <td>01624075-b520-3826-bd73-2068f7aa24e7</td>\n",
       "      <td>Frozen food; at manufacturer</td>\n",
       "      <td>NaN</td>\n",
       "      <td>United States</td>\n",
       "      <td>USD</td>\n",
       "      <td>process</td>\n",
       "      <td>446</td>\n",
       "      <td>US EEIO 1.1</td>\n",
       "      <td>1bafcbbb-dbe0-338d-b9c1-8c355426cbef</td>\n",
       "      <td>State and local government enterprises</td>\n",
       "      <td>NaN</td>\n",
       "      <td>United States</td>\n",
       "      <td></td>\n",
       "      <td>NaN</td>\n",
       "      <td>1.338032e-03</td>\n",
       "      <td>technosphere</td>\n",
       "      <td>False</td>\n",
       "    </tr>\n",
       "    <tr>\n",
       "      <th>2</th>\n",
       "      <td>10</td>\n",
       "      <td>01624075-b520-3826-bd73-2068f7aa24e7</td>\n",
       "      <td>Frozen food; at manufacturer</td>\n",
       "      <td>NaN</td>\n",
       "      <td>United States</td>\n",
       "      <td>USD</td>\n",
       "      <td>process</td>\n",
       "      <td>1029</td>\n",
       "      <td>US EEIO 1.1</td>\n",
       "      <td>20185046-64bb-4c09-a8e7-e8a9e144ca98</td>\n",
       "      <td>Dinitrogen monoxide</td>\n",
       "      <td>NaN</td>\n",
       "      <td>NaN</td>\n",
       "      <td></td>\n",
       "      <td>NaN</td>\n",
       "      <td>1.114413e-07</td>\n",
       "      <td>biosphere</td>\n",
       "      <td>False</td>\n",
       "    </tr>\n",
       "    <tr>\n",
       "      <th>3</th>\n",
       "      <td>10</td>\n",
       "      <td>01624075-b520-3826-bd73-2068f7aa24e7</td>\n",
       "      <td>Frozen food; at manufacturer</td>\n",
       "      <td>NaN</td>\n",
       "      <td>United States</td>\n",
       "      <td>USD</td>\n",
       "      <td>process</td>\n",
       "      <td>1737</td>\n",
       "      <td>US EEIO 1.1</td>\n",
       "      <td>7ae398b3-8532-11e0-9d78-0800200c9a66</td>\n",
       "      <td>ethylene glycol</td>\n",
       "      <td>NaN</td>\n",
       "      <td>NaN</td>\n",
       "      <td></td>\n",
       "      <td>NaN</td>\n",
       "      <td>1.223946e-07</td>\n",
       "      <td>biosphere</td>\n",
       "      <td>False</td>\n",
       "    </tr>\n",
       "    <tr>\n",
       "      <th>4</th>\n",
       "      <td>10</td>\n",
       "      <td>01624075-b520-3826-bd73-2068f7aa24e7</td>\n",
       "      <td>Frozen food; at manufacturer</td>\n",
       "      <td>NaN</td>\n",
       "      <td>United States</td>\n",
       "      <td>USD</td>\n",
       "      <td>process</td>\n",
       "      <td>417</td>\n",
       "      <td>US EEIO 1.1</td>\n",
       "      <td>0bb0108f-c486-32b3-b059-e0c6c8380571</td>\n",
       "      <td>Tobacco, cotton, sugarcane, peanuts, sugar bee...</td>\n",
       "      <td>NaN</td>\n",
       "      <td>United States</td>\n",
       "      <td></td>\n",
       "      <td>NaN</td>\n",
       "      <td>9.990870e-06</td>\n",
       "      <td>technosphere</td>\n",
       "      <td>False</td>\n",
       "    </tr>\n",
       "    <tr>\n",
       "      <th>...</th>\n",
       "      <td>...</td>\n",
       "      <td>...</td>\n",
       "      <td>...</td>\n",
       "      <td>...</td>\n",
       "      <td>...</td>\n",
       "      <td>...</td>\n",
       "      <td>...</td>\n",
       "      <td>...</td>\n",
       "      <td>...</td>\n",
       "      <td>...</td>\n",
       "      <td>...</td>\n",
       "      <td>...</td>\n",
       "      <td>...</td>\n",
       "      <td>...</td>\n",
       "      <td>...</td>\n",
       "      <td>...</td>\n",
       "      <td>...</td>\n",
       "      <td>...</td>\n",
       "    </tr>\n",
       "    <tr>\n",
       "      <th>162921</th>\n",
       "      <td>397</td>\n",
       "      <td>fe5971a7-2610-32ca-8193-a94873de130c</td>\n",
       "      <td>Automatic controls for HVAC and refrigeration ...</td>\n",
       "      <td>NaN</td>\n",
       "      <td>United States</td>\n",
       "      <td>USD</td>\n",
       "      <td>process</td>\n",
       "      <td>1435</td>\n",
       "      <td>US EEIO 1.1</td>\n",
       "      <td>5b2a19b9-1243-44ae-b76c-c0d92159d5d6</td>\n",
       "      <td>2-METHOXYETHANOL</td>\n",
       "      <td>NaN</td>\n",
       "      <td>NaN</td>\n",
       "      <td></td>\n",
       "      <td>NaN</td>\n",
       "      <td>8.602175e-12</td>\n",
       "      <td>biosphere</td>\n",
       "      <td>False</td>\n",
       "    </tr>\n",
       "    <tr>\n",
       "      <th>162922</th>\n",
       "      <td>397</td>\n",
       "      <td>fe5971a7-2610-32ca-8193-a94873de130c</td>\n",
       "      <td>Automatic controls for HVAC and refrigeration ...</td>\n",
       "      <td>NaN</td>\n",
       "      <td>United States</td>\n",
       "      <td>USD</td>\n",
       "      <td>process</td>\n",
       "      <td>2631</td>\n",
       "      <td>US EEIO 1.1</td>\n",
       "      <td>fd7aa71c-508c-480d-81a6-8052aad92646</td>\n",
       "      <td>sulfur dioxide</td>\n",
       "      <td>NaN</td>\n",
       "      <td>NaN</td>\n",
       "      <td></td>\n",
       "      <td>NaN</td>\n",
       "      <td>2.635425e-08</td>\n",
       "      <td>biosphere</td>\n",
       "      <td>False</td>\n",
       "    </tr>\n",
       "    <tr>\n",
       "      <th>162923</th>\n",
       "      <td>397</td>\n",
       "      <td>fe5971a7-2610-32ca-8193-a94873de130c</td>\n",
       "      <td>Automatic controls for HVAC and refrigeration ...</td>\n",
       "      <td>NaN</td>\n",
       "      <td>United States</td>\n",
       "      <td>USD</td>\n",
       "      <td>process</td>\n",
       "      <td>1471</td>\n",
       "      <td>US EEIO 1.1</td>\n",
       "      <td>5fd672a0-cb68-39e6-88dc-db1a9281c57b</td>\n",
       "      <td>2,4,5,2',5'-PENTACHLOROBIPHENYL</td>\n",
       "      <td>NaN</td>\n",
       "      <td>NaN</td>\n",
       "      <td></td>\n",
       "      <td>NaN</td>\n",
       "      <td>9.791193e-19</td>\n",
       "      <td>biosphere</td>\n",
       "      <td>False</td>\n",
       "    </tr>\n",
       "    <tr>\n",
       "      <th>162924</th>\n",
       "      <td>397</td>\n",
       "      <td>fe5971a7-2610-32ca-8193-a94873de130c</td>\n",
       "      <td>Automatic controls for HVAC and refrigeration ...</td>\n",
       "      <td>NaN</td>\n",
       "      <td>United States</td>\n",
       "      <td>USD</td>\n",
       "      <td>process</td>\n",
       "      <td>598</td>\n",
       "      <td>US EEIO 1.1</td>\n",
       "      <td>7e5c6ee1-a47e-3afd-9278-dcb5e1ee50b5</td>\n",
       "      <td>Screws, nuts, and bolts; at manufacturer</td>\n",
       "      <td>NaN</td>\n",
       "      <td>United States</td>\n",
       "      <td></td>\n",
       "      <td>NaN</td>\n",
       "      <td>1.810643e-02</td>\n",
       "      <td>technosphere</td>\n",
       "      <td>False</td>\n",
       "    </tr>\n",
       "    <tr>\n",
       "      <th>162925</th>\n",
       "      <td>397</td>\n",
       "      <td>fe5971a7-2610-32ca-8193-a94873de130c</td>\n",
       "      <td>Automatic controls for HVAC and refrigeration ...</td>\n",
       "      <td>NaN</td>\n",
       "      <td>United States</td>\n",
       "      <td>USD</td>\n",
       "      <td>process</td>\n",
       "      <td>1792</td>\n",
       "      <td>US EEIO 1.1</td>\n",
       "      <td>81e17d9a-3e0b-414e-9b2e-eca7e5b3bd4a</td>\n",
       "      <td>Chromium VI</td>\n",
       "      <td>NaN</td>\n",
       "      <td>NaN</td>\n",
       "      <td></td>\n",
       "      <td>NaN</td>\n",
       "      <td>2.746254e-09</td>\n",
       "      <td>biosphere</td>\n",
       "      <td>False</td>\n",
       "    </tr>\n",
       "  </tbody>\n",
       "</table>\n",
       "<p>162926 rows × 18 columns</p>\n",
       "</div>"
      ],
      "text/plain": [
       "        target_id                           target_code  \\\n",
       "0              10  01624075-b520-3826-bd73-2068f7aa24e7   \n",
       "1              10  01624075-b520-3826-bd73-2068f7aa24e7   \n",
       "2              10  01624075-b520-3826-bd73-2068f7aa24e7   \n",
       "3              10  01624075-b520-3826-bd73-2068f7aa24e7   \n",
       "4              10  01624075-b520-3826-bd73-2068f7aa24e7   \n",
       "...           ...                                   ...   \n",
       "162921        397  fe5971a7-2610-32ca-8193-a94873de130c   \n",
       "162922        397  fe5971a7-2610-32ca-8193-a94873de130c   \n",
       "162923        397  fe5971a7-2610-32ca-8193-a94873de130c   \n",
       "162924        397  fe5971a7-2610-32ca-8193-a94873de130c   \n",
       "162925        397  fe5971a7-2610-32ca-8193-a94873de130c   \n",
       "\n",
       "                                              target_name  \\\n",
       "0                            Frozen food; at manufacturer   \n",
       "1                            Frozen food; at manufacturer   \n",
       "2                            Frozen food; at manufacturer   \n",
       "3                            Frozen food; at manufacturer   \n",
       "4                            Frozen food; at manufacturer   \n",
       "...                                                   ...   \n",
       "162921  Automatic controls for HVAC and refrigeration ...   \n",
       "162922  Automatic controls for HVAC and refrigeration ...   \n",
       "162923  Automatic controls for HVAC and refrigeration ...   \n",
       "162924  Automatic controls for HVAC and refrigeration ...   \n",
       "162925  Automatic controls for HVAC and refrigeration ...   \n",
       "\n",
       "       target_reference_product target_location target_unit target_type  \\\n",
       "0                           NaN   United States         USD     process   \n",
       "1                           NaN   United States         USD     process   \n",
       "2                           NaN   United States         USD     process   \n",
       "3                           NaN   United States         USD     process   \n",
       "4                           NaN   United States         USD     process   \n",
       "...                         ...             ...         ...         ...   \n",
       "162921                      NaN   United States         USD     process   \n",
       "162922                      NaN   United States         USD     process   \n",
       "162923                      NaN   United States         USD     process   \n",
       "162924                      NaN   United States         USD     process   \n",
       "162925                      NaN   United States         USD     process   \n",
       "\n",
       "        source_id source_database                           source_code  \\\n",
       "0             468     US EEIO 1.1  26bed504-3f97-3a2b-aa83-ffbe94f3b371   \n",
       "1             446     US EEIO 1.1  1bafcbbb-dbe0-338d-b9c1-8c355426cbef   \n",
       "2            1029     US EEIO 1.1  20185046-64bb-4c09-a8e7-e8a9e144ca98   \n",
       "3            1737     US EEIO 1.1  7ae398b3-8532-11e0-9d78-0800200c9a66   \n",
       "4             417     US EEIO 1.1  0bb0108f-c486-32b3-b059-e0c6c8380571   \n",
       "...           ...             ...                                   ...   \n",
       "162921       1435     US EEIO 1.1  5b2a19b9-1243-44ae-b76c-c0d92159d5d6   \n",
       "162922       2631     US EEIO 1.1  fd7aa71c-508c-480d-81a6-8052aad92646   \n",
       "162923       1471     US EEIO 1.1  5fd672a0-cb68-39e6-88dc-db1a9281c57b   \n",
       "162924        598     US EEIO 1.1  7e5c6ee1-a47e-3afd-9278-dcb5e1ee50b5   \n",
       "162925       1792     US EEIO 1.1  81e17d9a-3e0b-414e-9b2e-eca7e5b3bd4a   \n",
       "\n",
       "                                              source_name source_product  \\\n",
       "0                            Frozen food; at manufacturer            NaN   \n",
       "1                  State and local government enterprises            NaN   \n",
       "2                                     Dinitrogen monoxide            NaN   \n",
       "3                                         ethylene glycol            NaN   \n",
       "4       Tobacco, cotton, sugarcane, peanuts, sugar bee...            NaN   \n",
       "...                                                   ...            ...   \n",
       "162921                                   2-METHOXYETHANOL            NaN   \n",
       "162922                                     sulfur dioxide            NaN   \n",
       "162923                    2,4,5,2',5'-PENTACHLOROBIPHENYL            NaN   \n",
       "162924           Screws, nuts, and bolts; at manufacturer            NaN   \n",
       "162925                                        Chromium VI            NaN   \n",
       "\n",
       "       source_location source_unit source_categories   edge_amount  \\\n",
       "0        United States                           NaN  1.000000e+00   \n",
       "1        United States                           NaN  1.338032e-03   \n",
       "2                  NaN                           NaN  1.114413e-07   \n",
       "3                  NaN                           NaN  1.223946e-07   \n",
       "4        United States                           NaN  9.990870e-06   \n",
       "...                ...         ...               ...           ...   \n",
       "162921             NaN                           NaN  8.602175e-12   \n",
       "162922             NaN                           NaN  2.635425e-08   \n",
       "162923             NaN                           NaN  9.791193e-19   \n",
       "162924   United States                           NaN  1.810643e-02   \n",
       "162925             NaN                           NaN  2.746254e-09   \n",
       "\n",
       "           edge_type  is_food  \n",
       "0         production     True  \n",
       "1       technosphere    False  \n",
       "2          biosphere    False  \n",
       "3          biosphere    False  \n",
       "4       technosphere    False  \n",
       "...              ...      ...  \n",
       "162921     biosphere    False  \n",
       "162922     biosphere    False  \n",
       "162923     biosphere    False  \n",
       "162924  technosphere    False  \n",
       "162925     biosphere    False  \n",
       "\n",
       "[162926 rows x 18 columns]"
      ]
     },
     "execution_count": 37,
     "metadata": {},
     "output_type": "execute_result"
    }
   ],
   "source": [
    "df = bd.Database(\"US EEIO 1.1\").edges_to_dataframe(formatters=[remove_target_database, food_sector])\n",
    "df"
   ]
  },
  {
   "cell_type": "markdown",
   "id": "ce983ab3-9d36-4222-928b-22d4db53ecb0",
   "metadata": {},
   "source": [
    "In the case of `target_name`, the dataframe has more than 150.000 rows, but only 388 unique values.\n",
    "\n",
    "You can skip the conversion to categorical columns by passing `categorical=False`."
   ]
  },
  {
   "cell_type": "markdown",
   "id": "c6e7f6a7-147b-477a-a005-0c329496e6e6",
   "metadata": {},
   "source": [
    "To save on memory, we turn some columns into categorical columns, where each unique value is only stored once."
   ]
  },
  {
   "cell_type": "code",
   "execution_count": 38,
   "id": "5d72828e-537d-40a6-a1b9-4b0ffd94ea80",
   "metadata": {},
   "outputs": [
    {
     "data": {
      "text/plain": [
       "target_id                      int64\n",
       "target_code                   object\n",
       "target_name                 category\n",
       "target_reference_product    category\n",
       "target_location             category\n",
       "target_unit                 category\n",
       "target_type                 category\n",
       "source_id                      int64\n",
       "source_database             category\n",
       "source_code                 category\n",
       "source_name                 category\n",
       "source_product              category\n",
       "source_location             category\n",
       "source_unit                 category\n",
       "source_categories           category\n",
       "edge_amount                  float64\n",
       "edge_type                   category\n",
       "is_food                         bool\n",
       "dtype: object"
      ]
     },
     "execution_count": 38,
     "metadata": {},
     "output_type": "execute_result"
    }
   ],
   "source": [
    "df.dtypes"
   ]
  },
  {
   "cell_type": "code",
   "execution_count": 39,
   "id": "ebcbb0dc-5912-424b-8ffb-150e6c40ad39",
   "metadata": {},
   "outputs": [
    {
     "data": {
      "text/plain": [
       "0                              Frozen food; at manufacturer\n",
       "1                              Frozen food; at manufacturer\n",
       "2                              Frozen food; at manufacturer\n",
       "3                              Frozen food; at manufacturer\n",
       "4                              Frozen food; at manufacturer\n",
       "                                ...                        \n",
       "162921    Automatic controls for HVAC and refrigeration ...\n",
       "162922    Automatic controls for HVAC and refrigeration ...\n",
       "162923    Automatic controls for HVAC and refrigeration ...\n",
       "162924    Automatic controls for HVAC and refrigeration ...\n",
       "162925    Automatic controls for HVAC and refrigeration ...\n",
       "Name: target_name, Length: 162926, dtype: category\n",
       "Categories (388, object): ['Abrasive products; at manufacturer', 'Accounting, tax preparation, bookkeeping, and..., 'Adhesives; at manufacturer', 'Advertising and public relations', ..., 'Wiring devices; at manufacturer', 'Wood kitchen cabinets and countertops; at man..., 'Wood pulp; at manufacturer', 'Wooden windows, door, and flooring; at manufa...]"
      ]
     },
     "execution_count": 39,
     "metadata": {},
     "output_type": "execute_result"
    }
   ],
   "source": [
    "df['target_name']"
   ]
  },
  {
   "cell_type": "markdown",
   "id": "1d05a256-ddba-414e-a70a-1810709c70f0",
   "metadata": {},
   "source": [
    "We can also get a dataframe of the edges for a specific node. Here we get all edges, but you can filter this further with the edge constructors `.production()`, `.technosphere()`, and `.biosphere()`."
   ]
  },
  {
   "cell_type": "code",
   "execution_count": 40,
   "id": "6d6b7ed9-607d-4be5-8a47-5534a858e3a5",
   "metadata": {},
   "outputs": [
    {
     "data": {
      "text/html": [
       "<div>\n",
       "<style scoped>\n",
       "    .dataframe tbody tr th:only-of-type {\n",
       "        vertical-align: middle;\n",
       "    }\n",
       "\n",
       "    .dataframe tbody tr th {\n",
       "        vertical-align: top;\n",
       "    }\n",
       "\n",
       "    .dataframe thead th {\n",
       "        text-align: right;\n",
       "    }\n",
       "</style>\n",
       "<table border=\"1\" class=\"dataframe\">\n",
       "  <thead>\n",
       "    <tr style=\"text-align: right;\">\n",
       "      <th></th>\n",
       "      <th>target_id</th>\n",
       "      <th>target_database</th>\n",
       "      <th>target_code</th>\n",
       "      <th>target_name</th>\n",
       "      <th>target_reference_product</th>\n",
       "      <th>target_location</th>\n",
       "      <th>target_unit</th>\n",
       "      <th>target_type</th>\n",
       "      <th>source_id</th>\n",
       "      <th>source_database</th>\n",
       "      <th>source_code</th>\n",
       "      <th>source_name</th>\n",
       "      <th>source_product</th>\n",
       "      <th>source_location</th>\n",
       "      <th>source_unit</th>\n",
       "      <th>source_categories</th>\n",
       "      <th>edge_amount</th>\n",
       "      <th>edge_type</th>\n",
       "    </tr>\n",
       "  </thead>\n",
       "  <tbody>\n",
       "    <tr>\n",
       "      <th>0</th>\n",
       "      <td>268</td>\n",
       "      <td>US EEIO 1.1</td>\n",
       "      <td>a4d1f390-eb93-3e56-956b-6efb50b9d0bf</td>\n",
       "      <td>General merchandise stores</td>\n",
       "      <td>NaN</td>\n",
       "      <td>United States</td>\n",
       "      <td>USD</td>\n",
       "      <td>process</td>\n",
       "      <td>616</td>\n",
       "      <td>US EEIO 1.1</td>\n",
       "      <td>8f7034e4-99fe-324d-9fd9-08be3ee2f06a</td>\n",
       "      <td>General merchandise stores</td>\n",
       "      <td>NaN</td>\n",
       "      <td>United States</td>\n",
       "      <td></td>\n",
       "      <td>Technosphere Flows::44-45: Retail Trade</td>\n",
       "      <td>1.000000e+00</td>\n",
       "      <td>production</td>\n",
       "    </tr>\n",
       "    <tr>\n",
       "      <th>1</th>\n",
       "      <td>268</td>\n",
       "      <td>US EEIO 1.1</td>\n",
       "      <td>a4d1f390-eb93-3e56-956b-6efb50b9d0bf</td>\n",
       "      <td>General merchandise stores</td>\n",
       "      <td>NaN</td>\n",
       "      <td>United States</td>\n",
       "      <td>USD</td>\n",
       "      <td>process</td>\n",
       "      <td>695</td>\n",
       "      <td>US EEIO 1.1</td>\n",
       "      <td>cc2b30ca-77b6-30d2-b8ac-a2377638b113</td>\n",
       "      <td>Light fixtures; at manufacturer</td>\n",
       "      <td>NaN</td>\n",
       "      <td>United States</td>\n",
       "      <td></td>\n",
       "      <td>31-33: Manufacturing::3351: Electric Lighting ...</td>\n",
       "      <td>1.095284e-05</td>\n",
       "      <td>technosphere</td>\n",
       "    </tr>\n",
       "    <tr>\n",
       "      <th>2</th>\n",
       "      <td>268</td>\n",
       "      <td>US EEIO 1.1</td>\n",
       "      <td>a4d1f390-eb93-3e56-956b-6efb50b9d0bf</td>\n",
       "      <td>General merchandise stores</td>\n",
       "      <td>NaN</td>\n",
       "      <td>United States</td>\n",
       "      <td>USD</td>\n",
       "      <td>process</td>\n",
       "      <td>1086</td>\n",
       "      <td>US EEIO 1.1</td>\n",
       "      <td>28999907-a8a7-45b3-857e-836495ca2aa0</td>\n",
       "      <td>benzene</td>\n",
       "      <td>NaN</td>\n",
       "      <td>NaN</td>\n",
       "      <td></td>\n",
       "      <td>air::unspecified</td>\n",
       "      <td>4.439622e-08</td>\n",
       "      <td>biosphere</td>\n",
       "    </tr>\n",
       "    <tr>\n",
       "      <th>3</th>\n",
       "      <td>268</td>\n",
       "      <td>US EEIO 1.1</td>\n",
       "      <td>a4d1f390-eb93-3e56-956b-6efb50b9d0bf</td>\n",
       "      <td>General merchandise stores</td>\n",
       "      <td>NaN</td>\n",
       "      <td>United States</td>\n",
       "      <td>USD</td>\n",
       "      <td>process</td>\n",
       "      <td>596</td>\n",
       "      <td>US EEIO 1.1</td>\n",
       "      <td>7d1b824e-99fb-3fc5-b351-85b0fc0c983a</td>\n",
       "      <td>Small electrical appliances; at manufacturer</td>\n",
       "      <td>NaN</td>\n",
       "      <td>United States</td>\n",
       "      <td></td>\n",
       "      <td>31-33: Manufacturing::3352: Household Applianc...</td>\n",
       "      <td>7.721754e-04</td>\n",
       "      <td>technosphere</td>\n",
       "    </tr>\n",
       "    <tr>\n",
       "      <th>4</th>\n",
       "      <td>268</td>\n",
       "      <td>US EEIO 1.1</td>\n",
       "      <td>a4d1f390-eb93-3e56-956b-6efb50b9d0bf</td>\n",
       "      <td>General merchandise stores</td>\n",
       "      <td>NaN</td>\n",
       "      <td>United States</td>\n",
       "      <td>USD</td>\n",
       "      <td>process</td>\n",
       "      <td>731</td>\n",
       "      <td>US EEIO 1.1</td>\n",
       "      <td>dfd0ccab-61e3-34a8-9fce-316a77b2334e</td>\n",
       "      <td>Air transport</td>\n",
       "      <td>NaN</td>\n",
       "      <td>United States</td>\n",
       "      <td></td>\n",
       "      <td>Technosphere Flows::48-49: Transportation and ...</td>\n",
       "      <td>1.040520e-03</td>\n",
       "      <td>technosphere</td>\n",
       "    </tr>\n",
       "    <tr>\n",
       "      <th>...</th>\n",
       "      <td>...</td>\n",
       "      <td>...</td>\n",
       "      <td>...</td>\n",
       "      <td>...</td>\n",
       "      <td>...</td>\n",
       "      <td>...</td>\n",
       "      <td>...</td>\n",
       "      <td>...</td>\n",
       "      <td>...</td>\n",
       "      <td>...</td>\n",
       "      <td>...</td>\n",
       "      <td>...</td>\n",
       "      <td>...</td>\n",
       "      <td>...</td>\n",
       "      <td>...</td>\n",
       "      <td>...</td>\n",
       "      <td>...</td>\n",
       "      <td>...</td>\n",
       "    </tr>\n",
       "    <tr>\n",
       "      <th>205</th>\n",
       "      <td>268</td>\n",
       "      <td>US EEIO 1.1</td>\n",
       "      <td>a4d1f390-eb93-3e56-956b-6efb50b9d0bf</td>\n",
       "      <td>General merchandise stores</td>\n",
       "      <td>NaN</td>\n",
       "      <td>United States</td>\n",
       "      <td>USD</td>\n",
       "      <td>process</td>\n",
       "      <td>1845</td>\n",
       "      <td>US EEIO 1.1</td>\n",
       "      <td>8aa9184d-fa90-4048-a84e-4d8e7a34aca1</td>\n",
       "      <td>ethane, 1,2-dibromo-</td>\n",
       "      <td>NaN</td>\n",
       "      <td>NaN</td>\n",
       "      <td></td>\n",
       "      <td>air::unspecified</td>\n",
       "      <td>2.281681e-14</td>\n",
       "      <td>biosphere</td>\n",
       "    </tr>\n",
       "    <tr>\n",
       "      <th>206</th>\n",
       "      <td>268</td>\n",
       "      <td>US EEIO 1.1</td>\n",
       "      <td>a4d1f390-eb93-3e56-956b-6efb50b9d0bf</td>\n",
       "      <td>General merchandise stores</td>\n",
       "      <td>NaN</td>\n",
       "      <td>United States</td>\n",
       "      <td>USD</td>\n",
       "      <td>process</td>\n",
       "      <td>1703</td>\n",
       "      <td>US EEIO 1.1</td>\n",
       "      <td>770c88e4-cd71-315c-b0b1-ea502618eb04</td>\n",
       "      <td>trichloroethylene</td>\n",
       "      <td>NaN</td>\n",
       "      <td>NaN</td>\n",
       "      <td></td>\n",
       "      <td>air::unspecified</td>\n",
       "      <td>6.124519e-09</td>\n",
       "      <td>biosphere</td>\n",
       "    </tr>\n",
       "    <tr>\n",
       "      <th>207</th>\n",
       "      <td>268</td>\n",
       "      <td>US EEIO 1.1</td>\n",
       "      <td>a4d1f390-eb93-3e56-956b-6efb50b9d0bf</td>\n",
       "      <td>General merchandise stores</td>\n",
       "      <td>NaN</td>\n",
       "      <td>United States</td>\n",
       "      <td>USD</td>\n",
       "      <td>process</td>\n",
       "      <td>605</td>\n",
       "      <td>US EEIO 1.1</td>\n",
       "      <td>83e2a8d8-f4bc-3d20-8517-4c2d73119627</td>\n",
       "      <td>Computer terminals and other computer peripher...</td>\n",
       "      <td>NaN</td>\n",
       "      <td>United States</td>\n",
       "      <td></td>\n",
       "      <td>31-33: Manufacturing::3341: Computer and Perip...</td>\n",
       "      <td>9.857558e-05</td>\n",
       "      <td>technosphere</td>\n",
       "    </tr>\n",
       "    <tr>\n",
       "      <th>208</th>\n",
       "      <td>268</td>\n",
       "      <td>US EEIO 1.1</td>\n",
       "      <td>a4d1f390-eb93-3e56-956b-6efb50b9d0bf</td>\n",
       "      <td>General merchandise stores</td>\n",
       "      <td>NaN</td>\n",
       "      <td>United States</td>\n",
       "      <td>USD</td>\n",
       "      <td>process</td>\n",
       "      <td>727</td>\n",
       "      <td>US EEIO 1.1</td>\n",
       "      <td>dd800655-77a3-3849-b9ad-e6e48775ef3d</td>\n",
       "      <td>Advertising and public relations</td>\n",
       "      <td>NaN</td>\n",
       "      <td>United States</td>\n",
       "      <td></td>\n",
       "      <td>54: Professional, Scientific, and Technical Se...</td>\n",
       "      <td>3.168657e-02</td>\n",
       "      <td>technosphere</td>\n",
       "    </tr>\n",
       "    <tr>\n",
       "      <th>209</th>\n",
       "      <td>268</td>\n",
       "      <td>US EEIO 1.1</td>\n",
       "      <td>a4d1f390-eb93-3e56-956b-6efb50b9d0bf</td>\n",
       "      <td>General merchandise stores</td>\n",
       "      <td>NaN</td>\n",
       "      <td>United States</td>\n",
       "      <td>USD</td>\n",
       "      <td>process</td>\n",
       "      <td>749</td>\n",
       "      <td>US EEIO 1.1</td>\n",
       "      <td>ee37e0b3-a397-351f-adf7-002443fa9c76</td>\n",
       "      <td>Corn products; at manufacturer</td>\n",
       "      <td>NaN</td>\n",
       "      <td>United States</td>\n",
       "      <td></td>\n",
       "      <td>31-33: Manufacturing::3112: Grain and Oilseed ...</td>\n",
       "      <td>5.476421e-06</td>\n",
       "      <td>technosphere</td>\n",
       "    </tr>\n",
       "  </tbody>\n",
       "</table>\n",
       "<p>210 rows × 18 columns</p>\n",
       "</div>"
      ],
      "text/plain": [
       "     target_id target_database                           target_code  \\\n",
       "0          268     US EEIO 1.1  a4d1f390-eb93-3e56-956b-6efb50b9d0bf   \n",
       "1          268     US EEIO 1.1  a4d1f390-eb93-3e56-956b-6efb50b9d0bf   \n",
       "2          268     US EEIO 1.1  a4d1f390-eb93-3e56-956b-6efb50b9d0bf   \n",
       "3          268     US EEIO 1.1  a4d1f390-eb93-3e56-956b-6efb50b9d0bf   \n",
       "4          268     US EEIO 1.1  a4d1f390-eb93-3e56-956b-6efb50b9d0bf   \n",
       "..         ...             ...                                   ...   \n",
       "205        268     US EEIO 1.1  a4d1f390-eb93-3e56-956b-6efb50b9d0bf   \n",
       "206        268     US EEIO 1.1  a4d1f390-eb93-3e56-956b-6efb50b9d0bf   \n",
       "207        268     US EEIO 1.1  a4d1f390-eb93-3e56-956b-6efb50b9d0bf   \n",
       "208        268     US EEIO 1.1  a4d1f390-eb93-3e56-956b-6efb50b9d0bf   \n",
       "209        268     US EEIO 1.1  a4d1f390-eb93-3e56-956b-6efb50b9d0bf   \n",
       "\n",
       "                    target_name target_reference_product target_location  \\\n",
       "0    General merchandise stores                      NaN   United States   \n",
       "1    General merchandise stores                      NaN   United States   \n",
       "2    General merchandise stores                      NaN   United States   \n",
       "3    General merchandise stores                      NaN   United States   \n",
       "4    General merchandise stores                      NaN   United States   \n",
       "..                          ...                      ...             ...   \n",
       "205  General merchandise stores                      NaN   United States   \n",
       "206  General merchandise stores                      NaN   United States   \n",
       "207  General merchandise stores                      NaN   United States   \n",
       "208  General merchandise stores                      NaN   United States   \n",
       "209  General merchandise stores                      NaN   United States   \n",
       "\n",
       "    target_unit target_type  source_id source_database  \\\n",
       "0           USD     process        616     US EEIO 1.1   \n",
       "1           USD     process        695     US EEIO 1.1   \n",
       "2           USD     process       1086     US EEIO 1.1   \n",
       "3           USD     process        596     US EEIO 1.1   \n",
       "4           USD     process        731     US EEIO 1.1   \n",
       "..          ...         ...        ...             ...   \n",
       "205         USD     process       1845     US EEIO 1.1   \n",
       "206         USD     process       1703     US EEIO 1.1   \n",
       "207         USD     process        605     US EEIO 1.1   \n",
       "208         USD     process        727     US EEIO 1.1   \n",
       "209         USD     process        749     US EEIO 1.1   \n",
       "\n",
       "                              source_code  \\\n",
       "0    8f7034e4-99fe-324d-9fd9-08be3ee2f06a   \n",
       "1    cc2b30ca-77b6-30d2-b8ac-a2377638b113   \n",
       "2    28999907-a8a7-45b3-857e-836495ca2aa0   \n",
       "3    7d1b824e-99fb-3fc5-b351-85b0fc0c983a   \n",
       "4    dfd0ccab-61e3-34a8-9fce-316a77b2334e   \n",
       "..                                    ...   \n",
       "205  8aa9184d-fa90-4048-a84e-4d8e7a34aca1   \n",
       "206  770c88e4-cd71-315c-b0b1-ea502618eb04   \n",
       "207  83e2a8d8-f4bc-3d20-8517-4c2d73119627   \n",
       "208  dd800655-77a3-3849-b9ad-e6e48775ef3d   \n",
       "209  ee37e0b3-a397-351f-adf7-002443fa9c76   \n",
       "\n",
       "                                           source_name source_product  \\\n",
       "0                           General merchandise stores            NaN   \n",
       "1                      Light fixtures; at manufacturer            NaN   \n",
       "2                                              benzene            NaN   \n",
       "3         Small electrical appliances; at manufacturer            NaN   \n",
       "4                                        Air transport            NaN   \n",
       "..                                                 ...            ...   \n",
       "205                               ethane, 1,2-dibromo-            NaN   \n",
       "206                                  trichloroethylene            NaN   \n",
       "207  Computer terminals and other computer peripher...            NaN   \n",
       "208                   Advertising and public relations            NaN   \n",
       "209                     Corn products; at manufacturer            NaN   \n",
       "\n",
       "    source_location source_unit  \\\n",
       "0     United States               \n",
       "1     United States               \n",
       "2               NaN               \n",
       "3     United States               \n",
       "4     United States               \n",
       "..              ...         ...   \n",
       "205             NaN               \n",
       "206             NaN               \n",
       "207   United States               \n",
       "208   United States               \n",
       "209   United States               \n",
       "\n",
       "                                     source_categories   edge_amount  \\\n",
       "0              Technosphere Flows::44-45: Retail Trade  1.000000e+00   \n",
       "1    31-33: Manufacturing::3351: Electric Lighting ...  1.095284e-05   \n",
       "2                                     air::unspecified  4.439622e-08   \n",
       "3    31-33: Manufacturing::3352: Household Applianc...  7.721754e-04   \n",
       "4    Technosphere Flows::48-49: Transportation and ...  1.040520e-03   \n",
       "..                                                 ...           ...   \n",
       "205                                   air::unspecified  2.281681e-14   \n",
       "206                                   air::unspecified  6.124519e-09   \n",
       "207  31-33: Manufacturing::3341: Computer and Perip...  9.857558e-05   \n",
       "208  54: Professional, Scientific, and Technical Se...  3.168657e-02   \n",
       "209  31-33: Manufacturing::3112: Grain and Oilseed ...  5.476421e-06   \n",
       "\n",
       "        edge_type  \n",
       "0      production  \n",
       "1    technosphere  \n",
       "2       biosphere  \n",
       "3    technosphere  \n",
       "4    technosphere  \n",
       "..            ...  \n",
       "205     biosphere  \n",
       "206     biosphere  \n",
       "207  technosphere  \n",
       "208  technosphere  \n",
       "209  technosphere  \n",
       "\n",
       "[210 rows x 18 columns]"
      ]
     },
     "execution_count": 40,
     "metadata": {},
     "output_type": "execute_result"
    }
   ],
   "source": [
    "df = activity.exchanges().to_dataframe()\n",
    "df"
   ]
  },
  {
   "cell_type": "markdown",
   "id": "abfc0a1b-444b-4e30-857a-edf377536d79",
   "metadata": {},
   "source": [
    "Same columns as before."
   ]
  },
  {
   "cell_type": "code",
   "execution_count": 41,
   "id": "0e8f4dec-0038-431a-82fa-98220aff4588",
   "metadata": {},
   "outputs": [
    {
     "data": {
      "text/plain": [
       "Index(['target_id', 'target_database', 'target_code', 'target_name',\n",
       "       'target_reference_product', 'target_location', 'target_unit',\n",
       "       'target_type', 'source_id', 'source_database', 'source_code',\n",
       "       'source_name', 'source_product', 'source_location', 'source_unit',\n",
       "       'source_categories', 'edge_amount', 'edge_type'],\n",
       "      dtype='object')"
      ]
     },
     "execution_count": 41,
     "metadata": {},
     "output_type": "execute_result"
    }
   ],
   "source": [
    "df.columns"
   ]
  },
  {
   "cell_type": "markdown",
   "id": "67caa39d-8589-4485-a71a-633df8b0a0a5",
   "metadata": {},
   "source": [
    "We can also get dataframes for LCA calculation results."
   ]
  },
  {
   "cell_type": "code",
   "execution_count": 42,
   "id": "19035b3f-03b5-45e8-aaf4-59b7c3891d7d",
   "metadata": {},
   "outputs": [],
   "source": [
    "lca = bc.LCA({product: 1}, method=('Impact Potential', 'HRSP'))\n",
    "lca.lci()\n",
    "lca.lcia()"
   ]
  },
  {
   "cell_type": "markdown",
   "id": "642003d5-dbec-4297-bbe1-7fd321bf633e",
   "metadata": {},
   "source": [
    "By default, this method looks at the `characterized_inventory` matrix, and sorts by the top 200 values (using absolute value)."
   ]
  },
  {
   "cell_type": "code",
   "execution_count": 43,
   "id": "201937d0-6f99-4022-ac2d-2d636ad68507",
   "metadata": {},
   "outputs": [
    {
     "data": {
      "text/html": [
       "<div>\n",
       "<style scoped>\n",
       "    .dataframe tbody tr th:only-of-type {\n",
       "        vertical-align: middle;\n",
       "    }\n",
       "\n",
       "    .dataframe tbody tr th {\n",
       "        vertical-align: top;\n",
       "    }\n",
       "\n",
       "    .dataframe thead th {\n",
       "        text-align: right;\n",
       "    }\n",
       "</style>\n",
       "<table border=\"1\" class=\"dataframe\">\n",
       "  <thead>\n",
       "    <tr style=\"text-align: right;\">\n",
       "      <th></th>\n",
       "      <th>row_index</th>\n",
       "      <th>col_index</th>\n",
       "      <th>amount</th>\n",
       "      <th>row_id</th>\n",
       "      <th>col_id</th>\n",
       "      <th>row_database</th>\n",
       "      <th>row_code</th>\n",
       "      <th>row_name</th>\n",
       "      <th>row_location</th>\n",
       "      <th>row_unit</th>\n",
       "      <th>row_type</th>\n",
       "      <th>row_categories</th>\n",
       "      <th>row_product</th>\n",
       "      <th>col_database</th>\n",
       "      <th>col_code</th>\n",
       "      <th>col_name</th>\n",
       "      <th>col_location</th>\n",
       "      <th>col_unit</th>\n",
       "      <th>col_type</th>\n",
       "      <th>col_reference_product</th>\n",
       "    </tr>\n",
       "  </thead>\n",
       "  <tbody>\n",
       "    <tr>\n",
       "      <th>0</th>\n",
       "      <td>257</td>\n",
       "      <td>130</td>\n",
       "      <td>8.585946e-04</td>\n",
       "      <td>1044</td>\n",
       "      <td>140</td>\n",
       "      <td>US EEIO 1.1</td>\n",
       "      <td>21e46cb8-6233-4c99-bac3-c41d2ab99498</td>\n",
       "      <td>particulates, &lt; 2.5 um</td>\n",
       "      <td>None</td>\n",
       "      <td></td>\n",
       "      <td>emission</td>\n",
       "      <td>air::unspecified</td>\n",
       "      <td>None</td>\n",
       "      <td>US EEIO 1.1</td>\n",
       "      <td>4ebccf6f-bf79-33b8-be99-e37984272d17</td>\n",
       "      <td>Tobacco, cotton, sugarcane, peanuts, sugar bee...</td>\n",
       "      <td>United States</td>\n",
       "      <td>USD</td>\n",
       "      <td>process</td>\n",
       "      <td>None</td>\n",
       "    </tr>\n",
       "    <tr>\n",
       "      <th>1</th>\n",
       "      <td>55</td>\n",
       "      <td>130</td>\n",
       "      <td>7.572715e-04</td>\n",
       "      <td>841</td>\n",
       "      <td>140</td>\n",
       "      <td>US EEIO 1.1</td>\n",
       "      <td>08a91e70-3ddc-11dd-91be-0050c2490048</td>\n",
       "      <td>particulates, &lt; 10 um</td>\n",
       "      <td>None</td>\n",
       "      <td></td>\n",
       "      <td>emission</td>\n",
       "      <td>air::unspecified</td>\n",
       "      <td>None</td>\n",
       "      <td>US EEIO 1.1</td>\n",
       "      <td>4ebccf6f-bf79-33b8-be99-e37984272d17</td>\n",
       "      <td>Tobacco, cotton, sugarcane, peanuts, sugar bee...</td>\n",
       "      <td>United States</td>\n",
       "      <td>USD</td>\n",
       "      <td>process</td>\n",
       "      <td>None</td>\n",
       "    </tr>\n",
       "    <tr>\n",
       "      <th>2</th>\n",
       "      <td>1843</td>\n",
       "      <td>130</td>\n",
       "      <td>1.248036e-07</td>\n",
       "      <td>2631</td>\n",
       "      <td>140</td>\n",
       "      <td>US EEIO 1.1</td>\n",
       "      <td>fd7aa71c-508c-480d-81a6-8052aad92646</td>\n",
       "      <td>sulfur dioxide</td>\n",
       "      <td>None</td>\n",
       "      <td></td>\n",
       "      <td>emission</td>\n",
       "      <td>air::unspecified</td>\n",
       "      <td>None</td>\n",
       "      <td>US EEIO 1.1</td>\n",
       "      <td>4ebccf6f-bf79-33b8-be99-e37984272d17</td>\n",
       "      <td>Tobacco, cotton, sugarcane, peanuts, sugar bee...</td>\n",
       "      <td>United States</td>\n",
       "      <td>USD</td>\n",
       "      <td>process</td>\n",
       "      <td>None</td>\n",
       "    </tr>\n",
       "    <tr>\n",
       "      <th>3</th>\n",
       "      <td>1043</td>\n",
       "      <td>130</td>\n",
       "      <td>1.729770e-05</td>\n",
       "      <td>1831</td>\n",
       "      <td>140</td>\n",
       "      <td>US EEIO 1.1</td>\n",
       "      <td>87883a4e-1e3e-4c9d-90c0-f1bea36f8014</td>\n",
       "      <td>ammonia</td>\n",
       "      <td>None</td>\n",
       "      <td></td>\n",
       "      <td>emission</td>\n",
       "      <td>air::unspecified</td>\n",
       "      <td>None</td>\n",
       "      <td>US EEIO 1.1</td>\n",
       "      <td>4ebccf6f-bf79-33b8-be99-e37984272d17</td>\n",
       "      <td>Tobacco, cotton, sugarcane, peanuts, sugar bee...</td>\n",
       "      <td>United States</td>\n",
       "      <td>USD</td>\n",
       "      <td>process</td>\n",
       "      <td>None</td>\n",
       "    </tr>\n",
       "    <tr>\n",
       "      <th>4</th>\n",
       "      <td>1445</td>\n",
       "      <td>130</td>\n",
       "      <td>1.122879e-06</td>\n",
       "      <td>2233</td>\n",
       "      <td>140</td>\n",
       "      <td>US EEIO 1.1</td>\n",
       "      <td>c1b91234-6f24-417b-8309-46111d09c457</td>\n",
       "      <td>nitrogen oxides</td>\n",
       "      <td>None</td>\n",
       "      <td></td>\n",
       "      <td>emission</td>\n",
       "      <td>air::unspecified</td>\n",
       "      <td>None</td>\n",
       "      <td>US EEIO 1.1</td>\n",
       "      <td>4ebccf6f-bf79-33b8-be99-e37984272d17</td>\n",
       "      <td>Tobacco, cotton, sugarcane, peanuts, sugar bee...</td>\n",
       "      <td>United States</td>\n",
       "      <td>USD</td>\n",
       "      <td>process</td>\n",
       "      <td>None</td>\n",
       "    </tr>\n",
       "    <tr>\n",
       "      <th>...</th>\n",
       "      <td>...</td>\n",
       "      <td>...</td>\n",
       "      <td>...</td>\n",
       "      <td>...</td>\n",
       "      <td>...</td>\n",
       "      <td>...</td>\n",
       "      <td>...</td>\n",
       "      <td>...</td>\n",
       "      <td>...</td>\n",
       "      <td>...</td>\n",
       "      <td>...</td>\n",
       "      <td>...</td>\n",
       "      <td>...</td>\n",
       "      <td>...</td>\n",
       "      <td>...</td>\n",
       "      <td>...</td>\n",
       "      <td>...</td>\n",
       "      <td>...</td>\n",
       "      <td>...</td>\n",
       "      <td>...</td>\n",
       "    </tr>\n",
       "    <tr>\n",
       "      <th>195</th>\n",
       "      <td>257</td>\n",
       "      <td>162</td>\n",
       "      <td>5.476811e-08</td>\n",
       "      <td>1044</td>\n",
       "      <td>172</td>\n",
       "      <td>US EEIO 1.1</td>\n",
       "      <td>21e46cb8-6233-4c99-bac3-c41d2ab99498</td>\n",
       "      <td>particulates, &lt; 2.5 um</td>\n",
       "      <td>None</td>\n",
       "      <td></td>\n",
       "      <td>emission</td>\n",
       "      <td>air::unspecified</td>\n",
       "      <td>None</td>\n",
       "      <td>US EEIO 1.1</td>\n",
       "      <td>636743f5-f91b-3cf8-b3c7-f9f871498ee0</td>\n",
       "      <td>Compressed Gases; at manufacturer</td>\n",
       "      <td>United States</td>\n",
       "      <td>USD</td>\n",
       "      <td>process</td>\n",
       "      <td>None</td>\n",
       "    </tr>\n",
       "    <tr>\n",
       "      <th>196</th>\n",
       "      <td>257</td>\n",
       "      <td>221</td>\n",
       "      <td>4.919673e-08</td>\n",
       "      <td>1044</td>\n",
       "      <td>231</td>\n",
       "      <td>US EEIO 1.1</td>\n",
       "      <td>21e46cb8-6233-4c99-bac3-c41d2ab99498</td>\n",
       "      <td>particulates, &lt; 2.5 um</td>\n",
       "      <td>None</td>\n",
       "      <td></td>\n",
       "      <td>emission</td>\n",
       "      <td>air::unspecified</td>\n",
       "      <td>None</td>\n",
       "      <td>US EEIO 1.1</td>\n",
       "      <td>8bc341ea-a073-3b64-a22e-6397582a2e2e</td>\n",
       "      <td>Animal farms and aquaculture ponds (except cat...</td>\n",
       "      <td>United States</td>\n",
       "      <td>USD</td>\n",
       "      <td>process</td>\n",
       "      <td>None</td>\n",
       "    </tr>\n",
       "    <tr>\n",
       "      <th>197</th>\n",
       "      <td>1043</td>\n",
       "      <td>221</td>\n",
       "      <td>1.581310e-06</td>\n",
       "      <td>1831</td>\n",
       "      <td>231</td>\n",
       "      <td>US EEIO 1.1</td>\n",
       "      <td>87883a4e-1e3e-4c9d-90c0-f1bea36f8014</td>\n",
       "      <td>ammonia</td>\n",
       "      <td>None</td>\n",
       "      <td></td>\n",
       "      <td>emission</td>\n",
       "      <td>air::unspecified</td>\n",
       "      <td>None</td>\n",
       "      <td>US EEIO 1.1</td>\n",
       "      <td>8bc341ea-a073-3b64-a22e-6397582a2e2e</td>\n",
       "      <td>Animal farms and aquaculture ponds (except cat...</td>\n",
       "      <td>United States</td>\n",
       "      <td>USD</td>\n",
       "      <td>process</td>\n",
       "      <td>None</td>\n",
       "    </tr>\n",
       "    <tr>\n",
       "      <th>198</th>\n",
       "      <td>257</td>\n",
       "      <td>269</td>\n",
       "      <td>4.913991e-08</td>\n",
       "      <td>1044</td>\n",
       "      <td>279</td>\n",
       "      <td>US EEIO 1.1</td>\n",
       "      <td>21e46cb8-6233-4c99-bac3-c41d2ab99498</td>\n",
       "      <td>particulates, &lt; 2.5 um</td>\n",
       "      <td>None</td>\n",
       "      <td></td>\n",
       "      <td>emission</td>\n",
       "      <td>air::unspecified</td>\n",
       "      <td>None</td>\n",
       "      <td>US EEIO 1.1</td>\n",
       "      <td>ad81ce2a-e3c5-3695-a2ef-812cd8b79dd3</td>\n",
       "      <td>Other plastic products; at manufacturer</td>\n",
       "      <td>United States</td>\n",
       "      <td>USD</td>\n",
       "      <td>process</td>\n",
       "      <td>None</td>\n",
       "    </tr>\n",
       "    <tr>\n",
       "      <th>199</th>\n",
       "      <td>257</td>\n",
       "      <td>119</td>\n",
       "      <td>4.632755e-08</td>\n",
       "      <td>1044</td>\n",
       "      <td>129</td>\n",
       "      <td>US EEIO 1.1</td>\n",
       "      <td>21e46cb8-6233-4c99-bac3-c41d2ab99498</td>\n",
       "      <td>particulates, &lt; 2.5 um</td>\n",
       "      <td>None</td>\n",
       "      <td></td>\n",
       "      <td>emission</td>\n",
       "      <td>air::unspecified</td>\n",
       "      <td>None</td>\n",
       "      <td>US EEIO 1.1</td>\n",
       "      <td>4775afeb-8e11-3ea2-92b0-4f1c41952703</td>\n",
       "      <td>Other secondary nonferrous metal products; at ...</td>\n",
       "      <td>United States</td>\n",
       "      <td>USD</td>\n",
       "      <td>process</td>\n",
       "      <td>None</td>\n",
       "    </tr>\n",
       "  </tbody>\n",
       "</table>\n",
       "<p>200 rows × 20 columns</p>\n",
       "</div>"
      ],
      "text/plain": [
       "     row_index  col_index        amount  row_id  col_id row_database  \\\n",
       "0          257        130  8.585946e-04    1044     140  US EEIO 1.1   \n",
       "1           55        130  7.572715e-04     841     140  US EEIO 1.1   \n",
       "2         1843        130  1.248036e-07    2631     140  US EEIO 1.1   \n",
       "3         1043        130  1.729770e-05    1831     140  US EEIO 1.1   \n",
       "4         1445        130  1.122879e-06    2233     140  US EEIO 1.1   \n",
       "..         ...        ...           ...     ...     ...          ...   \n",
       "195        257        162  5.476811e-08    1044     172  US EEIO 1.1   \n",
       "196        257        221  4.919673e-08    1044     231  US EEIO 1.1   \n",
       "197       1043        221  1.581310e-06    1831     231  US EEIO 1.1   \n",
       "198        257        269  4.913991e-08    1044     279  US EEIO 1.1   \n",
       "199        257        119  4.632755e-08    1044     129  US EEIO 1.1   \n",
       "\n",
       "                                 row_code                row_name  \\\n",
       "0    21e46cb8-6233-4c99-bac3-c41d2ab99498  particulates, < 2.5 um   \n",
       "1    08a91e70-3ddc-11dd-91be-0050c2490048   particulates, < 10 um   \n",
       "2    fd7aa71c-508c-480d-81a6-8052aad92646          sulfur dioxide   \n",
       "3    87883a4e-1e3e-4c9d-90c0-f1bea36f8014                 ammonia   \n",
       "4    c1b91234-6f24-417b-8309-46111d09c457         nitrogen oxides   \n",
       "..                                    ...                     ...   \n",
       "195  21e46cb8-6233-4c99-bac3-c41d2ab99498  particulates, < 2.5 um   \n",
       "196  21e46cb8-6233-4c99-bac3-c41d2ab99498  particulates, < 2.5 um   \n",
       "197  87883a4e-1e3e-4c9d-90c0-f1bea36f8014                 ammonia   \n",
       "198  21e46cb8-6233-4c99-bac3-c41d2ab99498  particulates, < 2.5 um   \n",
       "199  21e46cb8-6233-4c99-bac3-c41d2ab99498  particulates, < 2.5 um   \n",
       "\n",
       "    row_location row_unit  row_type    row_categories row_product  \\\n",
       "0           None           emission  air::unspecified        None   \n",
       "1           None           emission  air::unspecified        None   \n",
       "2           None           emission  air::unspecified        None   \n",
       "3           None           emission  air::unspecified        None   \n",
       "4           None           emission  air::unspecified        None   \n",
       "..           ...      ...       ...               ...         ...   \n",
       "195         None           emission  air::unspecified        None   \n",
       "196         None           emission  air::unspecified        None   \n",
       "197         None           emission  air::unspecified        None   \n",
       "198         None           emission  air::unspecified        None   \n",
       "199         None           emission  air::unspecified        None   \n",
       "\n",
       "    col_database                              col_code  \\\n",
       "0    US EEIO 1.1  4ebccf6f-bf79-33b8-be99-e37984272d17   \n",
       "1    US EEIO 1.1  4ebccf6f-bf79-33b8-be99-e37984272d17   \n",
       "2    US EEIO 1.1  4ebccf6f-bf79-33b8-be99-e37984272d17   \n",
       "3    US EEIO 1.1  4ebccf6f-bf79-33b8-be99-e37984272d17   \n",
       "4    US EEIO 1.1  4ebccf6f-bf79-33b8-be99-e37984272d17   \n",
       "..           ...                                   ...   \n",
       "195  US EEIO 1.1  636743f5-f91b-3cf8-b3c7-f9f871498ee0   \n",
       "196  US EEIO 1.1  8bc341ea-a073-3b64-a22e-6397582a2e2e   \n",
       "197  US EEIO 1.1  8bc341ea-a073-3b64-a22e-6397582a2e2e   \n",
       "198  US EEIO 1.1  ad81ce2a-e3c5-3695-a2ef-812cd8b79dd3   \n",
       "199  US EEIO 1.1  4775afeb-8e11-3ea2-92b0-4f1c41952703   \n",
       "\n",
       "                                              col_name   col_location  \\\n",
       "0    Tobacco, cotton, sugarcane, peanuts, sugar bee...  United States   \n",
       "1    Tobacco, cotton, sugarcane, peanuts, sugar bee...  United States   \n",
       "2    Tobacco, cotton, sugarcane, peanuts, sugar bee...  United States   \n",
       "3    Tobacco, cotton, sugarcane, peanuts, sugar bee...  United States   \n",
       "4    Tobacco, cotton, sugarcane, peanuts, sugar bee...  United States   \n",
       "..                                                 ...            ...   \n",
       "195                  Compressed Gases; at manufacturer  United States   \n",
       "196  Animal farms and aquaculture ponds (except cat...  United States   \n",
       "197  Animal farms and aquaculture ponds (except cat...  United States   \n",
       "198            Other plastic products; at manufacturer  United States   \n",
       "199  Other secondary nonferrous metal products; at ...  United States   \n",
       "\n",
       "    col_unit col_type col_reference_product  \n",
       "0        USD  process                  None  \n",
       "1        USD  process                  None  \n",
       "2        USD  process                  None  \n",
       "3        USD  process                  None  \n",
       "4        USD  process                  None  \n",
       "..       ...      ...                   ...  \n",
       "195      USD  process                  None  \n",
       "196      USD  process                  None  \n",
       "197      USD  process                  None  \n",
       "198      USD  process                  None  \n",
       "199      USD  process                  None  \n",
       "\n",
       "[200 rows x 20 columns]"
      ]
     },
     "execution_count": 43,
     "metadata": {},
     "output_type": "execute_result"
    }
   ],
   "source": [
    "df = lca.to_dataframe()\n",
    "df"
   ]
  },
  {
   "cell_type": "markdown",
   "id": "feeffc60-d126-417b-b2d9-ce47741846f0",
   "metadata": {},
   "source": [
    "The columns labels are a bit different, as we don't have target and source but instead matrix rows and columns. The meaning of these rows and columns changes from matrix to matrix. The same pattern with `'row_product'`, `'col_reference_product'`, and `'row_categories'` applies though."
   ]
  },
  {
   "cell_type": "code",
   "execution_count": 44,
   "id": "098fe13f-f915-4150-9e25-b49517427a2e",
   "metadata": {},
   "outputs": [
    {
     "data": {
      "text/plain": [
       "Index(['row_index', 'col_index', 'amount', 'row_id', 'col_id', 'row_database',\n",
       "       'row_code', 'row_name', 'row_location', 'row_unit', 'row_type',\n",
       "       'row_categories', 'row_product', 'col_database', 'col_code', 'col_name',\n",
       "       'col_location', 'col_unit', 'col_type', 'col_reference_product'],\n",
       "      dtype='object')"
      ]
     },
     "execution_count": 44,
     "metadata": {},
     "output_type": "execute_result"
    }
   ],
   "source": [
    "df.columns"
   ]
  },
  {
   "cell_type": "markdown",
   "id": "3777ca0d-7f07-4228-8fd8-287ee0cd9f5b",
   "metadata": {},
   "source": [
    "We can get dataframes for any matrix. In standard LCA, the matrices are:\n",
    "\n",
    "* inventory\n",
    "* technosphere_matrix\n",
    "* biosphere_matrix\n",
    "* characterization_matrix\n",
    "* characterized_inventory\n",
    "\n",
    "Regionalization adds more matrices. Note that for other matrices you will need to specify the row and column mapping dictionaries, see the docstring."
   ]
  },
  {
   "cell_type": "code",
   "execution_count": 45,
   "id": "8044958c-bb8d-4db6-9cdb-e8b0d4608edb",
   "metadata": {},
   "outputs": [
    {
     "data": {
      "text/html": [
       "<div>\n",
       "<style scoped>\n",
       "    .dataframe tbody tr th:only-of-type {\n",
       "        vertical-align: middle;\n",
       "    }\n",
       "\n",
       "    .dataframe tbody tr th {\n",
       "        vertical-align: top;\n",
       "    }\n",
       "\n",
       "    .dataframe thead th {\n",
       "        text-align: right;\n",
       "    }\n",
       "</style>\n",
       "<table border=\"1\" class=\"dataframe\">\n",
       "  <thead>\n",
       "    <tr style=\"text-align: right;\">\n",
       "      <th></th>\n",
       "      <th>row_index</th>\n",
       "      <th>col_index</th>\n",
       "      <th>amount</th>\n",
       "      <th>row_id</th>\n",
       "      <th>col_id</th>\n",
       "      <th>row_database</th>\n",
       "      <th>row_code</th>\n",
       "      <th>row_name</th>\n",
       "      <th>row_location</th>\n",
       "      <th>row_unit</th>\n",
       "      <th>row_type</th>\n",
       "      <th>row_categories</th>\n",
       "      <th>row_product</th>\n",
       "      <th>col_database</th>\n",
       "      <th>col_code</th>\n",
       "      <th>col_name</th>\n",
       "      <th>col_location</th>\n",
       "      <th>col_unit</th>\n",
       "      <th>col_type</th>\n",
       "      <th>col_reference_product</th>\n",
       "    </tr>\n",
       "  </thead>\n",
       "  <tbody>\n",
       "    <tr>\n",
       "      <th>0</th>\n",
       "      <td>232</td>\n",
       "      <td>18</td>\n",
       "      <td>372.440552</td>\n",
       "      <td>1019</td>\n",
       "      <td>28</td>\n",
       "      <td>US EEIO 1.1</td>\n",
       "      <td>1ece2361-87e0-355c-a702-ff268570ca3e</td>\n",
       "      <td>Coal</td>\n",
       "      <td>None</td>\n",
       "      <td></td>\n",
       "      <td>emission</td>\n",
       "      <td>resource::in ground</td>\n",
       "      <td>None</td>\n",
       "      <td>US EEIO 1.1</td>\n",
       "      <td>08f1c4b8-03f9-360c-87be-31ad6c778da5</td>\n",
       "      <td>Coal; at mine</td>\n",
       "      <td>United States</td>\n",
       "      <td>USD</td>\n",
       "      <td>process</td>\n",
       "      <td>None</td>\n",
       "    </tr>\n",
       "    <tr>\n",
       "      <th>1</th>\n",
       "      <td>947</td>\n",
       "      <td>18</td>\n",
       "      <td>0.174231</td>\n",
       "      <td>1735</td>\n",
       "      <td>28</td>\n",
       "      <td>US EEIO 1.1</td>\n",
       "      <td>7ae371aa-8532-11e0-9d78-0800200c9a66</td>\n",
       "      <td>Carbon dioxide</td>\n",
       "      <td>None</td>\n",
       "      <td></td>\n",
       "      <td>emission</td>\n",
       "      <td>air::unspecified</td>\n",
       "      <td>None</td>\n",
       "      <td>US EEIO 1.1</td>\n",
       "      <td>08f1c4b8-03f9-360c-87be-31ad6c778da5</td>\n",
       "      <td>Coal; at mine</td>\n",
       "      <td>United States</td>\n",
       "      <td>USD</td>\n",
       "      <td>process</td>\n",
       "      <td>None</td>\n",
       "    </tr>\n",
       "    <tr>\n",
       "      <th>2</th>\n",
       "      <td>232</td>\n",
       "      <td>75</td>\n",
       "      <td>0.283722</td>\n",
       "      <td>1019</td>\n",
       "      <td>85</td>\n",
       "      <td>US EEIO 1.1</td>\n",
       "      <td>1ece2361-87e0-355c-a702-ff268570ca3e</td>\n",
       "      <td>Coal</td>\n",
       "      <td>None</td>\n",
       "      <td></td>\n",
       "      <td>emission</td>\n",
       "      <td>resource::in ground</td>\n",
       "      <td>None</td>\n",
       "      <td>US EEIO 1.1</td>\n",
       "      <td>2bf3d179-abc9-3d6f-983f-f2de03471649</td>\n",
       "      <td>Other support activities for mining</td>\n",
       "      <td>United States</td>\n",
       "      <td>USD</td>\n",
       "      <td>process</td>\n",
       "      <td>None</td>\n",
       "    </tr>\n",
       "    <tr>\n",
       "      <th>3</th>\n",
       "      <td>947</td>\n",
       "      <td>75</td>\n",
       "      <td>0.116804</td>\n",
       "      <td>1735</td>\n",
       "      <td>85</td>\n",
       "      <td>US EEIO 1.1</td>\n",
       "      <td>7ae371aa-8532-11e0-9d78-0800200c9a66</td>\n",
       "      <td>Carbon dioxide</td>\n",
       "      <td>None</td>\n",
       "      <td></td>\n",
       "      <td>emission</td>\n",
       "      <td>air::unspecified</td>\n",
       "      <td>None</td>\n",
       "      <td>US EEIO 1.1</td>\n",
       "      <td>2bf3d179-abc9-3d6f-983f-f2de03471649</td>\n",
       "      <td>Other support activities for mining</td>\n",
       "      <td>United States</td>\n",
       "      <td>USD</td>\n",
       "      <td>process</td>\n",
       "      <td>None</td>\n",
       "    </tr>\n",
       "    <tr>\n",
       "      <th>4</th>\n",
       "      <td>1388</td>\n",
       "      <td>95</td>\n",
       "      <td>96.912102</td>\n",
       "      <td>2176</td>\n",
       "      <td>105</td>\n",
       "      <td>US EEIO 1.1</td>\n",
       "      <td>b91d0527-9a01-4a86-b420-c62b70629ba4</td>\n",
       "      <td>Occupation, forest</td>\n",
       "      <td>None</td>\n",
       "      <td></td>\n",
       "      <td>emission</td>\n",
       "      <td>resource::land</td>\n",
       "      <td>None</td>\n",
       "      <td>US EEIO 1.1</td>\n",
       "      <td>392eb1e3-3cd1-34c7-948c-c177114e8d20</td>\n",
       "      <td>Timber and raw forest products; at forest</td>\n",
       "      <td>United States</td>\n",
       "      <td>USD</td>\n",
       "      <td>process</td>\n",
       "      <td>None</td>\n",
       "    </tr>\n",
       "    <tr>\n",
       "      <th>...</th>\n",
       "      <td>...</td>\n",
       "      <td>...</td>\n",
       "      <td>...</td>\n",
       "      <td>...</td>\n",
       "      <td>...</td>\n",
       "      <td>...</td>\n",
       "      <td>...</td>\n",
       "      <td>...</td>\n",
       "      <td>...</td>\n",
       "      <td>...</td>\n",
       "      <td>...</td>\n",
       "      <td>...</td>\n",
       "      <td>...</td>\n",
       "      <td>...</td>\n",
       "      <td>...</td>\n",
       "      <td>...</td>\n",
       "      <td>...</td>\n",
       "      <td>...</td>\n",
       "      <td>...</td>\n",
       "      <td>...</td>\n",
       "    </tr>\n",
       "    <tr>\n",
       "      <th>195</th>\n",
       "      <td>947</td>\n",
       "      <td>121</td>\n",
       "      <td>0.092894</td>\n",
       "      <td>1735</td>\n",
       "      <td>131</td>\n",
       "      <td>US EEIO 1.1</td>\n",
       "      <td>7ae371aa-8532-11e0-9d78-0800200c9a66</td>\n",
       "      <td>Carbon dioxide</td>\n",
       "      <td>None</td>\n",
       "      <td></td>\n",
       "      <td>emission</td>\n",
       "      <td>air::unspecified</td>\n",
       "      <td>None</td>\n",
       "      <td>US EEIO 1.1</td>\n",
       "      <td>48b2f105-8ae0-36e2-ad0a-cf7101ab8f4c</td>\n",
       "      <td>Residential building repair and maintanence</td>\n",
       "      <td>United States</td>\n",
       "      <td>USD</td>\n",
       "      <td>process</td>\n",
       "      <td>None</td>\n",
       "    </tr>\n",
       "    <tr>\n",
       "      <th>196</th>\n",
       "      <td>947</td>\n",
       "      <td>39</td>\n",
       "      <td>0.092228</td>\n",
       "      <td>1735</td>\n",
       "      <td>49</td>\n",
       "      <td>US EEIO 1.1</td>\n",
       "      <td>7ae371aa-8532-11e0-9d78-0800200c9a66</td>\n",
       "      <td>Carbon dioxide</td>\n",
       "      <td>None</td>\n",
       "      <td></td>\n",
       "      <td>emission</td>\n",
       "      <td>air::unspecified</td>\n",
       "      <td>None</td>\n",
       "      <td>US EEIO 1.1</td>\n",
       "      <td>15615fdc-2456-3e6c-bd24-9ed9a13d2599</td>\n",
       "      <td>Health care buildings</td>\n",
       "      <td>United States</td>\n",
       "      <td>USD</td>\n",
       "      <td>process</td>\n",
       "      <td>None</td>\n",
       "    </tr>\n",
       "    <tr>\n",
       "      <th>197</th>\n",
       "      <td>947</td>\n",
       "      <td>191</td>\n",
       "      <td>0.090496</td>\n",
       "      <td>1735</td>\n",
       "      <td>201</td>\n",
       "      <td>US EEIO 1.1</td>\n",
       "      <td>7ae371aa-8532-11e0-9d78-0800200c9a66</td>\n",
       "      <td>Carbon dioxide</td>\n",
       "      <td>None</td>\n",
       "      <td></td>\n",
       "      <td>emission</td>\n",
       "      <td>air::unspecified</td>\n",
       "      <td>None</td>\n",
       "      <td>US EEIO 1.1</td>\n",
       "      <td>7452907b-74cc-3106-aaaa-5560c0645af6</td>\n",
       "      <td>Flours and malts; at manufacturer</td>\n",
       "      <td>United States</td>\n",
       "      <td>USD</td>\n",
       "      <td>process</td>\n",
       "      <td>None</td>\n",
       "    </tr>\n",
       "    <tr>\n",
       "      <th>198</th>\n",
       "      <td>947</td>\n",
       "      <td>340</td>\n",
       "      <td>0.090194</td>\n",
       "      <td>1735</td>\n",
       "      <td>350</td>\n",
       "      <td>US EEIO 1.1</td>\n",
       "      <td>7ae371aa-8532-11e0-9d78-0800200c9a66</td>\n",
       "      <td>Carbon dioxide</td>\n",
       "      <td>None</td>\n",
       "      <td></td>\n",
       "      <td>emission</td>\n",
       "      <td>air::unspecified</td>\n",
       "      <td>None</td>\n",
       "      <td>US EEIO 1.1</td>\n",
       "      <td>d920c723-5594-34a5-8b55-0cbe517c2f9f</td>\n",
       "      <td>Polystyrene foam products; at manufacturer</td>\n",
       "      <td>United States</td>\n",
       "      <td>USD</td>\n",
       "      <td>process</td>\n",
       "      <td>None</td>\n",
       "    </tr>\n",
       "    <tr>\n",
       "      <th>199</th>\n",
       "      <td>1130</td>\n",
       "      <td>151</td>\n",
       "      <td>0.153748</td>\n",
       "      <td>1918</td>\n",
       "      <td>161</td>\n",
       "      <td>US EEIO 1.1</td>\n",
       "      <td>97c598f0-4d1d-4f9f-906e-097347168153</td>\n",
       "      <td>Occupation, industrial area</td>\n",
       "      <td>None</td>\n",
       "      <td></td>\n",
       "      <td>emission</td>\n",
       "      <td>resource::land</td>\n",
       "      <td>None</td>\n",
       "      <td>US EEIO 1.1</td>\n",
       "      <td>59560ccf-f607-3df2-9e6d-46400e9b8f74</td>\n",
       "      <td>Federal government (defense)</td>\n",
       "      <td>United States</td>\n",
       "      <td>USD</td>\n",
       "      <td>process</td>\n",
       "      <td>None</td>\n",
       "    </tr>\n",
       "  </tbody>\n",
       "</table>\n",
       "<p>200 rows × 20 columns</p>\n",
       "</div>"
      ],
      "text/plain": [
       "     row_index  col_index      amount  row_id  col_id row_database  \\\n",
       "0          232         18  372.440552    1019      28  US EEIO 1.1   \n",
       "1          947         18    0.174231    1735      28  US EEIO 1.1   \n",
       "2          232         75    0.283722    1019      85  US EEIO 1.1   \n",
       "3          947         75    0.116804    1735      85  US EEIO 1.1   \n",
       "4         1388         95   96.912102    2176     105  US EEIO 1.1   \n",
       "..         ...        ...         ...     ...     ...          ...   \n",
       "195        947        121    0.092894    1735     131  US EEIO 1.1   \n",
       "196        947         39    0.092228    1735      49  US EEIO 1.1   \n",
       "197        947        191    0.090496    1735     201  US EEIO 1.1   \n",
       "198        947        340    0.090194    1735     350  US EEIO 1.1   \n",
       "199       1130        151    0.153748    1918     161  US EEIO 1.1   \n",
       "\n",
       "                                 row_code                     row_name  \\\n",
       "0    1ece2361-87e0-355c-a702-ff268570ca3e                         Coal   \n",
       "1    7ae371aa-8532-11e0-9d78-0800200c9a66               Carbon dioxide   \n",
       "2    1ece2361-87e0-355c-a702-ff268570ca3e                         Coal   \n",
       "3    7ae371aa-8532-11e0-9d78-0800200c9a66               Carbon dioxide   \n",
       "4    b91d0527-9a01-4a86-b420-c62b70629ba4           Occupation, forest   \n",
       "..                                    ...                          ...   \n",
       "195  7ae371aa-8532-11e0-9d78-0800200c9a66               Carbon dioxide   \n",
       "196  7ae371aa-8532-11e0-9d78-0800200c9a66               Carbon dioxide   \n",
       "197  7ae371aa-8532-11e0-9d78-0800200c9a66               Carbon dioxide   \n",
       "198  7ae371aa-8532-11e0-9d78-0800200c9a66               Carbon dioxide   \n",
       "199  97c598f0-4d1d-4f9f-906e-097347168153  Occupation, industrial area   \n",
       "\n",
       "    row_location row_unit  row_type       row_categories row_product  \\\n",
       "0           None           emission  resource::in ground        None   \n",
       "1           None           emission     air::unspecified        None   \n",
       "2           None           emission  resource::in ground        None   \n",
       "3           None           emission     air::unspecified        None   \n",
       "4           None           emission       resource::land        None   \n",
       "..           ...      ...       ...                  ...         ...   \n",
       "195         None           emission     air::unspecified        None   \n",
       "196         None           emission     air::unspecified        None   \n",
       "197         None           emission     air::unspecified        None   \n",
       "198         None           emission     air::unspecified        None   \n",
       "199         None           emission       resource::land        None   \n",
       "\n",
       "    col_database                              col_code  \\\n",
       "0    US EEIO 1.1  08f1c4b8-03f9-360c-87be-31ad6c778da5   \n",
       "1    US EEIO 1.1  08f1c4b8-03f9-360c-87be-31ad6c778da5   \n",
       "2    US EEIO 1.1  2bf3d179-abc9-3d6f-983f-f2de03471649   \n",
       "3    US EEIO 1.1  2bf3d179-abc9-3d6f-983f-f2de03471649   \n",
       "4    US EEIO 1.1  392eb1e3-3cd1-34c7-948c-c177114e8d20   \n",
       "..           ...                                   ...   \n",
       "195  US EEIO 1.1  48b2f105-8ae0-36e2-ad0a-cf7101ab8f4c   \n",
       "196  US EEIO 1.1  15615fdc-2456-3e6c-bd24-9ed9a13d2599   \n",
       "197  US EEIO 1.1  7452907b-74cc-3106-aaaa-5560c0645af6   \n",
       "198  US EEIO 1.1  d920c723-5594-34a5-8b55-0cbe517c2f9f   \n",
       "199  US EEIO 1.1  59560ccf-f607-3df2-9e6d-46400e9b8f74   \n",
       "\n",
       "                                        col_name   col_location col_unit  \\\n",
       "0                                  Coal; at mine  United States      USD   \n",
       "1                                  Coal; at mine  United States      USD   \n",
       "2            Other support activities for mining  United States      USD   \n",
       "3            Other support activities for mining  United States      USD   \n",
       "4      Timber and raw forest products; at forest  United States      USD   \n",
       "..                                           ...            ...      ...   \n",
       "195  Residential building repair and maintanence  United States      USD   \n",
       "196                        Health care buildings  United States      USD   \n",
       "197            Flours and malts; at manufacturer  United States      USD   \n",
       "198   Polystyrene foam products; at manufacturer  United States      USD   \n",
       "199                 Federal government (defense)  United States      USD   \n",
       "\n",
       "    col_type col_reference_product  \n",
       "0    process                  None  \n",
       "1    process                  None  \n",
       "2    process                  None  \n",
       "3    process                  None  \n",
       "4    process                  None  \n",
       "..       ...                   ...  \n",
       "195  process                  None  \n",
       "196  process                  None  \n",
       "197  process                  None  \n",
       "198  process                  None  \n",
       "199  process                  None  \n",
       "\n",
       "[200 rows x 20 columns]"
      ]
     },
     "execution_count": 45,
     "metadata": {},
     "output_type": "execute_result"
    }
   ],
   "source": [
    "lca.to_dataframe(matrix_label='biosphere_matrix')"
   ]
  },
  {
   "cell_type": "markdown",
   "id": "fc2ae71b-9f9b-49c8-b105-90dbbded9d11",
   "metadata": {},
   "source": [
    "# bw2calc\n",
    "\n",
    "## Specify `data_objs` and new functional unit\n",
    "\n",
    "The biggest change in Brightway 2.5 is the use of [bw_processing](https://github.com/brightway-lca/bw_processing) and [matrix_utils](https://github.com/brightway-lca/matrix_utils), which in turn lead to a new calling convention for LCA class instantiation. These new libraries allow for calculations to be shipped off to cloud servers, which means that they have no connection to `bw2data` or metadata about the meaning of any ID values - instead, they only solve linear problems.\n",
    "\n",
    "The new calling convention is therefore functional unit **with the IDs for the nodes** and **datapackages as `data_objs`**. Here is an example:"
   ]
  },
  {
   "cell_type": "code",
   "execution_count": 46,
   "id": "124e3f77-ad95-48d1-a065-2dfc131e3d42",
   "metadata": {},
   "outputs": [
    {
     "data": {
      "text/plain": [
       "'Rubber tires; at manufacturer' (, United States, ('31-33: Manufacturing', '3262: Rubber Product Manufacturing'))"
      ]
     },
     "execution_count": 46,
     "metadata": {},
     "output_type": "execute_result"
    }
   ],
   "source": [
    "product = next(node for node in bd.Database(\"US EEIO 1.1\") if node['type'] == 'product')\n",
    "product"
   ]
  },
  {
   "cell_type": "code",
   "execution_count": 47,
   "id": "aa526faa-835a-4bea-9da4-7765510122ed",
   "metadata": {},
   "outputs": [],
   "source": [
    "database_dp = bd.Database(\"US EEIO 1.1\").datapackage()\n",
    "lcia_dp = bd.Method(('Impact Potential', 'HC')).datapackage()"
   ]
  },
  {
   "cell_type": "code",
   "execution_count": 48,
   "id": "85afb641-bcdc-41fd-8834-a406a6fc2ffa",
   "metadata": {},
   "outputs": [],
   "source": [
    "lca = bc.LCA({product.id: 1}, data_objs=[database_dp, lcia_dp])\n",
    "lca.lci()\n",
    "lca.lcia()"
   ]
  },
  {
   "cell_type": "code",
   "execution_count": 49,
   "id": "5410e7d4-aaaa-45ea-811a-cd3705ba1513",
   "metadata": {},
   "outputs": [
    {
     "data": {
      "text/plain": [
       "1.6568481521071192e-10"
      ]
     },
     "execution_count": 49,
     "metadata": {},
     "output_type": "execute_result"
    }
   ],
   "source": [
    "lca.score"
   ]
  },
  {
   "cell_type": "markdown",
   "id": "bfadaeab-49cb-443f-a822-56d823a9a5c1",
   "metadata": {},
   "source": [
    "The old calling convention will still work, but only if you have `bw2data` installed, the correct project selected, etc."
   ]
  },
  {
   "cell_type": "markdown",
   "id": "30bf2f82-0d4b-416a-82fe-d99639aa4bb8",
   "metadata": {},
   "source": [
    "## `bw2data.prepare_lca_inputs`\n",
    "\n",
    "If you don't want to remember the new calling convention, you can use a helper function: `bw2data.prepare_lca_inputs`. It will return three things: A new demand dictionary, the datapackages, and (if `remapping=True`, the default) dictionaries to allow you to map matrix indices back to Brightway (database, code) keys."
   ]
  },
  {
   "cell_type": "code",
   "execution_count": 50,
   "id": "56f8ad0d-4b89-41c6-9210-e49f07586092",
   "metadata": {},
   "outputs": [],
   "source": [
    "fu, dps, remapping = bd.prepare_lca_inputs({bd.get_node(name='Steel'): 1}, ('IPCC', 'simple'))"
   ]
  },
  {
   "cell_type": "code",
   "execution_count": 51,
   "id": "59370fd9-c6e1-48d2-90b9-9225d205fba5",
   "metadata": {},
   "outputs": [
    {
     "data": {
      "text/plain": [
       "{4: 1}"
      ]
     },
     "execution_count": 51,
     "metadata": {},
     "output_type": "execute_result"
    }
   ],
   "source": [
    "fu"
   ]
  },
  {
   "cell_type": "code",
   "execution_count": 52,
   "id": "e6fe0a6d-0c7f-4280-b406-429958439fa2",
   "metadata": {},
   "outputs": [
    {
     "data": {
      "text/plain": [
       "[<bw_processing.datapackage.Datapackage at 0x29aa03700>,\n",
       " <bw_processing.datapackage.Datapackage at 0x29aa002b0>]"
      ]
     },
     "execution_count": 52,
     "metadata": {},
     "output_type": "execute_result"
    }
   ],
   "source": [
    "dps"
   ]
  },
  {
   "cell_type": "code",
   "execution_count": 53,
   "id": "b5bf4697-a874-498c-9861-5fbf74e32696",
   "metadata": {},
   "outputs": [
    {
     "data": {
      "text/plain": [
       "{'activity': {8: ('Mobility example', '6f233d5e001dc3ea41b1a53bbb815521'),\n",
       "  3: ('Mobility example', '7fabbb483617d7a9325f7dee36a11562'),\n",
       "  9: ('Mobility example', 'CO2'),\n",
       "  7: ('Mobility example', 'Driving an combustion car'),\n",
       "  1: ('Mobility example', 'Driving an electric car'),\n",
       "  5: ('Mobility example', 'Electricity'),\n",
       "  6: ('Mobility example', 'Lithium'),\n",
       "  4: ('Mobility example', 'Steel'),\n",
       "  2: ('Mobility example', 'edb43eb8b3e187759b38c55ae4228ffc')},\n",
       " 'product': {8: ('Mobility example', '6f233d5e001dc3ea41b1a53bbb815521'),\n",
       "  3: ('Mobility example', '7fabbb483617d7a9325f7dee36a11562'),\n",
       "  9: ('Mobility example', 'CO2'),\n",
       "  7: ('Mobility example', 'Driving an combustion car'),\n",
       "  1: ('Mobility example', 'Driving an electric car'),\n",
       "  5: ('Mobility example', 'Electricity'),\n",
       "  6: ('Mobility example', 'Lithium'),\n",
       "  4: ('Mobility example', 'Steel'),\n",
       "  2: ('Mobility example', 'edb43eb8b3e187759b38c55ae4228ffc')},\n",
       " 'biosphere': {8: ('Mobility example', '6f233d5e001dc3ea41b1a53bbb815521'),\n",
       "  3: ('Mobility example', '7fabbb483617d7a9325f7dee36a11562'),\n",
       "  9: ('Mobility example', 'CO2'),\n",
       "  7: ('Mobility example', 'Driving an combustion car'),\n",
       "  1: ('Mobility example', 'Driving an electric car'),\n",
       "  5: ('Mobility example', 'Electricity'),\n",
       "  6: ('Mobility example', 'Lithium'),\n",
       "  4: ('Mobility example', 'Steel'),\n",
       "  2: ('Mobility example', 'edb43eb8b3e187759b38c55ae4228ffc')}}"
      ]
     },
     "execution_count": 53,
     "metadata": {},
     "output_type": "execute_result"
    }
   ],
   "source": [
    "remapping"
   ]
  },
  {
   "cell_type": "markdown",
   "id": "b44b1539-ff6d-404c-a984-3e32e011d444",
   "metadata": {},
   "source": [
    "## No automatic remapping\n",
    "\n",
    "Previously, `bw2calc.LCA` would automatically change the integer values given in `bw2data.mapping` to keys. This is no longer the case, as we assume normal behaviour in the future is to prefer node IDs to keys, and also don't have any guarantees on whether `bw2data` is available. Therefore, **you need to call LCA.remap_inventory_dicts() manually**."
   ]
  },
  {
   "cell_type": "code",
   "execution_count": 54,
   "id": "008bc910-bf1a-45f1-bf5e-12ddd0c01db4",
   "metadata": {},
   "outputs": [
    {
     "data": {
      "text/plain": [
       "{4: 1}"
      ]
     },
     "execution_count": 54,
     "metadata": {},
     "output_type": "execute_result"
    }
   ],
   "source": [
    "lca = bc.LCA(demand=fu, data_objs=dps, remapping_dicts=remapping)\n",
    "lca.lci()\n",
    "lca.lcia()\n",
    "lca.demand"
   ]
  },
  {
   "cell_type": "code",
   "execution_count": 55,
   "id": "e686f32f-9e6a-48e1-a0b9-03a1307e4484",
   "metadata": {},
   "outputs": [
    {
     "data": {
      "text/plain": [
       "3"
      ]
     },
     "execution_count": 55,
     "metadata": {},
     "output_type": "execute_result"
    }
   ],
   "source": [
    "lca.dicts.product[bd.get_node(name='Steel').id]"
   ]
  },
  {
   "cell_type": "code",
   "execution_count": 56,
   "id": "bb677f9d-3481-450f-9063-81f93be1044e",
   "metadata": {},
   "outputs": [],
   "source": [
    "lca.remap_inventory_dicts()"
   ]
  },
  {
   "cell_type": "code",
   "execution_count": 57,
   "id": "8cc11aff-9d63-425b-860a-4614786bc147",
   "metadata": {},
   "outputs": [
    {
     "data": {
      "text/plain": [
       "{('Mobility example', 'Steel'): 1}"
      ]
     },
     "execution_count": 57,
     "metadata": {},
     "output_type": "execute_result"
    }
   ],
   "source": [
    "lca.demand"
   ]
  },
  {
   "cell_type": "code",
   "execution_count": 58,
   "id": "52faa39e-e029-4a0f-93fa-ff0d301a9cca",
   "metadata": {},
   "outputs": [
    {
     "data": {
      "text/plain": [
       "3"
      ]
     },
     "execution_count": 58,
     "metadata": {},
     "output_type": "execute_result"
    }
   ],
   "source": [
    "lca.dicts.product[bd.get_node(name='Steel').key]"
   ]
  },
  {
   "cell_type": "code",
   "execution_count": 59,
   "id": "8b06f189-458a-4578-9045-ec84de0b1e0b",
   "metadata": {},
   "outputs": [
    {
     "data": {
      "text/plain": [
       "['Electricity' (kilowatt hour, GLO, None),\n",
       " 'Steel' (kilogram, GLO, None),\n",
       " 'Electric car' (unit, GLO, ('Electric car',)),\n",
       " 'Combustion car' (unit, GLO, ('Combustion car',)),\n",
       " 'Driving an combustion car' (kilometer, Europe, None),\n",
       " 'Lithium' (kilogram, GLO, None),\n",
       " 'Electric car battery' (unit, GLO, ('Electric car battery',)),\n",
       " 'Driving an electric car' (kilometer, Europe, None),\n",
       " 'CO2' (kilogram, None, None)]"
      ]
     },
     "execution_count": 59,
     "metadata": {},
     "output_type": "execute_result"
    }
   ],
   "source": [
    "list(bd.Database(\"Mobility example\"))"
   ]
  },
  {
   "cell_type": "markdown",
   "id": "651274c3-7536-4aa1-baa3-28a93420a884",
   "metadata": {},
   "source": [
    "## `.redo_lci` ➡️ `.lci`, `.redo_lcia` ➡️ `.lcia`\n",
    "\n",
    "The preferred way to do additional LCI or LCIA calculations has changed, and has been simplified to the same way we do an initial caluculation, namely with `.lci(new_demand_dict)` and `.lcia(new_demand_dict)`."
   ]
  },
  {
   "cell_type": "code",
   "execution_count": 60,
   "id": "55e4e73b-bf4b-4fe7-9660-2c74d3b45311",
   "metadata": {},
   "outputs": [
    {
     "name": "stdout",
     "output_type": "stream",
     "text": [
      "0.15490749959371897 'Driving an combustion car' (kilometer, Europe, None)\n",
      "0.18248161259647167 'Driving an electric car' (kilometer, Europe, None)\n"
     ]
    }
   ],
   "source": [
    "lca = bc.LCA(demand=fu, data_objs=dps)\n",
    "lca.lci()\n",
    "lca.lcia()\n",
    "\n",
    "for act in [\n",
    "    bd.get_node(name='Driving an combustion car'),\n",
    "    bd.get_node(name='Driving an electric car'), \n",
    "]:\n",
    "    lca.lcia({act.id: 1})\n",
    "    print(lca.score, act)"
   ]
  },
  {
   "cell_type": "markdown",
   "id": "6b693e69-dab8-469b-8732-b5894ab2e825",
   "metadata": {},
   "source": [
    "Note the following **important condition**: The functional unit must be specified either as integer IDs (see above), or as Brightway (database, code) keys *if you have run `remap_inventory_dicts()`*. The software will help you as much as possible:"
   ]
  },
  {
   "cell_type": "code",
   "execution_count": 61,
   "id": "4d61d811-79b4-49b5-833e-cac4abed66dc",
   "metadata": {},
   "outputs": [
    {
     "ename": "KeyError",
     "evalue": "\"Key '('Mobility example', 'Driving an combustion car')' not in product dictionary; make sure to pass the integer id, not a key like `('foo', 'bar')` or an `Actiivity` or `Node` object.\"",
     "output_type": "error",
     "traceback": [
      "\u001b[0;31m---------------------------------------------------------------------------\u001b[0m",
      "\u001b[0;31mKeyError\u001b[0m                                  Traceback (most recent call last)",
      "Cell \u001b[0;32mIn [61], line 1\u001b[0m\n\u001b[0;32m----> 1\u001b[0m \u001b[43mlca\u001b[49m\u001b[38;5;241;43m.\u001b[39;49m\u001b[43mlcia\u001b[49m\u001b[43m(\u001b[49m\u001b[43m{\u001b[49m\u001b[43mbd\u001b[49m\u001b[38;5;241;43m.\u001b[39;49m\u001b[43mget_node\u001b[49m\u001b[43m(\u001b[49m\u001b[43mname\u001b[49m\u001b[38;5;241;43m=\u001b[39;49m\u001b[38;5;124;43m'\u001b[39;49m\u001b[38;5;124;43mDriving an combustion car\u001b[39;49m\u001b[38;5;124;43m'\u001b[39;49m\u001b[43m)\u001b[49m\u001b[38;5;241;43m.\u001b[39;49m\u001b[43mkey\u001b[49m\u001b[43m:\u001b[49m\u001b[43m \u001b[49m\u001b[38;5;241;43m1\u001b[39;49m\u001b[43m}\u001b[49m\u001b[43m)\u001b[49m\n",
      "File \u001b[0;32m~/miniconda3/envs/bw25/lib/python3.10/site-packages/bw2calc/lca.py:395\u001b[0m, in \u001b[0;36mLCA.lcia\u001b[0;34m(self, demand)\u001b[0m\n\u001b[1;32m    393\u001b[0m     \u001b[38;5;28mself\u001b[39m\u001b[38;5;241m.\u001b[39mload_lcia_data()\n\u001b[1;32m    394\u001b[0m \u001b[38;5;28;01mif\u001b[39;00m demand \u001b[38;5;129;01mis\u001b[39;00m \u001b[38;5;129;01mnot\u001b[39;00m \u001b[38;5;28;01mNone\u001b[39;00m:\n\u001b[0;32m--> 395\u001b[0m     \u001b[38;5;28;43mself\u001b[39;49m\u001b[38;5;241;43m.\u001b[39;49m\u001b[43m__check_demand\u001b[49m\u001b[43m(\u001b[49m\u001b[43mdemand\u001b[49m\u001b[43m)\u001b[49m\n\u001b[1;32m    396\u001b[0m     \u001b[38;5;28mself\u001b[39m\u001b[38;5;241m.\u001b[39mlci(demand\u001b[38;5;241m=\u001b[39mdemand)\n\u001b[1;32m    397\u001b[0m     \u001b[38;5;28mself\u001b[39m\u001b[38;5;241m.\u001b[39mdemand \u001b[38;5;241m=\u001b[39m demand\n",
      "File \u001b[0;32m~/miniconda3/envs/bw25/lib/python3.10/site-packages/bw2calc/lca.py:554\u001b[0m, in \u001b[0;36mLCA.__check_demand\u001b[0;34m(self, demand)\u001b[0m\n\u001b[1;32m    552\u001b[0m \u001b[38;5;28;01mfor\u001b[39;00m key \u001b[38;5;129;01min\u001b[39;00m demand:\n\u001b[1;32m    553\u001b[0m     \u001b[38;5;28;01mif\u001b[39;00m key \u001b[38;5;129;01mnot\u001b[39;00m \u001b[38;5;129;01min\u001b[39;00m \u001b[38;5;28mself\u001b[39m\u001b[38;5;241m.\u001b[39mdicts\u001b[38;5;241m.\u001b[39mproduct \u001b[38;5;129;01mand\u001b[39;00m \u001b[38;5;129;01mnot\u001b[39;00m \u001b[38;5;28misinstance\u001b[39m(key, \u001b[38;5;28mint\u001b[39m):\n\u001b[0;32m--> 554\u001b[0m         \u001b[38;5;28;01mraise\u001b[39;00m \u001b[38;5;167;01mKeyError\u001b[39;00m(\u001b[38;5;124mf\u001b[39m\u001b[38;5;124m\"\u001b[39m\u001b[38;5;124mKey \u001b[39m\u001b[38;5;124m'\u001b[39m\u001b[38;5;132;01m{\u001b[39;00mkey\u001b[38;5;132;01m}\u001b[39;00m\u001b[38;5;124m'\u001b[39m\u001b[38;5;124m not in product dictionary; make sure to pass the integer id, not a key like `(\u001b[39m\u001b[38;5;124m'\u001b[39m\u001b[38;5;124mfoo\u001b[39m\u001b[38;5;124m'\u001b[39m\u001b[38;5;124m, \u001b[39m\u001b[38;5;124m'\u001b[39m\u001b[38;5;124mbar\u001b[39m\u001b[38;5;124m'\u001b[39m\u001b[38;5;124m)` or an `Actiivity` or `Node` object.\u001b[39m\u001b[38;5;124m\"\u001b[39m)\n",
      "\u001b[0;31mKeyError\u001b[0m: \"Key '('Mobility example', 'Driving an combustion car')' not in product dictionary; make sure to pass the integer id, not a key like `('foo', 'bar')` or an `Actiivity` or `Node` object.\""
     ]
    }
   ],
   "source": [
    "lca.lcia({bd.get_node(name='Driving an combustion car').key: 1})"
   ]
  },
  {
   "cell_type": "markdown",
   "id": "a6d7fc74-41ac-47fc-9f50-37640fe00608",
   "metadata": {},
   "source": [
    "## `LCA` object can now do Monte Carlo\n",
    "\n",
    "There is now no longer a separate Monte Carlo class, as the sampling of values has moved to `matrix_utils` as is more generic than before - we don't need to assume that people only have probability distribution functions, but are open to many more types of quantitative uncertainty or scenarios.\n",
    "\n",
    "Therefore, calls to `MonteCarloLCA` need to **change to `LCA(..., use_distributions=True)`**, and you can use the normal `.lci()` and `.lcia()` functions."
   ]
  },
  {
   "cell_type": "code",
   "execution_count": null,
   "id": "e0cba472-d928-4ddb-a7c1-6317795cafc5",
   "metadata": {},
   "outputs": [],
   "source": [
    "ipcc = bd.Method(('IPCC', 'uncertain'))\n",
    "ipcc.register()\n",
    "ipcc.write([(('Mobility example', 'CO2'), {'uncertainty_type': 3, 'amount': 1, 'loc': 1, 'scale': 0.1})])"
   ]
  },
  {
   "cell_type": "code",
   "execution_count": null,
   "id": "41aab3f1-c40d-4647-9c96-4bed50a418a8",
   "metadata": {},
   "outputs": [],
   "source": [
    "lca = bc.LCA(\n",
    "    demand={bd.get_node(name='Driving an electric car'): 1}, \n",
    "    method=('IPCC', 'uncertain'),\n",
    "    use_distributions=True\n",
    ")\n",
    "lca.lci()\n",
    "lca.lcia()\n",
    "\n",
    "for _ in zip(range(10), lca):\n",
    "    print(lca.score)"
   ]
  },
  {
   "cell_type": "markdown",
   "id": "9018d1b4-77d0-41d0-b46d-8eb619f67291",
   "metadata": {},
   "source": [
    "### `keep_first_iteration`\n",
    "\n",
    "Sometimes you want to keep the values sampled when you set up the LCA object, instead of getting the next value in a sequence when you start iterating over Monte Carlo results. In this case, just call `.keep_first_iteration` and it will skip the first iteration step."
   ]
  },
  {
   "cell_type": "code",
   "execution_count": null,
   "id": "fc94b3fb-645f-44ed-b3fc-e3a0d2ae4d9d",
   "metadata": {},
   "outputs": [],
   "source": [
    "lca = bc.LCA(\n",
    "    demand={bd.get_node(name='Driving an electric car'): 1}, \n",
    "    method=('IPCC', 'uncertain'),\n",
    "    use_distributions=True\n",
    ")\n",
    "lca.lci()\n",
    "lca.lcia()\n",
    "lca.keep_first_iteration()\n",
    "print(\"Score after setup:\", lca.score)\n",
    "\n",
    "for _ in zip(range(4), lca):\n",
    "    print(\"In loop:\", lca.score)"
   ]
  },
  {
   "cell_type": "markdown",
   "id": "750c99cb-ce90-4972-8ddd-3193f571579d",
   "metadata": {},
   "source": [
    "## New `.dicts` accessor\n",
    "\n",
    "The old methods still work (well, they will in the next dev release :), but the preferred way is to do the following:"
   ]
  },
  {
   "cell_type": "code",
   "execution_count": null,
   "id": "345c1389-d8da-4155-a20f-5612755b82bc",
   "metadata": {},
   "outputs": [],
   "source": [
    "product = next(node for node in bd.Database(\"US EEIO 1.1\") if node['type'] == 'product')\n",
    "activity = next(node for node in bd.Database(\"US EEIO 1.1\") if node['type'] == 'process')\n",
    "emission = next(node for node in bd.Database(\"US EEIO 1.1\") if node['type'] == 'emission')"
   ]
  },
  {
   "cell_type": "code",
   "execution_count": null,
   "id": "d3f1fb5f-3fd9-4b63-84ef-90bd3bc11b7c",
   "metadata": {},
   "outputs": [],
   "source": [
    "lca = bc.LCA({product: 1})\n",
    "lca.lci()"
   ]
  },
  {
   "cell_type": "markdown",
   "id": "8ad98e44-9a53-46d0-87b2-e03e0fbd8e70",
   "metadata": {},
   "source": [
    "To matrix index:"
   ]
  },
  {
   "cell_type": "code",
   "execution_count": null,
   "id": "59a99220-5ff4-4e3c-bad6-20fda9e5d405",
   "metadata": {},
   "outputs": [],
   "source": [
    "act_matrix = lca.dicts.activity[activity.id]\n",
    "act_matrix"
   ]
  },
  {
   "cell_type": "markdown",
   "id": "fe524789-9eaa-4c52-948e-a0d517de1191",
   "metadata": {},
   "source": [
    "To database ID:"
   ]
  },
  {
   "cell_type": "code",
   "execution_count": null,
   "id": "81dc1579-5831-489d-ba06-2d1e39b71277",
   "metadata": {},
   "outputs": [],
   "source": [
    "lca.dicts.activity.reversed[act_matrix], activity.id"
   ]
  },
  {
   "cell_type": "markdown",
   "id": "a75bda9b-116a-408d-af08-e2af61178ab1",
   "metadata": {},
   "source": [
    "And the same for products and biosphere flows:"
   ]
  },
  {
   "cell_type": "code",
   "execution_count": null,
   "id": "631bb320-5f2b-4ecc-a579-0d2c3f9abdd1",
   "metadata": {},
   "outputs": [],
   "source": [
    "lca.dicts.product[product.id], lca.dicts.biosphere[emission.id]"
   ]
  },
  {
   "cell_type": "code",
   "execution_count": null,
   "id": "560329cd-a12b-4cad-8def-809adfe4f1d6",
   "metadata": {},
   "outputs": [],
   "source": []
  }
 ],
 "metadata": {
  "celltoolbar": "Slideshow",
  "kernelspec": {
   "display_name": "Python 3 (ipykernel)",
   "language": "python",
   "name": "python3"
  },
  "language_info": {
   "codemirror_mode": {
    "name": "ipython",
    "version": 3
   },
   "file_extension": ".py",
   "mimetype": "text/x-python",
   "name": "python",
   "nbconvert_exporter": "python",
   "pygments_lexer": "ipython3",
   "version": "3.10.6"
  }
 },
 "nbformat": 4,
 "nbformat_minor": 5
}
