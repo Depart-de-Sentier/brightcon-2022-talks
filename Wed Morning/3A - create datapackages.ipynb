{
 "cells": [
  {
   "cell_type": "markdown",
   "metadata": {},
   "source": [
    "Adapted from https://github.com/astudillo20lca/hypercognitive\n",
    "\n",
    "**Conference Notebook Kernel: `bw25`**"
   ]
  },
  {
   "cell_type": "code",
   "execution_count": 1,
   "metadata": {},
   "outputs": [],
   "source": [
    "import shutil\n",
    "from pathlib import Path\n",
    "\n",
    "import bw2data as bwd\n",
    "import bw2calc as bwc\n",
    "import bw2io as bwi"
   ]
  },
  {
   "cell_type": "markdown",
   "metadata": {},
   "source": [
    "## Minimalistic data for an LCA"
   ]
  },
  {
   "cell_type": "markdown",
   "metadata": {},
   "source": [
    "Often we do not need the full complexity of a database in our applications. In the HyperCOG project we want to implement a cyber physical system in industrial settings. So it often a good idea to keep requirements to a minimum.\n",
    "\n",
    "This notebook creates minimalistic versions of the foreground, biosphere and impact assessment methods databases as lightweight data packages."
   ]
  },
  {
   "cell_type": "code",
   "execution_count": 2,
   "metadata": {},
   "outputs": [
    {
     "name": "stdout",
     "output_type": "stream",
     "text": [
      "Restoring project backup archive - this could take a few minutes...\n"
     ]
    },
    {
     "data": {
      "text/plain": [
       "'ei38-teaching-25'"
      ]
     },
     "execution_count": 2,
     "metadata": {},
     "output_type": "execute_result"
    }
   ],
   "source": [
    "bwi.restore_project_directory(\"/srv/data/projects/ecoinvent38-25.tar.gz\")"
   ]
  },
  {
   "cell_type": "code",
   "execution_count": 3,
   "metadata": {},
   "outputs": [],
   "source": [
    "bwd.projects.set_current('ei38-teaching-25')"
   ]
  },
  {
   "cell_type": "markdown",
   "metadata": {},
   "source": [
    "## biosphere database\n",
    "\n",
    "let's imagine that in this project I am only intested in greenhouse gases and only CO2 and CH4 are emitted. Let's create a biosphere database with only those elementary flows / nodes"
   ]
  },
  {
   "cell_type": "code",
   "execution_count": 7,
   "metadata": {},
   "outputs": [],
   "source": [
    "assert 'biosphere3' in bwd.databases"
   ]
  },
  {
   "cell_type": "markdown",
   "metadata": {},
   "source": [
    "minimal verison of the biosphere with only the nodes I need"
   ]
  },
  {
   "cell_type": "code",
   "execution_count": 8,
   "metadata": {},
   "outputs": [],
   "source": [
    "if 'mini_biosphere' in bwd.databases:\n",
    "\n",
    "    print(f\"deleting {bwd.Database('mini_biosphere').name}\")\n",
    "    del bwd.databases['mini_biosphere']"
   ]
  },
  {
   "cell_type": "markdown",
   "metadata": {},
   "source": [
    "co2 and ch4 _nodes_ from `biosphere3`"
   ]
  },
  {
   "cell_type": "code",
   "execution_count": 9,
   "metadata": {},
   "outputs": [],
   "source": [
    "co2 = next(x for x in bwd.Database(\"biosphere3\") \n",
    "           if x['name'] == 'Carbon dioxide, fossil'\n",
    "           and x['categories'] == ('air',))\n",
    "\n",
    "ch4 = next(x for x in bwd.Database(\"biosphere3\") \n",
    "           if x['name'] == 'Methane, fossil'\n",
    "           and x['categories'] == ('air',))"
   ]
  },
  {
   "cell_type": "code",
   "execution_count": 10,
   "metadata": {},
   "outputs": [
    {
     "name": "stdout",
     "output_type": "stream",
     "text": [
      "Successfully switch activity dataset to database `mini_biosphere`\n",
      "Successfully switch activity dataset to database `mini_biosphere`\n"
     ]
    }
   ],
   "source": [
    "co2_dict = {k:v for k,v in co2.as_dict().items() if k not in ['id','code']}\n",
    "ch4_dict = {k:v for k,v in ch4.as_dict().items() if k not in ['id','code']}\n",
    "\n",
    "co2_dict['code'] = 'CO2'\n",
    "ch4_dict['code'] = 'CH4'\n",
    "co2_dict['database'] = 'mini_biosphere'\n",
    "ch4_dict['database'] = 'mini_biosphere'\n",
    "\n",
    "bio_db = bwd.Database(\"mini_biosphere\")\n",
    "bio_db.register()\n",
    "\n",
    "co2_new = bio_db.new_activity(**co2_dict)\n",
    "co2_new.save()\n",
    "\n",
    "ch4_new = bio_db.new_activity(**ch4_dict)\n",
    "ch4_new.save()\n",
    "\n",
    "bio_db_dpgk = bio_db.datapackage()"
   ]
  },
  {
   "cell_type": "markdown",
   "metadata": {
    "tags": []
   },
   "source": [
    "## impact assessment method\n",
    "\n",
    "let's store a minimal version of the IPCC 2013 impact assessment method"
   ]
  },
  {
   "cell_type": "code",
   "execution_count": 11,
   "metadata": {},
   "outputs": [],
   "source": [
    "# map between ef in the original biosphere database and the simplified one\n",
    "ef_keys_dict = {\n",
    "co2.key:co2_new.key,\n",
    "ch4.key:ch4_new.key\n",
    "}\n",
    "\n",
    "ipcc2013 = bwd.Method(('IPCC 2013', 'climate change', 'GWP 100a'))\n",
    "required_cfs = [(ef_keys_dict.get(key),cf) for key,cf in ipcc2013.load() if key in ef_keys_dict]\n",
    "ipcc_simplified = bwd.Method(('IPCC','simple'))\n",
    "ipcc_simplified.write(required_cfs)\n",
    "assert ipcc_simplified.filepath_processed().is_file()"
   ]
  },
  {
   "cell_type": "code",
   "execution_count": 12,
   "metadata": {},
   "outputs": [],
   "source": [
    "ipcc_simplified.register()"
   ]
  },
  {
   "cell_type": "code",
   "execution_count": 13,
   "metadata": {},
   "outputs": [
    {
     "data": {
      "text/plain": [
       "{'abbreviation': 'ipccs.9602a5c9eb31e1a9ba91f7805bfc9e98',\n",
       " 'num_cfs': 2,\n",
       " 'geocollections': ['world']}"
      ]
     },
     "execution_count": 13,
     "metadata": {},
     "output_type": "execute_result"
    }
   ],
   "source": [
    "ipcc_simplified.metadata"
   ]
  },
  {
   "cell_type": "markdown",
   "metadata": {},
   "source": [
    "## foreground database"
   ]
  },
  {
   "cell_type": "markdown",
   "metadata": {},
   "source": [
    "example of foreground database"
   ]
  },
  {
   "cell_type": "code",
   "execution_count": 15,
   "metadata": {},
   "outputs": [
    {
     "name": "stdout",
     "output_type": "stream",
     "text": [
      "Not able to determine geocollections for all datasets. This database is not ready for regionalization.\n",
      "Warning: No valid output stream.\n",
      "Title: Writing activities to SQLite3 database:\n",
      "  Started: 09/27/2022 19:33:02\n",
      "  Finished: 09/27/2022 19:33:02\n",
      "  Total time elapsed: 00:00:00\n",
      "  CPU %: 0.00\n",
      "  Memory %: 0.15\n"
     ]
    }
   ],
   "source": [
    "a_key = (\"testdb\", \"my_machine\")\n",
    "\n",
    "act_a_def = {\n",
    "    'name': 'my_machine',\n",
    "    'unit': 'kilogram',\n",
    "    'exchanges': [{\"input\": co2_new.key, \"type\": \"biosphere\", \"amount\": 10},\n",
    "                  {\"input\": a_key, \"output\":a_key,'type':'production','amount':1},\n",
    "                  {\"input\": ch4_new.key, \"type\": \"biosphere\", \"amount\": 1},\n",
    "                 ],\n",
    "    }\n",
    "\n",
    "db = bwd.Database(\"testdb\")\n",
    "db.write(\n",
    "    {\n",
    "    a_key : act_a_def,\n",
    "    }\n",
    "    )"
   ]
  },
  {
   "cell_type": "markdown",
   "metadata": {},
   "source": [
    "calculate via normal procedure"
   ]
  },
  {
   "cell_type": "code",
   "execution_count": 16,
   "metadata": {},
   "outputs": [],
   "source": [
    "lca = bwc.LCA({db.get('my_machine'):1},method=ipcc_simplified.name)"
   ]
  },
  {
   "cell_type": "code",
   "execution_count": 17,
   "metadata": {},
   "outputs": [
    {
     "data": {
      "text/plain": [
       "39.70000076293945"
      ]
     },
     "execution_count": 17,
     "metadata": {},
     "output_type": "execute_result"
    }
   ],
   "source": [
    "lca.lci()\n",
    "lca.lcia()\n",
    "lca.score"
   ]
  },
  {
   "cell_type": "markdown",
   "metadata": {
    "tags": []
   },
   "source": [
    "## get the related datapackages"
   ]
  },
  {
   "cell_type": "markdown",
   "metadata": {},
   "source": [
    "we can identify the datapackages associated with our data and copy it in this folder to re-use later"
   ]
  },
  {
   "cell_type": "code",
   "execution_count": 22,
   "metadata": {},
   "outputs": [
    {
     "data": {
      "text/plain": [
       "'sqlite'"
      ]
     },
     "execution_count": 22,
     "metadata": {},
     "output_type": "execute_result"
    }
   ],
   "source": [
    "db.backend"
   ]
  },
  {
   "cell_type": "code",
   "execution_count": 23,
   "metadata": {},
   "outputs": [],
   "source": [
    "db.process(csv=True)"
   ]
  },
  {
   "cell_type": "code",
   "execution_count": 24,
   "metadata": {},
   "outputs": [],
   "source": [
    "bio_db.process(csv=True)"
   ]
  },
  {
   "cell_type": "code",
   "execution_count": 25,
   "metadata": {},
   "outputs": [],
   "source": [
    "shutil.copyfile(src=ipcc_simplified.filepath_processed(),\n",
    "                dst=Path.cwd()/ipcc_simplified.filename_processed());"
   ]
  },
  {
   "cell_type": "code",
   "execution_count": 26,
   "metadata": {},
   "outputs": [],
   "source": [
    "shutil.copyfile(src=db.filepath_processed(),\n",
    "                dst=Path.cwd()/db.filename_processed());"
   ]
  },
  {
   "cell_type": "code",
   "execution_count": 27,
   "metadata": {},
   "outputs": [],
   "source": [
    "shutil.copyfile(\n",
    "src=bio_db.filepath_processed(),\n",
    "dst=Path.cwd()/bio_db.filename_processed());"
   ]
  },
  {
   "cell_type": "markdown",
   "metadata": {},
   "source": [
    "Now if we look into the folder we should find some zip files with the corresponding datapackages."
   ]
  },
  {
   "cell_type": "code",
   "execution_count": 32,
   "metadata": {},
   "outputs": [
    {
     "name": "stdout",
     "output_type": "stream",
     "text": [
      "ipccs.9602a5c9eb31e1a9ba91f7805bfc9e98.zip\n",
      "testdb.2a571274.zip\n",
      "mini_biosphere.939a0794.zip\n"
     ]
    }
   ],
   "source": [
    "for path in Path.cwd().glob('*zip'):\n",
    "    print(path.name)"
   ]
  }
 ],
 "metadata": {
  "kernelspec": {
   "display_name": "Python [conda env:bw25]",
   "language": "python",
   "name": "conda-env-bw25-py"
  },
  "language_info": {
   "codemirror_mode": {
    "name": "ipython",
    "version": 3
   },
   "file_extension": ".py",
   "mimetype": "text/x-python",
   "name": "python",
   "nbconvert_exporter": "python",
   "pygments_lexer": "ipython3",
   "version": "3.10.6"
  },
  "vscode": {
   "interpreter": {
    "hash": "b40cb66b17e2df57947cd0be31411fdcbc2ae98be058b92255e133ab5e347443"
   }
  }
 },
 "nbformat": 4,
 "nbformat_minor": 4
}
