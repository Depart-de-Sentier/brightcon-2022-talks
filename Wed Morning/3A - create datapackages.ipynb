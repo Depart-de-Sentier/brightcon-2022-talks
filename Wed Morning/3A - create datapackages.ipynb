{
 "cells": [
  {
   "cell_type": "markdown",
   "metadata": {},
   "source": [
    "Adapted from https://github.com/astudillo20lca/hypercognitive\n",
    "\n",
    "**Conference Notebook Kernel: `bw25`**"
   ]
  },
  {
   "cell_type": "code",
   "execution_count": null,
   "metadata": {},
   "outputs": [],
   "source": [
    "import shutil\n",
    "from pathlib import Path\n",
    "\n",
    "import bw2data as bwd\n",
    "import bw2calc as bwc\n",
    "import bw2io as bwi"
   ]
  },
  {
   "cell_type": "markdown",
   "metadata": {},
   "source": [
    "This notebook creates minimalistic versions of the foreground, biosphere and impact assessment methods databases as lightweight data packages."
   ]
  },
  {
   "cell_type": "code",
   "execution_count": null,
   "metadata": {},
   "outputs": [],
   "source": [
    "bwi.restore_project_directory(\"/srv/data/projects/ecoinvent38-25.tar.gz\")"
   ]
  },
  {
   "cell_type": "code",
   "execution_count": null,
   "metadata": {},
   "outputs": [],
   "source": [
    "bwd.projects.set_current('ei38-teaching-25')"
   ]
  },
  {
   "cell_type": "code",
   "execution_count": null,
   "metadata": {},
   "outputs": [],
   "source": [
    "assert 'biosphere3' in bwd.databases"
   ]
  },
  {
   "cell_type": "markdown",
   "metadata": {},
   "source": [
    "minimal verison of the biosphere with only the nodes I need"
   ]
  },
  {
   "cell_type": "code",
   "execution_count": null,
   "metadata": {},
   "outputs": [],
   "source": [
    "if 'mini_biosphere' in bwd.databases:\n",
    "\n",
    "    print(f\"deleting {bwd.Database('mini_biosphere').name}\")\n",
    "    del bwd.databases['mini_biosphere']"
   ]
  },
  {
   "cell_type": "code",
   "execution_count": null,
   "metadata": {},
   "outputs": [],
   "source": [
    "co2 = next(x for x in bwd.Database(\"biosphere3\") \n",
    "           if x['name'] == 'Carbon dioxide, fossil'\n",
    "           and x['categories'] == ('air',))\n",
    "\n",
    "ch4 = next(x for x in bwd.Database(\"biosphere3\") \n",
    "           if x['name'] == 'Methane, fossil'\n",
    "           and x['categories'] == ('air',))"
   ]
  },
  {
   "cell_type": "code",
   "execution_count": null,
   "metadata": {},
   "outputs": [],
   "source": [
    "co2_dict = {k:v for k,v in co2.as_dict().items() if k not in ['id','code']}\n",
    "ch4_dict = {k:v for k,v in ch4.as_dict().items() if k not in ['id','code']}\n",
    "\n",
    "co2_dict['code'] = 'CO2'\n",
    "ch4_dict['code'] = 'CH4'\n",
    "co2_dict['database'] = 'mini_biosphere'\n",
    "ch4_dict['database'] = 'mini_biosphere'\n",
    "\n",
    "bio_db = bwd.Database(\"mini_biosphere\")\n",
    "bio_db.register()\n",
    "\n",
    "co2_new = bio_db.new_activity(**co2_dict)\n",
    "co2_new.save()\n",
    "\n",
    "ch4_new = bio_db.new_activity(**ch4_dict)\n",
    "ch4_new.save()\n",
    "\n",
    "bio_db_dpgk = bio_db.datapackage()"
   ]
  },
  {
   "cell_type": "markdown",
   "metadata": {},
   "source": [
    "minimal verion of impact assessment method"
   ]
  },
  {
   "cell_type": "code",
   "execution_count": null,
   "metadata": {},
   "outputs": [],
   "source": [
    "# map between ef in the original biosphere database and the simplified one\n",
    "ef_keys_dict = {\n",
    "co2.key:co2_new.key,\n",
    "ch4.key:ch4_new.key\n",
    "}\n",
    "\n",
    "ipcc2013 = bwd.Method(('IPCC 2013', 'climate change', 'GWP 100a'))\n",
    "required_cfs = [(ef_keys_dict.get(key),cf) for key,cf in ipcc2013.load() if key in ef_keys_dict]\n",
    "ipcc_simplified = bwd.Method(('IPCC','simple'))\n",
    "ipcc_simplified.write(required_cfs)\n",
    "assert ipcc_simplified.filepath_processed().is_file()"
   ]
  },
  {
   "cell_type": "code",
   "execution_count": null,
   "metadata": {},
   "outputs": [],
   "source": [
    "ipcc_simplified.register()"
   ]
  },
  {
   "cell_type": "code",
   "execution_count": null,
   "metadata": {},
   "outputs": [],
   "source": [
    "ipcc_simplified.metadata"
   ]
  },
  {
   "cell_type": "markdown",
   "metadata": {},
   "source": [
    "example of foreground database"
   ]
  },
  {
   "cell_type": "code",
   "execution_count": null,
   "metadata": {},
   "outputs": [],
   "source": [
    "a_key = (\"testdb\", \"machine_a\")\n",
    "\n",
    "act_a_def = {\n",
    "    'name': 'a',\n",
    "    'unit': 'kilogram',\n",
    "    'exchanges': [{\"input\": co2_new.key, \"type\": \"biosphere\", \"amount\": 10},\n",
    "                  {\"input\": a_key, \"output\":a_key,'type':'production','amount':1},\n",
    "                  {\"input\": ch4_new.key, \"type\": \"biosphere\", \"amount\": 1},\n",
    "                 ],\n",
    "    }\n",
    "\n",
    "db = bwd.Database(\"testdb\")\n",
    "db.write(\n",
    "    {\n",
    "    a_key : act_a_def,\n",
    "    }\n",
    "    )"
   ]
  },
  {
   "cell_type": "markdown",
   "metadata": {},
   "source": [
    "calculate via normal procedure"
   ]
  },
  {
   "cell_type": "code",
   "execution_count": null,
   "metadata": {},
   "outputs": [],
   "source": [
    "lca = bwc.LCA({db.get('machine_a'):1},method=ipcc_simplified.name)"
   ]
  },
  {
   "cell_type": "code",
   "execution_count": null,
   "metadata": {},
   "outputs": [],
   "source": [
    "lca.lci()\n",
    "lca.lcia()\n",
    "lca.score"
   ]
  },
  {
   "cell_type": "code",
   "execution_count": null,
   "metadata": {},
   "outputs": [],
   "source": [
    "db.process(csv=True)"
   ]
  },
  {
   "cell_type": "code",
   "execution_count": null,
   "metadata": {},
   "outputs": [],
   "source": [
    "bio_db.process(csv=True)"
   ]
  },
  {
   "cell_type": "markdown",
   "metadata": {},
   "source": [
    "get the related datapackages"
   ]
  },
  {
   "cell_type": "code",
   "execution_count": null,
   "metadata": {},
   "outputs": [],
   "source": [
    "shutil.copyfile(src=ipcc_simplified.filepath_processed(),\n",
    "                dst=Path.cwd()/ipcc_simplified.filename_processed());"
   ]
  },
  {
   "cell_type": "code",
   "execution_count": null,
   "metadata": {},
   "outputs": [],
   "source": [
    "shutil.copyfile(src=db.filepath_processed(),\n",
    "                dst=Path.cwd()/db.filename_processed());"
   ]
  },
  {
   "cell_type": "code",
   "execution_count": null,
   "metadata": {},
   "outputs": [],
   "source": [
    "shutil.copyfile(\n",
    "src=bio_db.filepath_processed(),\n",
    "dst=Path.cwd()/bio_db.filename_processed());"
   ]
  }
 ],
 "metadata": {
  "kernelspec": {
   "display_name": "Python 3 (ipykernel)",
   "language": "python",
   "name": "python3"
  },
  "language_info": {
   "codemirror_mode": {
    "name": "ipython",
    "version": 3
   },
   "file_extension": ".py",
   "mimetype": "text/x-python",
   "name": "python",
   "nbconvert_exporter": "python",
   "pygments_lexer": "ipython3",
   "version": "3.10.5"
  },
  "vscode": {
   "interpreter": {
    "hash": "b40cb66b17e2df57947cd0be31411fdcbc2ae98be058b92255e133ab5e347443"
   }
  }
 },
 "nbformat": 4,
 "nbformat_minor": 4
}
