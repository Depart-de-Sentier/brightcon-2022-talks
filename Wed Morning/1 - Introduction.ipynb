{
 "cells": [
  {
   "cell_type": "markdown",
   "id": "16acfb21-0ba6-4000-82d4-088e8c226139",
   "metadata": {},
   "source": [
    "<div align=\"center\">\n",
    "    <img src=\"../images/BrightCon_Logo_outl_color.png\">\n",
    "</div>    "
   ]
  },
  {
   "cell_type": "markdown",
   "id": "bd838e81-b6f7-4332-923c-22e65095c1ba",
   "metadata": {
    "slideshow": {
     "slide_type": "slide"
    },
    "tags": []
   },
   "source": [
    "# 0 - Introduction\n",
    "\n",
    "Most talks will have interactive examples; all talk code (and even this presentation) can be found at https://github.com/Depart-de-Sentier/brightcon-2022-talks.\n",
    "\n",
    "Internet: `FBWIFI` / `Belval2022`\n",
    "\n",
    "Servers: The host / username / password is on your sheet"
   ]
  },
  {
   "cell_type": "markdown",
   "id": "c4dd6a23-b3fd-4a76-94dc-a47a64b4e481",
   "metadata": {
    "slideshow": {
     "slide_type": "slide"
    },
    "tags": []
   },
   "source": [
    "# 1 - Admin stuff\n",
    "\n",
    "Good morning! We are thrilled that you are here, and are looking forward to a nice conference together.\n",
    "\n",
    "There are some admin things to get out of the way:\n",
    "\n",
    "* We have a [code of conduct](https://2022.brightcon.link/call-for-contest) - please be kind to each other.\n",
    "* We have a [health code](https://2022.brightcon.link/HealthProtection). There are people with reduced immune systems present, please be respectful, and use common sense. Masks and self-tests are available at registration.\n",
    "* We are taking photos, please inform the registration desk if you do not want to be photographed."
   ]
  },
  {
   "cell_type": "markdown",
   "id": "b64fca81-ca71-40cf-afe8-0c1b632264a0",
   "metadata": {
    "slideshow": {
     "slide_type": "slide"
    },
    "tags": []
   },
   "source": [
    "# 2 - Sponsors\n",
    "\n",
    "A big thanks to the conference sponsors, who gave us the budget to make a proper conference."
   ]
  },
  {
   "cell_type": "markdown",
   "id": "4b78e341-dba7-495e-ab86-13ed93812619",
   "metadata": {},
   "source": [
    "<div>\n",
    "    <h2> Platinum Sponsors </h2>\n",
    "    <img src=\"../images/platinum_sponsors.png\" />\n",
    "    <h3> Nickel Sponsors </h3>\n",
    "    <div align=\"center\">\n",
    "    <img src=\"../images/nickel_sponsor.png\" />\n",
    "    </div>\n",
    "</div>"
   ]
  },
  {
   "cell_type": "markdown",
   "id": "8f621024-45ec-413c-b66f-92e1abace51c",
   "metadata": {},
   "source": [
    "🥪 🍅 🧀 All food is vegetarian or vegan; please inform the organizers if you have other allergies or requirements not already disclosed."
   ]
  },
  {
   "cell_type": "markdown",
   "id": "8c501e2f-1e6a-4d3d-97bb-adb13c05ee60",
   "metadata": {
    "slideshow": {
     "slide_type": "slide"
    },
    "tags": []
   },
   "source": [
    "# 3 - Communication\n",
    "\n",
    "* 💻 Conference chat is available on [gitter.im](https://gitter.im/brightway-lca/brightcon)\n",
    "* 🐦 Twitter account is [@brightcon_media](https://twitter.com/brightcon_media) `#brightcon2022`\n",
    "* 🧭 For questions about the building or facilities, ask at registration"
   ]
  }
 ],
 "metadata": {
  "kernelspec": {
   "display_name": "Python 3 (ipykernel)",
   "language": "python",
   "name": "python3"
  },
  "language_info": {
   "codemirror_mode": {
    "name": "ipython",
    "version": 3
   },
   "file_extension": ".py",
   "mimetype": "text/x-python",
   "name": "python",
   "nbconvert_exporter": "python",
   "pygments_lexer": "ipython3",
   "version": "3.10.6"
  }
 },
 "nbformat": 4,
 "nbformat_minor": 5
}
