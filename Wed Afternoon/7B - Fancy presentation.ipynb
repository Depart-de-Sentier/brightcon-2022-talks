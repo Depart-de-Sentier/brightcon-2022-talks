{
 "cells": [
  {
   "cell_type": "markdown",
   "id": "9ea6403f-e6d5-4794-b9c8-4878df5448c9",
   "metadata": {
    "slideshow": {
     "slide_type": "slide"
    },
    "tags": []
   },
   "source": [
    "# What's new in Brightway 2.5\n",
    "\n",
    "## Backwards compatibility\n",
    "\n",
    "Compatilibility with Brightway 2 has been maintained whenever possible, but there are a few cases where compatiblity could not be kept.\n",
    "\n",
    "* In `bw2calc`, the `LCA` class now takes over responsibility for all types of LCA calculations, including Monte Carlo.\n",
    "* In `bw2data`, `Database.get()` and `Database().get()` are no longer supported. Use `get_node(database=\"something\", **other_filters)` instead."
   ]
  },
  {
   "cell_type": "code",
   "execution_count": null,
   "id": "f4d3345f-c223-46c0-a42b-d289e136bc6d",
   "metadata": {
    "slideshow": {
     "slide_type": "skip"
    }
   },
   "outputs": [],
   "source": [
    "import bw2data as bd\n",
    "import bw2calc as bc\n",
    "import bw2io as bi"
   ]
  },
  {
   "cell_type": "code",
   "execution_count": null,
   "id": "88978a84-a9d8-4baa-8a44-31405907e742",
   "metadata": {
    "slideshow": {
     "slide_type": "skip"
    }
   },
   "outputs": [],
   "source": [
    "# if \"2.5 examples in action\" in bd.projects:\n",
    "#     bd.projects.delete_project(\"2.5 examples in action\", True)\n",
    "bd.projects.set_current(\"2.5 examples in action\")"
   ]
  },
  {
   "cell_type": "code",
   "execution_count": null,
   "id": "ef681557",
   "metadata": {
    "slideshow": {
     "slide_type": "skip"
    }
   },
   "outputs": [],
   "source": [
    "bi.bw2setup()"
   ]
  },
  {
   "cell_type": "code",
   "execution_count": null,
   "id": "472d51a7-e677-4fca-bf03-33ae2b2f9413",
   "metadata": {
    "slideshow": {
     "slide_type": "skip"
    },
    "tags": []
   },
   "outputs": [],
   "source": [
    "if 'Mobility example' in bd.databases:\n",
    "    bd.Database(\"Mobility example\").delete_instance()\n",
    "    from bw2data.parameters import ProjectParameter, DatabaseParameter, ActivityParameter, ParameterizedExchange, Group\n",
    "    ProjectParameter.delete().execute()\n",
    "    DatabaseParameter.delete().execute()\n",
    "    ActivityParameter.delete().execute()\n",
    "    ParameterizedExchange.delete().execute()\n",
    "    Group.delete().execute()\n",
    "    \n",
    "bi.add_example_database()"
   ]
  },
  {
   "cell_type": "code",
   "execution_count": null,
   "id": "e91914cc",
   "metadata": {
    "slideshow": {
     "slide_type": "skip"
    }
   },
   "outputs": [],
   "source": [
    "if 'US EEIO 1.1' not in bd.databases:\n",
    "    bi.useeio11()"
   ]
  },
  {
   "cell_type": "code",
   "execution_count": null,
   "id": "71063a7f",
   "metadata": {
    "slideshow": {
     "slide_type": "skip"
    }
   },
   "outputs": [],
   "source": [
    "product = next(node for node in bd.Database(\"US EEIO 1.1\") if node['type'] == 'product')\n",
    "activity = next(node for node in bd.Database(\"US EEIO 1.1\") if node['type'] == 'process')\n",
    "emission = next(node for node in bd.Database(\"US EEIO 1.1\") if node['type'] == 'emission')"
   ]
  },
  {
   "cell_type": "code",
   "execution_count": null,
   "id": "0c40cc02",
   "metadata": {
    "slideshow": {
     "slide_type": "skip"
    }
   },
   "outputs": [],
   "source": [
    "mobility = bd.Database('Mobility example')"
   ]
  },
  {
   "cell_type": "code",
   "execution_count": null,
   "id": "19355be6",
   "metadata": {
    "slideshow": {
     "slide_type": "skip"
    }
   },
   "outputs": [],
   "source": [
    "steel = bd.get_node(name='Steel')\n",
    "steel['properties'] = {'carbon content': {'amount': 0.01}}\n",
    "steel['classifications'] = {'ISIC': {'code': '2410', 'system': 'ISIC Rev. 4'}}\n",
    "steel.save()"
   ]
  },
  {
   "cell_type": "code",
   "execution_count": null,
   "id": "a30725a6",
   "metadata": {
    "slideshow": {
     "slide_type": "skip"
    }
   },
   "outputs": [],
   "source": [
    "ipcc = bd.Method(('IPCC', 'uncertain'))\n",
    "ipcc.register()\n",
    "ipcc.write([(('Mobility example', 'CO2'), {'uncertainty_type': 3, 'amount': 1, 'loc': 1, 'scale': 0.1})])"
   ]
  },
  {
   "cell_type": "code",
   "execution_count": null,
   "id": "f2c0dab9",
   "metadata": {
    "slideshow": {
     "slide_type": "skip"
    }
   },
   "outputs": [],
   "source": [
    "if 'EXIOBASE 3.8.1 2017 monetary' not in bd.databases:\n",
    "    bi.exiobase_monetary()"
   ]
  },
  {
   "cell_type": "code",
   "execution_count": null,
   "id": "18ba93d8",
   "metadata": {
    "slideshow": {
     "slide_type": "skip"
    }
   },
   "outputs": [],
   "source": [
    "exiobase = bd.Database(\"EXIOBASE 3.8.1 2017 monetary\")"
   ]
  },
  {
   "cell_type": "markdown",
   "id": "ad255199-ef0d-4ae9-a1ab-50863dd42aac",
   "metadata": {
    "slideshow": {
     "slide_type": "slide"
    },
    "tags": []
   },
   "source": [
    "# `bw2data`\n",
    "\n",
    "`Make steel` -> `Activity`\n",
    "\n",
    "`Drive motorcycle` -> `Activity`\n",
    "\n",
    "`Grow sugarbeet` -> `Activity`"
   ]
  },
  {
   "cell_type": "markdown",
   "id": "c30d5912",
   "metadata": {
    "slideshow": {
     "slide_type": "fragment"
    }
   },
   "source": [
    "`CO2` -> `Activity`????"
   ]
  },
  {
   "cell_type": "markdown",
   "id": "4824ddee",
   "metadata": {
    "slideshow": {
     "slide_type": "slide"
    }
   },
   "source": [
    "## Change in preferred nomenclature\n",
    "\n",
    "`Activity` -> `Node`\n",
    "\n",
    "`Exchange` -> `Edge`"
   ]
  },
  {
   "cell_type": "code",
   "execution_count": null,
   "id": "eb3ad570",
   "metadata": {
    "slideshow": {
     "slide_type": "fragment"
    }
   },
   "outputs": [],
   "source": [
    "isinstance(steel, bd.Node)"
   ]
  },
  {
   "cell_type": "markdown",
   "id": "2e941b9a",
   "metadata": {},
   "source": [
    "But also:\n",
    "\n",
    "`steel.edges()`, `steel.new_edge()`, `mobility.new_node()`"
   ]
  },
  {
   "cell_type": "markdown",
   "id": "fa5ca4f0-1181-445e-9621-267be4eb4abe",
   "metadata": {
    "slideshow": {
     "slide_type": "slide"
    }
   },
   "source": [
    "## OMGWTFBBQ"
   ]
  },
  {
   "cell_type": "code",
   "execution_count": null,
   "id": "ceb87cee-211f-473e-9f7d-64397e39b2e5",
   "metadata": {
    "slideshow": {
     "slide_type": "-"
    },
    "tags": []
   },
   "outputs": [],
   "source": [
    "[act \n",
    " for act in bd.Database('Mobility example')\n",
    " if act['name'] == 'Steel'\n",
    "][0]"
   ]
  },
  {
   "cell_type": "code",
   "execution_count": null,
   "id": "24a0de95-a0de-4796-b885-35deb937fac1",
   "metadata": {
    "slideshow": {
     "slide_type": "fragment"
    }
   },
   "outputs": [],
   "source": [
    "bd.get_node(database='Mobility example', code='Steel')"
   ]
  },
  {
   "cell_type": "markdown",
   "id": "dff7ebc4-c138-4c80-987b-d3fec17a4590",
   "metadata": {
    "slideshow": {
     "slide_type": "slide"
    }
   },
   "source": [
    "## Any attribute"
   ]
  },
  {
   "cell_type": "code",
   "execution_count": null,
   "id": "8410ec61-8488-4e2e-b00a-030074dc1fb1",
   "metadata": {
    "slideshow": {
     "slide_type": "-"
    }
   },
   "outputs": [],
   "source": [
    "steel = bd.get_node(name='Steel')\n",
    "steel['foo'] = 'bar'\n",
    "steel.save()"
   ]
  },
  {
   "cell_type": "code",
   "execution_count": null,
   "id": "51fcd0ff",
   "metadata": {},
   "outputs": [],
   "source": [
    "bd.get_node(foo='bar')"
   ]
  },
  {
   "cell_type": "code",
   "execution_count": null,
   "id": "0f90736c",
   "metadata": {
    "slideshow": {
     "slide_type": "-"
    }
   },
   "outputs": [],
   "source": [
    "bd.get_node(database='Mobility example', foo='bar')"
   ]
  },
  {
   "cell_type": "markdown",
   "id": "e80448bc-121b-4dec-8f70-7d40053040a1",
   "metadata": {
    "slideshow": {
     "slide_type": "slide"
    }
   },
   "source": [
    "## `get_node` returns only one node\n",
    "\n",
    "`bw2data.errors.UnknownObject` if no nodes can be found.\n",
    "\n",
    "`bw2data.errors.MultipleResults` if more than one node."
   ]
  },
  {
   "cell_type": "markdown",
   "id": "ad0c6485-35b9-4f24-b654-290870e6aafa",
   "metadata": {
    "slideshow": {
     "slide_type": "slide"
    }
   },
   "source": [
    "## `get_id` and the removal of `mapping`\n",
    "\n",
    "No more `mapping.pickle` file. `id` comes from the database and is preferred."
   ]
  },
  {
   "cell_type": "code",
   "execution_count": null,
   "id": "1b9306b1-a867-4758-9ec6-232de01fec4f",
   "metadata": {
    "slideshow": {
     "slide_type": "fragment"
    }
   },
   "outputs": [],
   "source": [
    "steel.id"
   ]
  },
  {
   "cell_type": "code",
   "execution_count": null,
   "id": "ee28a38a-ed6f-4c6f-96f9-409e47003570",
   "metadata": {
    "slideshow": {
     "slide_type": "fragment"
    }
   },
   "outputs": [],
   "source": [
    "bd.get_id(steel)"
   ]
  },
  {
   "cell_type": "code",
   "execution_count": null,
   "id": "412ba4f2",
   "metadata": {
    "slideshow": {
     "slide_type": "fragment"
    }
   },
   "outputs": [],
   "source": [
    "bd.mapping[steel.key]"
   ]
  },
  {
   "cell_type": "markdown",
   "id": "32ece4c1-2ecc-489b-af88-0bf5c4a46c61",
   "metadata": {
    "slideshow": {
     "slide_type": "slide"
    }
   },
   "source": [
    "## Let's write SQL\n",
    "\n",
    "`Node` table has columns for `code`, `database`, `location`, `name`, `product`, `type`."
   ]
  },
  {
   "cell_type": "code",
   "execution_count": null,
   "id": "9266328e-7fcf-4480-9971-d31f61dc4565",
   "metadata": {
    "slideshow": {
     "slide_type": "fragment"
    }
   },
   "outputs": [],
   "source": [
    "from bw2data.backends import ActivityDataset as AD\n",
    "AD.update(name=\"Wow, this is some car!\").where(AD.name == 'Combustion car').execute()"
   ]
  },
  {
   "cell_type": "code",
   "execution_count": null,
   "id": "579c63f7",
   "metadata": {
    "slideshow": {
     "slide_type": "-"
    }
   },
   "outputs": [],
   "source": [
    "bd.get_node(name=\"Wow, this is some car!\")"
   ]
  },
  {
   "cell_type": "markdown",
   "id": "0ee236ec-f2c5-4969-a24e-c4c8d9233f39",
   "metadata": {
    "slideshow": {
     "slide_type": "slide"
    }
   },
   "source": [
    "## `Activity` attribute lookups\n",
    "\n",
    "Make the world more magical. Boo:"
   ]
  },
  {
   "cell_type": "code",
   "execution_count": null,
   "id": "61735651-284c-492d-af60-9f077b32bac1",
   "metadata": {
    "slideshow": {
     "slide_type": "fragment"
    }
   },
   "outputs": [],
   "source": [
    "[value for key, value in steel['properties'].items() if key == 'carbon content'][0]"
   ]
  },
  {
   "cell_type": "markdown",
   "id": "08b8eb2b-0ec3-48cd-a5fe-a3e535fe607c",
   "metadata": {
    "slideshow": {
     "slide_type": "fragment"
    }
   },
   "source": [
    "Jawohl!"
   ]
  },
  {
   "cell_type": "code",
   "execution_count": null,
   "id": "62204845-7ca9-48c0-bfa4-6fbee050f464",
   "metadata": {
    "slideshow": {
     "slide_type": "-"
    }
   },
   "outputs": [],
   "source": [
    "steel['carbon content']"
   ]
  },
  {
   "cell_type": "code",
   "execution_count": null,
   "id": "f8449bf3-0e54-4909-b971-6f970288d597",
   "metadata": {
    "slideshow": {
     "slide_type": "-"
    }
   },
   "outputs": [],
   "source": [
    "steel['ISIC']"
   ]
  },
  {
   "cell_type": "markdown",
   "id": "56134377-d1d8-462d-acea-01d837e1c7be",
   "metadata": {
    "slideshow": {
     "slide_type": "slide"
    }
   },
   "source": [
    "## Reference products\n",
    "\n",
    "No!!"
   ]
  },
  {
   "cell_type": "code",
   "execution_count": null,
   "id": "38b7320c-e995-4d9f-8b2b-65e2ecf05b47",
   "metadata": {
    "slideshow": {
     "slide_type": "-"
    }
   },
   "outputs": [],
   "source": [
    "[exc for exc in steel.exchanges() if exc['type'] == 'production'][0]"
   ]
  },
  {
   "cell_type": "markdown",
   "id": "bd61f2ab-449f-4750-ba92-daa74b13ce98",
   "metadata": {
    "slideshow": {
     "slide_type": "fragment"
    }
   },
   "source": [
    "Yes!!"
   ]
  },
  {
   "cell_type": "code",
   "execution_count": null,
   "id": "5b8e48b7",
   "metadata": {
    "slideshow": {
     "slide_type": "-"
    }
   },
   "outputs": [],
   "source": [
    "steel.rp_exchange()"
   ]
  },
  {
   "cell_type": "markdown",
   "id": "942a5ab0",
   "metadata": {
    "slideshow": {
     "slide_type": "slide"
    }
   },
   "source": [
    "Double yes!!"
   ]
  },
  {
   "cell_type": "code",
   "execution_count": null,
   "id": "41076a12-2e0c-411e-8546-ef42e304de3c",
   "metadata": {
    "slideshow": {
     "slide_type": "-"
    }
   },
   "outputs": [],
   "source": [
    "exc = steel.rp_exchange()\n",
    "exc['properties'] = {'iron content': 0.98}\n",
    "exc.save()"
   ]
  },
  {
   "cell_type": "code",
   "execution_count": null,
   "id": "8813ff6f-73f0-4c4a-a1d0-2823d80d0a32",
   "metadata": {
    "slideshow": {
     "slide_type": "fragment"
    }
   },
   "outputs": [],
   "source": [
    "steel['iron content']"
   ]
  },
  {
   "cell_type": "markdown",
   "id": "0c3304ea-c2ad-49af-b6f9-d58f082e6ef7",
   "metadata": {
    "slideshow": {
     "slide_type": "slide"
    }
   },
   "source": [
    "## Filepaths are instances of `pathlib.Path`\n",
    "\n",
    "`Path` objects are [pretty great](https://treyhunner.com/2018/12/why-you-should-be-using-pathlib/), you should [use them](https://docs.python.org/3/library/pathlib.html)."
   ]
  },
  {
   "cell_type": "code",
   "execution_count": null,
   "id": "9528def7-5260-4ba7-9b36-6fd4b9d01551",
   "metadata": {
    "slideshow": {
     "slide_type": "-"
    }
   },
   "outputs": [],
   "source": [
    "type(bd.projects.dir), type(bd.projects.logs_dir)"
   ]
  },
  {
   "cell_type": "code",
   "execution_count": null,
   "id": "19fee1c8",
   "metadata": {
    "slideshow": {
     "slide_type": "fragment"
    }
   },
   "outputs": [],
   "source": [
    "mobility.dirpath_processed() / \"filename.zip\""
   ]
  },
  {
   "cell_type": "markdown",
   "id": "62231350-4511-4ccb-9222-b14e59a6351f",
   "metadata": {
    "slideshow": {
     "slide_type": "slide"
    }
   },
   "source": [
    "## Easier access to `Datapackages`\n",
    "\n",
    "This guy is dumb!"
   ]
  },
  {
   "cell_type": "code",
   "execution_count": null,
   "id": "991ca2f0-913d-4ac1-a7f2-7f36646d0a89",
   "metadata": {
    "slideshow": {
     "slide_type": "-"
    }
   },
   "outputs": [],
   "source": [
    "from fs.zipfs import ZipFS\n",
    "import bw_processing as bwp\n",
    "\n",
    "bwp.load_datapackage(ZipFS(mobility.filepath_processed()))"
   ]
  },
  {
   "cell_type": "markdown",
   "id": "ab2c81e0",
   "metadata": {
    "slideshow": {
     "slide_type": "fragment"
    }
   },
   "source": [
    "That's better..."
   ]
  },
  {
   "cell_type": "code",
   "execution_count": null,
   "id": "90c2cf8c",
   "metadata": {
    "slideshow": {
     "slide_type": "-"
    }
   },
   "outputs": [],
   "source": [
    "mobility.datapackage()"
   ]
  },
  {
   "cell_type": "markdown",
   "id": "c83d2655-37b7-47b2-bfd7-39c4f97e19bf",
   "metadata": {
    "slideshow": {
     "slide_type": "slide"
    }
   },
   "source": [
    "## IOTable improvements\n",
    "\n",
    "Not yet released - not in conference notebook  `¯\\_(ツ)_/¯`"
   ]
  },
  {
   "cell_type": "code",
   "execution_count": null,
   "id": "050d7a68",
   "metadata": {
    "slideshow": {
     "slide_type": "-"
    }
   },
   "outputs": [],
   "source": [
    "act = exiobase.random()\n",
    "act"
   ]
  },
  {
   "cell_type": "code",
   "execution_count": null,
   "id": "76415ad7",
   "metadata": {
    "slideshow": {
     "slide_type": "slide"
    }
   },
   "outputs": [],
   "source": [
    "for exc, _ in zip(act.technosphere(), range(10)):\n",
    "    print(exc)"
   ]
  },
  {
   "cell_type": "markdown",
   "id": "a08c169b-9e6c-42a9-a136-fdf2146d24b3",
   "metadata": {
    "slideshow": {
     "slide_type": "slide"
    }
   },
   "source": [
    "## Brightway ❤️ Pandas"
   ]
  },
  {
   "cell_type": "code",
   "execution_count": null,
   "id": "294ac408-2f0d-4668-8399-2691b380f66b",
   "metadata": {
    "slideshow": {
     "slide_type": "slide"
    }
   },
   "outputs": [],
   "source": [
    "df = bd.Database(\"US EEIO 1.1\").nodes_to_dataframe()\n",
    "df"
   ]
  },
  {
   "cell_type": "code",
   "execution_count": null,
   "id": "f48b0923-f138-4495-bbb7-481b73476ac8",
   "metadata": {
    "slideshow": {
     "slide_type": "slide"
    }
   },
   "outputs": [],
   "source": [
    "df = bd.Database(\"US EEIO 1.1\").edges_to_dataframe()\n",
    "df"
   ]
  },
  {
   "cell_type": "markdown",
   "id": "5aaeea43",
   "metadata": {
    "slideshow": {
     "slide_type": "slide"
    }
   },
   "source": [
    "# Moar columnzzz???"
   ]
  },
  {
   "cell_type": "code",
   "execution_count": null,
   "id": "e789bcd1-c784-4cad-98f3-dada6e01b44b",
   "metadata": {
    "slideshow": {
     "slide_type": "-"
    }
   },
   "outputs": [],
   "source": [
    "def remove_target_database(node, edge, row):\n",
    "    del row['target_database']\n",
    "    \n",
    "def food_sector(node, edge, row):\n",
    "    row['is_food'] = 'food' in edge['name'].lower()"
   ]
  },
  {
   "cell_type": "code",
   "execution_count": null,
   "id": "c21f9a18-d2d1-4094-aa20-8dcfc7890bb0",
   "metadata": {
    "slideshow": {
     "slide_type": "slide"
    }
   },
   "outputs": [],
   "source": [
    "df = bd.Database(\"US EEIO 1.1\").edges_to_dataframe(formatters=[remove_target_database, food_sector])\n",
    "df"
   ]
  },
  {
   "cell_type": "code",
   "execution_count": null,
   "id": "ebcbb0dc-5912-424b-8ffb-150e6c40ad39",
   "metadata": {
    "slideshow": {
     "slide_type": "slide"
    }
   },
   "outputs": [],
   "source": [
    "exiobase.nodes_to_dataframe()"
   ]
  },
  {
   "cell_type": "code",
   "execution_count": null,
   "id": "333df1a0",
   "metadata": {
    "slideshow": {
     "slide_type": "slide"
    }
   },
   "outputs": [],
   "source": [
    "exiobase.edges_to_dataframe()"
   ]
  },
  {
   "cell_type": "markdown",
   "id": "1d05a256-ddba-414e-a70a-1810709c70f0",
   "metadata": {
    "slideshow": {
     "slide_type": "slide"
    }
   },
   "source": [
    "We can also get a dataframe of the edges for a specific node. Here we get all edges, but you can filter this further with the edge constructors `.production()`, `.technosphere()`, and `.biosphere()`."
   ]
  },
  {
   "cell_type": "code",
   "execution_count": null,
   "id": "6d6b7ed9-607d-4be5-8a47-5534a858e3a5",
   "metadata": {
    "slideshow": {
     "slide_type": "fragment"
    }
   },
   "outputs": [],
   "source": [
    "df = activity.technosphere().to_dataframe()\n",
    "df"
   ]
  },
  {
   "cell_type": "markdown",
   "id": "cbaea953",
   "metadata": {
    "slideshow": {
     "slide_type": "slide"
    }
   },
   "source": [
    "## I can haz LCA?"
   ]
  },
  {
   "cell_type": "code",
   "execution_count": null,
   "id": "201937d0-6f99-4022-ac2d-2d636ad68507",
   "metadata": {
    "slideshow": {
     "slide_type": "-"
    }
   },
   "outputs": [],
   "source": [
    "lca = bc.LCA({product: 1}, method=('Impact Potential', 'HRSP'))\n",
    "lca.lci()\n",
    "lca.lcia()\n",
    "lca.to_dataframe()"
   ]
  },
  {
   "cell_type": "code",
   "execution_count": null,
   "id": "8044958c-bb8d-4db6-9cdb-e8b0d4608edb",
   "metadata": {
    "slideshow": {
     "slide_type": "slide"
    }
   },
   "outputs": [],
   "source": [
    "lca.to_dataframe(matrix_label='biosphere_matrix')"
   ]
  },
  {
   "cell_type": "markdown",
   "id": "fc2ae71b-9f9b-49c8-b105-90dbbded9d11",
   "metadata": {
    "slideshow": {
     "slide_type": "slide"
    }
   },
   "source": [
    "# bw2calc\n",
    "\n",
    "## Specify `data_objs` and new functional unit\n",
    "\n",
    "The new calling convention is therefore functional unit **with the IDs for the nodes** and **datapackages as `data_objs`**. Here is an example:"
   ]
  },
  {
   "cell_type": "code",
   "execution_count": null,
   "id": "aa526faa-835a-4bea-9da4-7765510122ed",
   "metadata": {
    "slideshow": {
     "slide_type": "-"
    }
   },
   "outputs": [],
   "source": [
    "database_dp = bd.Database(\"US EEIO 1.1\").datapackage()\n",
    "lcia_dp = bd.Method(('Impact Potential', 'HC')).datapackage()"
   ]
  },
  {
   "cell_type": "code",
   "execution_count": null,
   "id": "85afb641-bcdc-41fd-8834-a406a6fc2ffa",
   "metadata": {
    "slideshow": {
     "slide_type": "slide"
    }
   },
   "outputs": [],
   "source": [
    "lca = bc.LCA({product.id: 1}, data_objs=[database_dp, lcia_dp])\n",
    "lca.lci()\n",
    "lca.lcia()\n",
    "lca.score"
   ]
  },
  {
   "cell_type": "markdown",
   "id": "bfadaeab-49cb-443f-a822-56d823a9a5c1",
   "metadata": {
    "slideshow": {
     "slide_type": "skip"
    }
   },
   "source": [
    "The old calling convention will still work, but only if you have `bw2data` installed, the correct project selected, etc."
   ]
  },
  {
   "cell_type": "markdown",
   "id": "30bf2f82-0d4b-416a-82fe-d99639aa4bb8",
   "metadata": {
    "slideshow": {
     "slide_type": "slide"
    }
   },
   "source": [
    "## `bw2data.prepare_lca_inputs`\n",
    "\n",
    "If you don't want to remember the new calling convention, you can use a helper function: `bw2data.prepare_lca_inputs`. It will return three things: A new demand dictionary, the datapackages, and (if `remapping=True`, the default) dictionaries to allow you to map matrix indices back to Brightway (database, code) keys."
   ]
  },
  {
   "cell_type": "code",
   "execution_count": null,
   "id": "56f8ad0d-4b89-41c6-9210-e49f07586092",
   "metadata": {
    "slideshow": {
     "slide_type": "slide"
    }
   },
   "outputs": [],
   "source": [
    "fu, dps, remapping = bd.prepare_lca_inputs({bd.get_node(name='Steel'): 1}, ('IPCC', 'simple'))"
   ]
  },
  {
   "cell_type": "code",
   "execution_count": null,
   "id": "59370fd9-c6e1-48d2-90b9-9225d205fba5",
   "metadata": {
    "slideshow": {
     "slide_type": "-"
    }
   },
   "outputs": [],
   "source": [
    "fu"
   ]
  },
  {
   "cell_type": "code",
   "execution_count": null,
   "id": "e6fe0a6d-0c7f-4280-b406-429958439fa2",
   "metadata": {
    "slideshow": {
     "slide_type": "-"
    }
   },
   "outputs": [],
   "source": [
    "dps"
   ]
  },
  {
   "cell_type": "code",
   "execution_count": null,
   "id": "b5bf4697-a874-498c-9861-5fbf74e32696",
   "metadata": {
    "slideshow": {
     "slide_type": "slide"
    }
   },
   "outputs": [],
   "source": [
    "remapping"
   ]
  },
  {
   "cell_type": "markdown",
   "id": "b44b1539-ff6d-404c-a984-3e32e011d444",
   "metadata": {
    "slideshow": {
     "slide_type": "slide"
    }
   },
   "source": [
    "## No automatic remapping\n",
    "\n",
    "Previously, `bw2calc.LCA` would automatically change the integer values given in `bw2data.mapping` to keys. This is no longer the case, as we assume normal behaviour in the future is to prefer node IDs to keys, and also don't have any guarantees on whether `bw2data` is available. Therefore, **you need to call LCA.remap_inventory_dicts() manually**."
   ]
  },
  {
   "cell_type": "code",
   "execution_count": null,
   "id": "008bc910-bf1a-45f1-bf5e-12ddd0c01db4",
   "metadata": {
    "slideshow": {
     "slide_type": "slide"
    }
   },
   "outputs": [],
   "source": [
    "lca = bc.LCA(demand=fu, data_objs=dps, remapping_dicts=remapping)\n",
    "lca.lci()\n",
    "lca.lcia()"
   ]
  },
  {
   "cell_type": "code",
   "execution_count": null,
   "id": "e686f32f-9e6a-48e1-a0b9-03a1307e4484",
   "metadata": {
    "slideshow": {
     "slide_type": "-"
    }
   },
   "outputs": [],
   "source": [
    "lca.demand"
   ]
  },
  {
   "cell_type": "code",
   "execution_count": null,
   "id": "bb677f9d-3481-450f-9063-81f93be1044e",
   "metadata": {
    "slideshow": {
     "slide_type": "-"
    }
   },
   "outputs": [],
   "source": [
    "lca.remap_inventory_dicts()"
   ]
  },
  {
   "cell_type": "code",
   "execution_count": null,
   "id": "8cc11aff-9d63-425b-860a-4614786bc147",
   "metadata": {
    "slideshow": {
     "slide_type": "-"
    }
   },
   "outputs": [],
   "source": [
    "lca.demand"
   ]
  },
  {
   "cell_type": "markdown",
   "id": "651274c3-7536-4aa1-baa3-28a93420a884",
   "metadata": {
    "slideshow": {
     "slide_type": "slide"
    }
   },
   "source": [
    "## `.redo_lci` ➡️ `.lci`, `.redo_lcia` ➡️ `.lcia`\n",
    "\n",
    "The preferred way to do additional LCI or LCIA calculations has changed, and has been simplified to the same way we do an initial caluculation, namely with `.lci(new_demand_dict)` and `.lcia(new_demand_dict)`."
   ]
  },
  {
   "cell_type": "code",
   "execution_count": null,
   "id": "55e4e73b-bf4b-4fe7-9660-2c74d3b45311",
   "metadata": {
    "slideshow": {
     "slide_type": "fragment"
    }
   },
   "outputs": [],
   "source": [
    "lca = bc.LCA(demand=fu, data_objs=dps)\n",
    "lca.lci()\n",
    "lca.lcia()\n",
    "\n",
    "for act in [\n",
    "    bd.get_node(name='Driving an combustion car'),\n",
    "    bd.get_node(name='Driving an electric car'), \n",
    "]:\n",
    "    lca.lcia({act.id: 1})\n",
    "    print(lca.score, act)"
   ]
  },
  {
   "cell_type": "markdown",
   "id": "a6d7fc74-41ac-47fc-9f50-37640fe00608",
   "metadata": {
    "slideshow": {
     "slide_type": "slide"
    }
   },
   "source": [
    "## `LCA` object can now do Monte Carlo\n",
    "\n",
    "`MonteCarloLCA` ➡️ `LCA(..., use_distributions=True)`"
   ]
  },
  {
   "cell_type": "code",
   "execution_count": null,
   "id": "41aab3f1-c40d-4647-9c96-4bed50a418a8",
   "metadata": {
    "slideshow": {
     "slide_type": "slide"
    }
   },
   "outputs": [],
   "source": [
    "lca = bc.LCA(\n",
    "    demand={bd.get_node(name='Driving an electric car'): 1}, \n",
    "    method=('IPCC', 'uncertain'),\n",
    "    use_distributions=True\n",
    ")\n",
    "lca.lci()\n",
    "lca.lcia()\n",
    "\n",
    "for _ in zip(range(10), lca):\n",
    "    print(lca.score)"
   ]
  },
  {
   "cell_type": "markdown",
   "id": "9018d1b4-77d0-41d0-b46d-8eb619f67291",
   "metadata": {
    "slideshow": {
     "slide_type": "slide"
    }
   },
   "source": [
    "### `keep_first_iteration`\n",
    "\n",
    "Sometimes you want to keep the values sampled when you set up the LCA object, instead of getting the next value in a sequence when you start iterating over Monte Carlo results. In this case, just call `.keep_first_iteration` and it will skip the first iteration step."
   ]
  },
  {
   "cell_type": "code",
   "execution_count": null,
   "id": "fc94b3fb-645f-44ed-b3fc-e3a0d2ae4d9d",
   "metadata": {
    "slideshow": {
     "slide_type": "slide"
    }
   },
   "outputs": [],
   "source": [
    "lca = bc.LCA(\n",
    "    demand={bd.get_node(name='Driving an electric car'): 1}, \n",
    "    method=('IPCC', 'uncertain'),\n",
    "    use_distributions=True\n",
    ")\n",
    "lca.lci()\n",
    "lca.lcia()\n",
    "lca.keep_first_iteration()\n",
    "print(\"Score after setup:\", lca.score)\n",
    "\n",
    "for _ in zip(range(4), lca):\n",
    "    print(\"In loop:\", lca.score)"
   ]
  },
  {
   "cell_type": "markdown",
   "id": "750c99cb-ce90-4972-8ddd-3193f571579d",
   "metadata": {
    "slideshow": {
     "slide_type": "slide"
    }
   },
   "source": [
    "## New `.dicts` accessor\n",
    "\n",
    "The old methods still work (well, they will in the next dev release :), but the preferred way is to do the following:"
   ]
  },
  {
   "cell_type": "code",
   "execution_count": null,
   "id": "d3f1fb5f-3fd9-4b63-84ef-90bd3bc11b7c",
   "metadata": {
    "slideshow": {
     "slide_type": "-"
    }
   },
   "outputs": [],
   "source": [
    "lca = bc.LCA({product: 1})\n",
    "lca.lci()"
   ]
  },
  {
   "cell_type": "markdown",
   "id": "8ad98e44-9a53-46d0-87b2-e03e0fbd8e70",
   "metadata": {
    "slideshow": {
     "slide_type": "slide"
    }
   },
   "source": [
    "To matrix index:"
   ]
  },
  {
   "cell_type": "code",
   "execution_count": null,
   "id": "59a99220-5ff4-4e3c-bad6-20fda9e5d405",
   "metadata": {
    "slideshow": {
     "slide_type": "-"
    }
   },
   "outputs": [],
   "source": [
    "act_matrix = lca.dicts.activity[activity.id]\n",
    "act_matrix"
   ]
  },
  {
   "cell_type": "markdown",
   "id": "fe524789-9eaa-4c52-948e-a0d517de1191",
   "metadata": {
    "slideshow": {
     "slide_type": "-"
    }
   },
   "source": [
    "To database ID:"
   ]
  },
  {
   "cell_type": "code",
   "execution_count": null,
   "id": "81dc1579-5831-489d-ba06-2d1e39b71277",
   "metadata": {
    "slideshow": {
     "slide_type": "-"
    }
   },
   "outputs": [],
   "source": [
    "lca.dicts.activity.reversed[act_matrix], activity.id"
   ]
  },
  {
   "cell_type": "markdown",
   "id": "a75bda9b-116a-408d-af08-e2af61178ab1",
   "metadata": {
    "slideshow": {
     "slide_type": "slide"
    }
   },
   "source": [
    "And the same for products and biosphere flows:"
   ]
  },
  {
   "cell_type": "code",
   "execution_count": null,
   "id": "631bb320-5f2b-4ecc-a579-0d2c3f9abdd1",
   "metadata": {
    "slideshow": {
     "slide_type": "-"
    }
   },
   "outputs": [],
   "source": [
    "lca.dicts.product[product.id], lca.dicts.biosphere[emission.id]"
   ]
  },
  {
   "cell_type": "markdown",
   "id": "4a028664",
   "metadata": {
    "slideshow": {
     "slide_type": "slide"
    }
   },
   "source": [
    "# What's coming?\n",
    "\n",
    "## Easier IO\n",
    "\n",
    "* `bw2io.useeio()`: In production\n",
    "* `bw2io.exiobase_monetary()`: In development branch\n",
    "* `bw2io.ecoinvent()`: Hackathon?"
   ]
  },
  {
   "cell_type": "markdown",
   "id": "700d1541",
   "metadata": {
    "slideshow": {
     "slide_type": "slide"
    }
   },
   "source": [
    "## SimaPro 🤝 ecoinvent\n",
    "\n",
    "https://github.com/brightway-lca/simapro_ecoinvent_elementary_flows"
   ]
  },
  {
   "cell_type": "markdown",
   "id": "0cf0abad",
   "metadata": {
    "slideshow": {
     "slide_type": "slide"
    }
   },
   "source": [
    "## Brightway 3\n",
    "\n",
    "[Brightway 3 strategic plan](https://github.com/brightway-lca/enhancement-proposals/blob/main/Brightway%20strategic%20development%20plan.md)"
   ]
  },
  {
   "cell_type": "markdown",
   "id": "624ce116",
   "metadata": {
    "slideshow": {
     "slide_type": "slide"
    }
   },
   "source": [
    "## What's all this then? \n",
    "\n",
    "Cauldron? DdS? Brightway?"
   ]
  }
 ],
 "metadata": {
  "celltoolbar": "Slideshow",
  "kernelspec": {
   "display_name": "Python 3 (ipykernel)",
   "language": "python",
   "name": "python3"
  },
  "language_info": {
   "codemirror_mode": {
    "name": "ipython",
    "version": 3
   },
   "file_extension": ".py",
   "mimetype": "text/x-python",
   "name": "python",
   "nbconvert_exporter": "python",
   "pygments_lexer": "ipython3",
   "version": "3.10.6"
  }
 },
 "nbformat": 4,
 "nbformat_minor": 5
}
