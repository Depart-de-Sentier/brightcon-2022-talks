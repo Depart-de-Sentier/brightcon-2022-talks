{
 "cells": [
  {
   "cell_type": "markdown",
   "id": "036e56ae-2338-44bf-a326-8e2b32a99aec",
   "metadata": {},
   "source": [
    "**Conference Notebook Kernel: `bw25`**"
   ]
  },
  {
   "cell_type": "markdown",
   "id": "9ea6403f-e6d5-4794-b9c8-4878df5448c9",
   "metadata": {},
   "source": [
    "# Using correlated time-series from `ENTSO-E transparency platform`\n",
    "\n",
    "This data has been preprocessed using code from [akula](https://github.com/aleksandra-kim/akula/). We will work directly with datapackages."
   ]
  },
  {
   "cell_type": "code",
   "execution_count": null,
   "id": "678f8c2b-cc7f-4861-be71-16fd5b36df2e",
   "metadata": {},
   "outputs": [],
   "source": [
    "from fs.zipfs import ZipFS\n",
    "from tqdm import tqdm\n",
    "import pandas as pd\n",
    "import bw_processing as bwp\n",
    "import bw2calc as bc\n",
    "import seaborn as sb\n",
    "import numpy as np"
   ]
  },
  {
   "cell_type": "markdown",
   "id": "32cdddef-741b-477e-abd2-60d0f4cb099d",
   "metadata": {},
   "source": [
    "Our functional unit is 1 kWh of low-voltage electricity from Switzerland"
   ]
  },
  {
   "cell_type": "code",
   "execution_count": null,
   "id": "b187dd3d-5de9-4e36-b13f-def841a18a71",
   "metadata": {},
   "outputs": [],
   "source": [
    "fu = {5204: 1}"
   ]
  },
  {
   "cell_type": "markdown",
   "id": "4d57bf36-cb22-4043-b869-f144abee4237",
   "metadata": {},
   "source": [
    "The datapackages are already prepared on the server"
   ]
  },
  {
   "cell_type": "code",
   "execution_count": null,
   "id": "0a61f2bf-8c05-4040-84d5-aeee291242d5",
   "metadata": {},
   "outputs": [],
   "source": [
    "data_objs = [\n",
    "    bwp.load_datapackage(ZipFS(\"/srv/data/entso/biosphere3.5d405d71.zip\")),\n",
    "    bwp.load_datapackage(ZipFS(\"/srv/data/entso/ecoinvent-38-cutoff.676d1727.zip\")),\n",
    "    bwp.load_datapackage(ZipFS(\"/srv/data/entso/Swiss-residual-electricity-mix.1c9d19b3.zip\")),\n",
    "    bwp.load_datapackage(ZipFS(\"/srv/data/entso/ipcc-2013cg.bd5af3f67229a1cc291b8ecb7f316fcf.zip\")),\n",
    "    bwp.load_datapackage(ZipFS(\"/srv/data/entso/entso-timeseries-2021.zip\")),\n",
    "]"
   ]
  },
  {
   "cell_type": "markdown",
   "id": "0c1ed851-d8f2-41da-84b1-09e55cb0693e",
   "metadata": {},
   "source": [
    "First, make calculations without the time-series data:"
   ]
  },
  {
   "cell_type": "code",
   "execution_count": null,
   "id": "7a849392-ff88-4778-ab82-a1e84bff41d1",
   "metadata": {},
   "outputs": [],
   "source": [
    "lca = bc.LCA(\n",
    "    demand=fu,\n",
    "    data_objs=data_objs,\n",
    "    use_distributions=True,\n",
    "    use_arrays=False\n",
    ")\n",
    "lca.lci()\n",
    "lca.lcia()\n",
    "\n",
    "no_corr = np.array([lca.score for _ in zip(range(20), lca)])"
   ]
  },
  {
   "cell_type": "markdown",
   "id": "05586878-8197-4d76-a0bc-3bf3b226636c",
   "metadata": {},
   "source": [
    "Then use the ENTSO data as well (`use_arrays=True`)"
   ]
  },
  {
   "cell_type": "code",
   "execution_count": null,
   "id": "bfd2c701-2c28-43b3-95bf-ef346f91e001",
   "metadata": {},
   "outputs": [],
   "source": [
    "lca = bc.LCA(\n",
    "    demand=fu,\n",
    "    data_objs=data_objs,\n",
    "    use_distributions=True,\n",
    "    use_arrays=True\n",
    ")\n",
    "lca.lci()\n",
    "lca.lcia()\n",
    "\n",
    "with_corr = np.array([lca.score for _ in zip(range(20), lca)])"
   ]
  },
  {
   "cell_type": "markdown",
   "id": "36659f27-29da-4a99-bc73-d53d30676482",
   "metadata": {},
   "source": [
    "The differences are dignificant:"
   ]
  },
  {
   "cell_type": "code",
   "execution_count": null,
   "id": "e097110e-7e2b-4935-a754-c9500aa01e1e",
   "metadata": {},
   "outputs": [],
   "source": [
    "sb.histplot(pd.DataFrame({'Uncorrelated': no_corr, 'Time series': with_corr}), kde=True, bins=5)"
   ]
  },
  {
   "cell_type": "markdown",
   "id": "c9c69070-e1ab-41ad-aef6-c9354605fe8f",
   "metadata": {},
   "source": [
    "## Next steps\n",
    "\n",
    "* Could only take data from day or night - time series data is hourly and starts at midnight 2021, need custom indexer\n",
    "* Could differentiate by season - custom indexer\n",
    "* Could look at 2022 - need to get ENTSO data"
   ]
  }
 ],
 "metadata": {
  "kernelspec": {
   "display_name": "Python [conda env:bw25]",
   "language": "python",
   "name": "conda-env-bw25-py"
  },
  "language_info": {
   "codemirror_mode": {
    "name": "ipython",
    "version": 3
   },
   "file_extension": ".py",
   "mimetype": "text/x-python",
   "name": "python",
   "nbconvert_exporter": "python",
   "pygments_lexer": "ipython3",
   "version": "3.10.6"
  }
 },
 "nbformat": 4,
 "nbformat_minor": 5
}
