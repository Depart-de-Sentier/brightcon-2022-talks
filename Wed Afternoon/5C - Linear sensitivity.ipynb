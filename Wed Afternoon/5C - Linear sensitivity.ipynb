{
 "cells": [
  {
   "cell_type": "code",
   "execution_count": 74,
   "id": "88456e8e-9a39-4e98-b1a8-7ef1b6c0f5eb",
   "metadata": {},
   "outputs": [],
   "source": [
    "import bw2data as bd\n",
    "import bw2calc as bc\n",
    "import numpy as np\n",
    "from tqdm import tqdm\n",
    "from scipy.stats import spearmanr\n",
    "import math"
   ]
  },
  {
   "cell_type": "code",
   "execution_count": 2,
   "id": "195cd276-ba6f-46b7-8f91-f3141f6f276e",
   "metadata": {},
   "outputs": [
    {
     "data": {
      "text/plain": [
       "Brightway2 projects manager with 9 objects:\n",
       "\tLC IMPACT case study\n",
       "\tSanofi\n",
       "\tUSEEIO example\n",
       "\tbarca 2022\n",
       "\tdefault\n",
       "\tmichael question\n",
       "\tspreadsheet\n",
       "\tsupply chain graph\n",
       "\tsupply chain graph 3\n",
       "Use `projects.report()` to get a report on all projects."
      ]
     },
     "execution_count": 2,
     "metadata": {},
     "output_type": "execute_result"
    }
   ],
   "source": [
    "bd.projects"
   ]
  },
  {
   "cell_type": "code",
   "execution_count": 3,
   "id": "b9efb489-e8f0-4578-ad1c-1d40f110cdd5",
   "metadata": {},
   "outputs": [],
   "source": [
    "bd.projects.set_current(\"LC IMPACT case study\")"
   ]
  },
  {
   "cell_type": "code",
   "execution_count": 6,
   "id": "16095098-8d33-499b-a254-1407bc352d61",
   "metadata": {},
   "outputs": [],
   "source": [
    "gwp = ('LC-IMPACT', 'Climate Change', 'Human Health', 'Marginal', 'All', 'Infinite')"
   ]
  },
  {
   "cell_type": "code",
   "execution_count": 8,
   "id": "e868e9f9-2d97-4cc5-9a4c-35f23301aace",
   "metadata": {},
   "outputs": [
    {
     "data": {
      "text/plain": [
       "'market for chloroacetic acid' (kilogram, ('ecoinvent', 'RER'), None)"
      ]
     },
     "execution_count": 8,
     "metadata": {},
     "output_type": "execute_result"
    }
   ],
   "source": [
    "act = bd.Database(\"ecoinvent\").random()\n",
    "act"
   ]
  },
  {
   "cell_type": "code",
   "execution_count": 12,
   "id": "29623d08-7c69-45c0-a4b8-852a167ebfef",
   "metadata": {},
   "outputs": [
    {
     "data": {
      "text/plain": [
       "2.7581676354144805e-05"
      ]
     },
     "execution_count": 12,
     "metadata": {},
     "output_type": "execute_result"
    }
   ],
   "source": [
    "lca = bc.LCA({act: 1}, gwp, use_distributions=True)\n",
    "lca.lci()\n",
    "lca.lcia()\n",
    "lca.score"
   ]
  },
  {
   "cell_type": "code",
   "execution_count": 16,
   "id": "4b9e0967-c396-4ae4-a48f-221431112b56",
   "metadata": {},
   "outputs": [
    {
     "data": {
      "text/plain": [
       "(241507,)"
      ]
     },
     "execution_count": 16,
     "metadata": {},
     "output_type": "execute_result"
    }
   ],
   "source": [
    "lca.technosphere_mm.input_data_vector().shape"
   ]
  },
  {
   "cell_type": "code",
   "execution_count": 19,
   "id": "ee460543-aa0b-4fe8-ae95-05ea141b00b0",
   "metadata": {},
   "outputs": [
    {
     "data": {
      "text/plain": [
       "(241507,)"
      ]
     },
     "execution_count": 19,
     "metadata": {},
     "output_type": "execute_result"
    }
   ],
   "source": [
    "lca.technosphere_mm.input_row_col_indices().shape"
   ]
  },
  {
   "cell_type": "code",
   "execution_count": 54,
   "id": "b8b43a22-59f4-4ec2-a691-180fc56ffe72",
   "metadata": {},
   "outputs": [],
   "source": [
    "def draw_samples(lca, samples=50):\n",
    "    data = np.zeros((samples, len(lca.technosphere_mm.input_data_vector())))\n",
    "    scores = np.zeros((samples,))\n",
    "    \n",
    "    for i, _ in tqdm(zip(range(samples), lca)):\n",
    "        data[i, :] = lca.technosphere_mm.input_data_vector()\n",
    "        scores[i] = lca.score\n",
    "        \n",
    "    return data, scores"
   ]
  },
  {
   "cell_type": "code",
   "execution_count": 55,
   "id": "e3601942-0072-45de-be2b-7e9f4cdf24ba",
   "metadata": {},
   "outputs": [
    {
     "name": "stderr",
     "output_type": "stream",
     "text": [
      "50it [00:35,  1.39it/s]\n"
     ]
    }
   ],
   "source": [
    "samples, scores = draw_samples(lca)"
   ]
  },
  {
   "cell_type": "code",
   "execution_count": 108,
   "id": "e6bfc162-2066-4772-bcc4-6c980e36a701",
   "metadata": {},
   "outputs": [],
   "source": [
    "def get_spearman_corr_coefficients(samples, scores, chunk_size=100):\n",
    "    all_same_mask = (np.diff(samples.T).sum(axis=1) != 0).T\n",
    "    samples_masked = samples[:, all_same_mask]\n",
    "    chunks = math.ceil(samples_masked.shape[1] / chunk_size)\n",
    "\n",
    "    corr = np.zeros_like(all_same_mask, dtype=float)\n",
    "    corr_masked = corr[all_same_mask]\n",
    "    \n",
    "    for i in tqdm(range(chunks)):\n",
    "        corr_masked[i * chunk_size:(i + 1) * chunk_size] = spearmanr(\n",
    "            samples_masked[:, i * chunk_size:(i + 1) * chunk_size], \n",
    "            scores\n",
    "        )[0][:-1, -1]\n",
    "    \n",
    "    corr[all_same_mask] = corr_masked\n",
    "    return corr"
   ]
  },
  {
   "cell_type": "code",
   "execution_count": 109,
   "id": "f0997263-fb5a-4829-8c11-ff1cb743cf35",
   "metadata": {},
   "outputs": [
    {
     "name": "stderr",
     "output_type": "stream",
     "text": [
      "100%|██████████| 1913/1913 [00:35<00:00, 53.40it/s]\n"
     ]
    }
   ],
   "source": [
    "corr = get_spearman_corr_coefficients(samples, scores)"
   ]
  },
  {
   "cell_type": "code",
   "execution_count": 129,
   "id": "dc6e664e-ad94-4ccb-9142-f00895da1f81",
   "metadata": {},
   "outputs": [],
   "source": [
    "def get_sensitive_exchanges(corr, lca, cutoff=25):\n",
    "    top_elems = lca.technosphere_mm.input_row_col_indices()[np.argsort(corr)][:cutoff]\n",
    "    top_elems_mapped = [(lca.dicts.product.reversed[x], lca.dicts.activity.reversed[y]) for x, y in top_elems]\n",
    "    \n",
    "    return [\n",
    "        (\n",
    "            score,\n",
    "            lca.technosphere_matrix[indices[0], indices[1]],\n",
    "            bd.get_node(id=row[0]),\n",
    "            bd.get_node(id=row[1]),\n",
    "            indices,\n",
    "            row,\n",
    "        )\n",
    "        for row, indices, score in zip(top_elems_mapped, top_elems, sorted(corr))\n",
    "    ]"
   ]
  },
  {
   "cell_type": "code",
   "execution_count": 131,
   "id": "4457e552-c69c-4283-8ab2-9accc2541dc5",
   "metadata": {},
   "outputs": [
    {
     "data": {
      "text/plain": [
       "[(-0.6358223289315726,\n",
       "  -0.5945356848790568,\n",
       "  'market for acetic acid, without water, in 98% solution state' (kilogram, GLO, None),\n",
       "  'chloroacetic acid production' (kilogram, ('ecoinvent', 'RER'), None),\n",
       "  (16120, 8109),\n",
       "  (20548, 12537)),\n",
       " (-0.5893397358943577,\n",
       "  -2.903356577719151e-05,\n",
       "  'market for glyphosate' (kilogram, GLO, None),\n",
       "  'orange production, fresh grade' (kilogram, ZA, None),\n",
       "  (2725, 3390),\n",
       "  (7153, 7818)),\n",
       " (-0.5684993997599038,\n",
       "  -204234.5270029679,\n",
       "  'market for waste asphalt' (kilogram, ('RoW', 'RoW_134'), None),\n",
       "  'infrastructure construction, for regional distribution of oil product' (unit, ('RoW', 'RoW_213'), None),\n",
       "  (7962, 16423),\n",
       "  (12390, 20851)),\n",
       " (-0.5545738295318128,\n",
       "  -1.4505546185755663e-05,\n",
       "  'market for inorganic potassium fertiliser, as K2O' (kilogram, CA, None),\n",
       "  'bamboo forestry, sustainable forest management' (kilogram, ('RoW', 'RoW_311'), None),\n",
       "  (4362, 4670),\n",
       "  (8790, 9098)),\n",
       " (-0.554093637454982,\n",
       "  -1.2661377107051052e-08,\n",
       "  'market for waste glass' (kilogram, IN, None),\n",
       "  'primary zinc production from concentrate' (kilogram, ('RoW', 'RoW_164'), None),\n",
       "  (3196, 5437),\n",
       "  (7624, 9865)),\n",
       " (-0.5476590636254501,\n",
       "  -0.03734650415300389,\n",
       "  'market for chemical, inorganic' (kilogram, GLO, None),\n",
       "  'uranium production, centrifuge, enriched 4.2%' (unit, ('RoW', 'RoW_169'), None),\n",
       "  (18499, 3022),\n",
       "  (22927, 7450)),\n",
       " (-0.5465066026410563,\n",
       "  -1.0837706989808238,\n",
       "  'market for compressed air, 700 kPa gauge' (cubic meter, ('RoW', 'RoW_213'), None),\n",
       "  'chromium steel turning, primarily roughing, computer numerical controlled' (kilogram, ('RoW', 'RoW_213'), None),\n",
       "  (12751, 10244),\n",
       "  (17179, 14672)),\n",
       " (-0.5462184873949579,\n",
       "  -0.011540877270499466,\n",
       "  'market group for electricity, medium voltage' (kilowatt hour, ('ecoinvent', 'Canada without Quebec'), None),\n",
       "  'extrusion, plastic pipes' (kilogram, ('RoW', 'RoW_126'), None),\n",
       "  (13559, 7121),\n",
       "  (17987, 11549)),\n",
       " (-0.5457382953181272,\n",
       "  -2.194684087592723e-05,\n",
       "  'market group for electricity, medium voltage' (kilowatt hour, ('ecoinvent', 'RAF'), None),\n",
       "  'tap water production, conventional with biological treatment' (kilogram, ('RoW', 'RoW_334'), None),\n",
       "  (11518, 5665),\n",
       "  (15946, 10093)),\n",
       " (-0.5416086434573829,\n",
       "  -9.99265941659598e-06,\n",
       "  'market for ammonia, anhydrous, liquid' (kilogram, ('ecoinvent', 'RLA'), None),\n",
       "  'wheat production' (kilogram, ('RoW', 'RoW_285'), None),\n",
       "  (15099, 4201),\n",
       "  (19527, 8629))]"
      ]
     },
     "execution_count": 131,
     "metadata": {},
     "output_type": "execute_result"
    }
   ],
   "source": [
    "get_sensitive_exchanges(corr, lca, 10)"
   ]
  }
 ],
 "metadata": {
  "kernelspec": {
   "display_name": "Python [conda env:bw25]",
   "language": "python",
   "name": "conda-env-bw25-py"
  },
  "language_info": {
   "codemirror_mode": {
    "name": "ipython",
    "version": 3
   },
   "file_extension": ".py",
   "mimetype": "text/x-python",
   "name": "python",
   "nbconvert_exporter": "python",
   "pygments_lexer": "ipython3",
   "version": "3.10.6"
  }
 },
 "nbformat": 4,
 "nbformat_minor": 5
}
