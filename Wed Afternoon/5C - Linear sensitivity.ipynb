{
 "cells": [
  {
   "cell_type": "markdown",
   "id": "cb971443-97c6-4fe9-b5b9-477a2771fddd",
   "metadata": {},
   "source": [
    "# Linear global sensitivity analysis\n",
    "\n",
    "When we don't include correlations, our systems are close to linear, and we can use simple correlation coefficients.\n",
    "\n",
    "## Basic setup"
   ]
  },
  {
   "cell_type": "code",
   "execution_count": 28,
   "id": "88456e8e-9a39-4e98-b1a8-7ef1b6c0f5eb",
   "metadata": {},
   "outputs": [],
   "source": [
    "import bw2data as bd\n",
    "import bw2calc as bc\n",
    "import bw2io as bi\n",
    "import bw2analyzer as ba\n",
    "import numpy as np\n",
    "from tqdm import tqdm\n",
    "from scipy.stats import spearmanr\n",
    "import math"
   ]
  },
  {
   "cell_type": "code",
   "execution_count": 2,
   "id": "3ea6084f-3dfe-415d-8eb2-5d9d3d462a2a",
   "metadata": {},
   "outputs": [],
   "source": [
    "if 'ei38-teaching-25' not in bd.projects:\n",
    "    bi.restore_project_directory(\"/srv/data/projects/ecoinvent38-25.tar.gz\")"
   ]
  },
  {
   "cell_type": "code",
   "execution_count": 3,
   "id": "b9efb489-e8f0-4578-ad1c-1d40f110cdd5",
   "metadata": {},
   "outputs": [],
   "source": [
    "bd.projects.set_current('ei38-teaching-25')"
   ]
  },
  {
   "cell_type": "code",
   "execution_count": 4,
   "id": "16095098-8d33-499b-a254-1407bc352d61",
   "metadata": {},
   "outputs": [],
   "source": [
    "gwp = ('IPCC 2013', 'climate change', 'GWP 100a')"
   ]
  },
  {
   "cell_type": "code",
   "execution_count": 9,
   "id": "e868e9f9-2d97-4cc5-9a4c-35f23301aace",
   "metadata": {},
   "outputs": [
    {
     "data": {
      "text/plain": [
       "'electricity production, oil' (kilowatt hour, CN-ZJ, None)"
      ]
     },
     "execution_count": 9,
     "metadata": {},
     "output_type": "execute_result"
    }
   ],
   "source": [
    "act = bd.Database(\"ei 3.8 cutoff\").random()\n",
    "act"
   ]
  },
  {
   "cell_type": "code",
   "execution_count": 20,
   "id": "fbdfc9e9-a5dc-49fe-a408-0d9853ebb482",
   "metadata": {},
   "outputs": [
    {
     "data": {
      "text/plain": [
       "20788"
      ]
     },
     "execution_count": 20,
     "metadata": {},
     "output_type": "execute_result"
    }
   ],
   "source": [
    "act.id"
   ]
  },
  {
   "cell_type": "markdown",
   "id": "0b0bf012-9e34-4c4d-b17e-47cdd22ab772",
   "metadata": {},
   "source": [
    "Set up `LCA` object"
   ]
  },
  {
   "cell_type": "code",
   "execution_count": 10,
   "id": "29623d08-7c69-45c0-a4b8-852a167ebfef",
   "metadata": {},
   "outputs": [
    {
     "data": {
      "text/plain": [
       "1.0437060736767432"
      ]
     },
     "execution_count": 10,
     "metadata": {},
     "output_type": "execute_result"
    }
   ],
   "source": [
    "lca = bc.LCA({act: 1}, gwp, use_distributions=True)\n",
    "lca.lci()\n",
    "lca.lcia()\n",
    "lca.score"
   ]
  },
  {
   "cell_type": "markdown",
   "id": "64771736-8678-46b8-9ffa-df2db3ed66b0",
   "metadata": {},
   "source": [
    "We have 240k parameters, of which ~200k are uncertain."
   ]
  },
  {
   "cell_type": "code",
   "execution_count": 11,
   "id": "4b9e0967-c396-4ae4-a48f-221431112b56",
   "metadata": {},
   "outputs": [
    {
     "data": {
      "text/plain": [
       "(241507,)"
      ]
     },
     "execution_count": 11,
     "metadata": {},
     "output_type": "execute_result"
    }
   ],
   "source": [
    "lca.technosphere_mm.input_data_vector().shape"
   ]
  },
  {
   "cell_type": "markdown",
   "id": "9de80e64-74cc-4725-a06c-c551ce2a1e3c",
   "metadata": {},
   "source": [
    "The row and column indices of the non-zero values in the technosphere:"
   ]
  },
  {
   "cell_type": "code",
   "execution_count": 12,
   "id": "ee460543-aa0b-4fe8-ae95-05ea141b00b0",
   "metadata": {},
   "outputs": [
    {
     "data": {
      "text/plain": [
       "(241507,)"
      ]
     },
     "execution_count": 12,
     "metadata": {},
     "output_type": "execute_result"
    }
   ],
   "source": [
    "lca.technosphere_mm.input_row_col_indices().shape"
   ]
  },
  {
   "cell_type": "markdown",
   "id": "73b731aa-ea8c-4522-9a53-baef4e9f4d7e",
   "metadata": {},
   "source": [
    "Generate an array of sampled values, and a vector of LCA scores"
   ]
  },
  {
   "cell_type": "code",
   "execution_count": 13,
   "id": "b8b43a22-59f4-4ec2-a691-180fc56ffe72",
   "metadata": {},
   "outputs": [],
   "source": [
    "def draw_samples(lca, samples=25):\n",
    "    data = np.zeros((samples, len(lca.technosphere_mm.input_data_vector())))\n",
    "    scores = np.zeros((samples,))\n",
    "    \n",
    "    for i, _ in tqdm(zip(range(samples), lca)):\n",
    "        data[i, :] = lca.technosphere_mm.input_data_vector()\n",
    "        scores[i] = lca.score\n",
    "        \n",
    "    return data, scores"
   ]
  },
  {
   "cell_type": "code",
   "execution_count": 14,
   "id": "e3601942-0072-45de-be2b-7e9f4cdf24ba",
   "metadata": {},
   "outputs": [
    {
     "name": "stderr",
     "output_type": "stream",
     "text": [
      "25it [00:18,  1.34it/s]\n"
     ]
    }
   ],
   "source": [
    "samples, scores = draw_samples(lca)"
   ]
  },
  {
   "cell_type": "markdown",
   "id": "529418dd-3a93-49d0-959f-599446b07662",
   "metadata": {},
   "source": [
    "Calculate Spearman rank order correlation between sample values and LCA scores.\n",
    "\n",
    "Uses a chunked algorithm so our servers don't combust."
   ]
  },
  {
   "cell_type": "code",
   "execution_count": 15,
   "id": "e6bfc162-2066-4772-bcc4-6c980e36a701",
   "metadata": {},
   "outputs": [],
   "source": [
    "def get_spearman_corr_coefficients(samples, scores, chunk_size=100):\n",
    "    all_same_mask = (np.diff(samples.T).sum(axis=1) != 0).T\n",
    "    samples_masked = samples[:, all_same_mask]\n",
    "    chunks = math.ceil(samples_masked.shape[1] / chunk_size)\n",
    "\n",
    "    corr = np.zeros_like(all_same_mask, dtype=float)\n",
    "    corr_masked = corr[all_same_mask]\n",
    "    \n",
    "    for i in tqdm(range(chunks)):\n",
    "        corr_masked[i * chunk_size:(i + 1) * chunk_size] = spearmanr(\n",
    "            samples_masked[:, i * chunk_size:(i + 1) * chunk_size], \n",
    "            scores\n",
    "        )[0][:-1, -1]\n",
    "    \n",
    "    corr[all_same_mask] = corr_masked\n",
    "    return corr"
   ]
  },
  {
   "cell_type": "code",
   "execution_count": 16,
   "id": "f0997263-fb5a-4829-8c11-ff1cb743cf35",
   "metadata": {},
   "outputs": [
    {
     "name": "stderr",
     "output_type": "stream",
     "text": [
      "100%|██████████| 1913/1913 [00:30<00:00, 62.49it/s]\n"
     ]
    }
   ],
   "source": [
    "corr = get_spearman_corr_coefficients(samples, scores)"
   ]
  },
  {
   "cell_type": "markdown",
   "id": "82f5e22d-b553-4472-a560-1fcd7dabd286",
   "metadata": {},
   "source": [
    "Display correlations in human-readable form"
   ]
  },
  {
   "cell_type": "code",
   "execution_count": 17,
   "id": "dc6e664e-ad94-4ccb-9142-f00895da1f81",
   "metadata": {},
   "outputs": [],
   "source": [
    "def get_sensitive_exchanges(corr, lca, cutoff=25):\n",
    "    top_elems = lca.technosphere_mm.input_row_col_indices()[np.argsort(corr)][:cutoff]\n",
    "    top_elems_mapped = [(lca.dicts.product.reversed[x], lca.dicts.activity.reversed[y]) for x, y in top_elems]\n",
    "    \n",
    "    return [\n",
    "        (\n",
    "            score,\n",
    "            # lca.technosphere_matrix[indices[0], indices[1]],\n",
    "            bd.get_node(id=row[0]),\n",
    "            bd.get_node(id=row[1]),\n",
    "            indices,\n",
    "            # row,\n",
    "        )\n",
    "        for row, indices, score in zip(top_elems_mapped, top_elems, sorted(corr))\n",
    "    ]"
   ]
  },
  {
   "cell_type": "code",
   "execution_count": 18,
   "id": "4457e552-c69c-4283-8ab2-9accc2541dc5",
   "metadata": {},
   "outputs": [
    {
     "data": {
      "text/plain": [
       "[(-0.7992307692307692,\n",
       "  'market for blasting' (kilogram, GLO, None),\n",
       "  'tungsten mine operation and beneficiation' (kilogram, RoW, None),\n",
       "  (1557, 15323)),\n",
       " (-0.7584615384615384,\n",
       "  'market for waste wood, untreated' (kilogram, MK, None),\n",
       "  'orange production, fresh grade' (kilogram, RoW, None),\n",
       "  (18291, 8902)),\n",
       " (-0.7576923076923077,\n",
       "  'market for synthetic rubber' (kilogram, GLO, None),\n",
       "  'room-connecting overflow element production, steel, approx. 40 m3/h' (unit, RER, None),\n",
       "  (6104, 5560)),\n",
       " (-0.7569230769230769,\n",
       "  'market for electricity, low voltage' (kilowatt hour, AZ, None),\n",
       "  'water pump operation, electric' (megajoule, RoW, None),\n",
       "  (9053, 11143)),\n",
       " (-0.7492307692307693,\n",
       "  'market for transport, freight, inland waterways, barge' (ton kilometer, RoW, None),\n",
       "  'market for ferrous metal, in mixed metal scrap' (kilogram, RoW, None),\n",
       "  (5, 16813)),\n",
       " (-0.7415384615384616,\n",
       "  'market for waste mineral oil' (kilogram, Europe without Switzerland, None),\n",
       "  'heat and power co-generation, oil' (megajoule, IT, None),\n",
       "  (3449, 4580)),\n",
       " (-0.7338461538461539,\n",
       "  'market for heat, district or industrial, other than natural gas' (megajoule, CH, None),\n",
       "  'sand-lime brick production' (kilogram, RoW, None),\n",
       "  (12773, 5202)),\n",
       " (-0.7223076923076923,\n",
       "  'market group for tap water' (kilogram, GLO, None),\n",
       "  'polydimethylsiloxane production' (kilogram, GLO, None),\n",
       "  (17922, 18669)),\n",
       " (-0.7192307692307691,\n",
       "  'market for irrigation' (cubic meter, CO, None),\n",
       "  'apple production' (kilogram, RoW, None),\n",
       "  (11592, 10368)),\n",
       " (-0.7184615384615384,\n",
       "  'market group for transport, freight train' (ton kilometer, GLO, None),\n",
       "  'market for stucco' (kilogram, GLO, None),\n",
       "  (3814, 7531))]"
      ]
     },
     "execution_count": 18,
     "metadata": {},
     "output_type": "execute_result"
    }
   ],
   "source": [
    "get_sensitive_exchanges(corr, lca, 10)"
   ]
  },
  {
   "cell_type": "code",
   "execution_count": 40,
   "id": "0100f4fd-80cc-4b26-ab4f-6dcb3b5d8ca3",
   "metadata": {},
   "outputs": [
    {
     "name": "stdout",
     "output_type": "stream",
     "text": [
      "Fraction of score | Absolute score | Amount | Activity\n",
      "0001 | 0.858 |     1 | 'electricity production, oil' (kilowatt hour, CN-ZJ, None)\n",
      "  0.000161 | 0.0001379 | -0.0001442 | 'market for municipal solid waste' (kilogram, RoW, None)\n",
      "  0.00226 | 0.001937 | 1.184e-11 | 'market for oil power plant, 500MW' (unit, GLO, None)\n",
      "    0.00027 | 0.0002314 | 1.588e-12 | 'oil power plant construction, 500MW' (unit, RER, None)\n",
      "      0.000134 | 0.0001151 | 5.24e-05 | 'market for reinforcing steel' (kilogram, GLO, None)\n",
      "    0.00199 | 0.001706 | 1.025e-11 | 'oil power plant construction, 500MW' (unit, RoW, None)\n",
      "      0.000866 | 0.0007427 | 0.0003382 | 'market for reinforcing steel' (kilogram, GLO, None)\n",
      "        0.000266 | 0.0002281 | 0.0001075 | 'reinforcing steel production' (kilogram, Europe without Austria, None\n",
      "        0.000582 | 0.0004997 | 0.0002286 | 'reinforcing steel production' (kilogram, RoW, None)\n",
      "      0.000298 | 0.0002554 | 0.002767 | 'market for diesel, burned in building machine' (megajoule, GLO, None)\n",
      "        0.000298 | 0.0002554 | 0.002767 | 'diesel, burned in building machine' (megajoule, GLO, None)\n",
      "      0.000154 | 0.0001325 | 4.677e-07 | 'market for concrete, normal' (cubic meter, RoW, None)\n",
      "        0.000154 | 0.0001322 | 4.666e-07 | 'concrete, all types to generic market for concrete, normal strength' \n",
      "      0.000346 | 0.0002973 | 0.002628 | 'market for heat, district or industrial, other than natural gas' (meg\n",
      "        0.000308 | 0.000264 | 0.001911 | 'heat production, at hard coal industrial furnace 1-10MW' (megajoule, \n",
      "  0.0982 | 0.08423 | 0.2336 | 'market for heavy fuel oil' (kilogram, RoW, None)\n",
      "    0.000392 | 0.0003364 | 0.007546 | 'market for transport, freight, inland waterways, barge tanker' (ton k\n",
      "      0.000392 | 0.0003364 | 0.007546 | 'transport, freight, inland waterways, barge tanker' (ton kilometer, R\n",
      "    0.000168 | 0.0001442 | 2.43e-11 | 'market for infrastructure, for regional distribution of oil product' \n",
      "      0.000113 | 9.686e-05 | 1.626e-11 | 'infrastructure construction, for regional distribution of oil product\n",
      "        0.000101 | 8.666e-05 | 2.326e-07 | 'market for building, hall' (square meter, GLO, None)\n",
      "    0.00316 | 0.002707 | 0.1306 | 'market for transport, pipeline, onshore, petroleum' (ton kilometer, R\n",
      "      0.00316 | 0.002707 | 0.1306 | 'transport, pipeline, onshore, petroleum' (ton kilometer, RoW, None)\n",
      "        0.000873 | 0.0007491 | 1.235e-09 | 'market for pipeline, petroleum' (kilometer, GLO, None)\n",
      "        0.00169 | 0.001446 | 0.001541 | 'market group for electricity, medium voltage' (kilowatt hour, RAS, No\n",
      "        0.000384 | 0.0003296 | 0.0007079 | 'market group for electricity, medium voltage' (kilowatt hour, RNA, No\n",
      "    0.000735 | 0.0006303 | 0.0004205 | 'market for transport, freight, light commercial vehicle' (ton kilomet\n",
      "      0.000735 | 0.0006303 | 0.0004205 | 'transport, freight, light commercial vehicle' (ton kilometer, CH, Non\n",
      "    0.00107 | 0.0009178 | 0.1507 | 'market for transport, freight, sea, tanker for petroleum' (ton kilome\n",
      "      0.00107 | 0.0009178 | 0.1507 | 'transport, freight, sea, tanker for petroleum' (ton kilometer, GLO, N\n",
      "    0.00213 | 0.001828 | 0.01325 | 'market for transport, freight, lorry, unspecified' (ton kilometer, Ro\n",
      "      0.000888 | 0.0007622 | 0.005378 | 'transport, freight, lorry, all sizes, EURO3 to generic market for tra\n",
      "        0.000366 | 0.0003138 | 0.003321 | 'market for transport, freight, lorry >32 metric ton, EURO3' (ton kilo\n",
      "        0.000323 | 0.0002767 | 0.001596 | 'market for transport, freight, lorry 16-32 metric ton, EURO3' (ton ki\n",
      "        0.000134 | 0.0001147 | 0.0002103 | 'market for transport, freight, lorry 3.5-7.5 metric ton, EURO3' (ton \n",
      "      0.000706 | 0.0006057 | 0.004547 | 'transport, freight, lorry, all sizes, EURO4 to generic market for tra\n",
      "        0.00029 | 0.0002486 | 0.001447 | 'market for transport, freight, lorry 16-32 metric ton, EURO4' (ton ki\n",
      "        0.000308 | 0.0002639 | 0.002842 | 'market for transport, freight, lorry >32 metric ton, EURO4' (ton kilo\n",
      "      0.000492 | 0.0004218 | 0.003037 | 'transport, freight, lorry, all sizes, EURO5 to generic market for tra\n",
      "        0.000214 | 0.0001832 | 0.001955 | 'market for transport, freight, lorry >32 metric ton, EURO5' (ton kilo\n",
      "        0.000165 | 0.0001418 | 0.0008178 | 'market for transport, freight, lorry 16-32 metric ton, EURO5' (ton ki\n",
      "    0.0884 | 0.07585 | 0.2336 | 'heavy fuel oil production, petroleum refinery operation' (kilogram, R\n",
      "      0.000259 | 0.0002225 | -0.0001061 | 'market for refinery sludge' (kilogram, CH, None)\n",
      "        0.000129 | 0.0001111 | -5.307e-05 | 'treatment of refinery sludge, hazardous waste incineration, with ener\n",
      "        0.000129 | 0.0001111 | -5.307e-05 | 'treatment of refinery sludge, hazardous waste incineration' (kilogram\n",
      "      0.00018 | 0.0001544 | -6.437e-05 | 'market for hazardous waste, for incineration' (kilogram, CH, None)\n",
      "      0.062 | 0.05323 | 0.2291 | 'market for petroleum' (kilogram, GLO, None)\n",
      "        0.00069 | 0.0005919 | 0.01337 | 'market group for transport, freight, inland waterways, barge tanker' \n",
      "        0.00594 | 0.005096 | 0.8366 | 'market for transport, freight, sea, tanker for petroleum' (ton kilome\n",
      "        0.00287 | 0.00246 | 0.007015 | 'petroleum production, onshore' (kilogram, RAF, None)\n",
      "        0.0103 | 0.008825 | 0.06898 | 'petroleum production, onshore' (kilogram, RME, None)\n",
      "        0.0211 | 0.01808 | 0.02952 | 'petroleum production, onshore' (kilogram, RU, None)\n",
      "        0.00328 | 0.002813 | 0.009061 | 'petroleum production, onshore' (kilogram, RoW, None)\n",
      "        0.000315 | 0.0002705 | 0.001919 | 'petroleum and gas production, off-shore' (kilogram, BR, None)\n",
      "        0.000674 | 0.0005783 | 0.003992 | 'petroleum and gas production, on-shore' (kilogram, CA-AB, None)\n",
      "        0.000661 | 0.0005669 | 0.0007011 | 'petroleum and gas production, on-shore' (kilogram, NG, None)\n",
      "        0.000389 | 0.0003338 | 0.002304 | 'petroleum and gas production, on-shore' (kilogram, US, None)\n",
      "        0.00232 | 0.001992 | 0.02908 | 'petroleum and gas production, off-shore' (kilogram, RoW, None)\n",
      "        0.0133 | 0.01143 | 0.07316 | 'petroleum and gas production, on-shore' (kilogram, RoW, None)\n",
      "      0.000127 | 0.000109 | 0.0002399 | 'market for natural gas, high pressure' (cubic meter, US, None)\n",
      "    0.000267 | 0.0002295 | 0.004913 | 'market for transport, freight train' (ton kilometer, CN, None)\n",
      "      0.00017 | 0.0001461 | 0.003424 | 'transport, freight train, diesel' (ton kilometer, CN, None)\n",
      "    0.000361 | 0.0003097 | 0.005366 | 'market for transport, freight train' (ton kilometer, US, None)\n",
      "      0.000361 | 0.0003097 | 0.005366 | 'transport, freight train, diesel' (ton kilometer, US, None)\n",
      "    0.00106 | 0.000911 | 0.000925 | 'market group for electricity, low voltage' (kilowatt hour, RAS, None)\n",
      "      0.000544 | 0.0004669 | 0.0004388 | 'market group for electricity, low voltage' (kilowatt hour, CN, None)\n",
      "        0.000511 | 0.0004382 | 0.0003988 | 'market for electricity, low voltage' (kilowatt hour, CN-SGCC, None)\n",
      "      0.000191 | 0.0001638 | 0.0001061 | 'market group for electricity, low voltage' (kilowatt hour, IN, None)\n",
      "    0.000238 | 0.0002044 | 0.0004297 | 'market group for electricity, low voltage' (kilowatt hour, RNA, None)\n",
      "      0.000227 | 0.0001945 | 0.0003818 | 'market group for electricity, low voltage' (kilowatt hour, US, None)\n",
      "  0.0011 | 0.0009447 | -0.0005249 | 'market for waste mineral oil' (kilogram, RoW, None)\n",
      "    0.00055 | 0.0004717 | -0.0001657 | 'treatment of waste mineral oil, hazardous waste incineration, with en\n",
      "    0.000549 | 0.0004714 | -0.0001656 | 'treatment of waste mineral oil, hazardous waste incineration' (kilogr\n",
      "  0.00364 | 0.003127 | 0.0006054 | 'market for ammonia, anhydrous, liquid' (kilogram, CN, None)\n",
      "    0.00336 | 0.002883 | 0.0005267 | 'ammonia production, partial oxidation, liquid' (kilogram, CN, None)\n",
      "      0.00124 | 0.001063 | 0.007005 | 'heat production, at coal coke industrial furnace 1-10MW' (megajoule, \n",
      "        0.000264 | 0.0002262 | 0.008756 | 'market for coke' (megajoule, GLO, None)\n",
      "      0.00036 | 0.000309 | 0.0005372 | 'market for hard coal' (kilogram, CN, None)\n",
      "        0.000322 | 0.0002761 | 0.0005183 | 'hard coal mine operation and hard coal preparation' (kilogram, CN, No\n",
      "    0.000254 | 0.000218 | 7.87e-05 | 'ammonia production, steam reforming, liquid' (kilogram, CN, None)\n"
     ]
    }
   ],
   "source": [
    "ba.print_recursive_calculation(act, gwp, max_level=4, cutoff=1e-4)"
   ]
  }
 ],
 "metadata": {
  "kernelspec": {
   "display_name": "Python [conda env:bw25]",
   "language": "python",
   "name": "conda-env-bw25-py"
  },
  "language_info": {
   "codemirror_mode": {
    "name": "ipython",
    "version": 3
   },
   "file_extension": ".py",
   "mimetype": "text/x-python",
   "name": "python",
   "nbconvert_exporter": "python",
   "pygments_lexer": "ipython3",
   "version": "3.10.6"
  }
 },
 "nbformat": 4,
 "nbformat_minor": 5
}
